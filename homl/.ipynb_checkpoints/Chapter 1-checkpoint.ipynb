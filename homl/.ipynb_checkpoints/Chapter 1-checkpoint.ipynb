{
 "cells": [
  {
   "cell_type": "code",
   "execution_count": 16,
   "metadata": {},
   "outputs": [],
   "source": [
    "import matplotlib\n",
    "import matplotlib.pyplot as plt\n",
    "import numpy as np\n",
    "import pandas as pd\n",
    "from sklearn import *\n"
   ]
  },
  {
   "cell_type": "code",
   "execution_count": 43,
   "metadata": {},
   "outputs": [
    {
     "data": {
      "text/html": [
       "<div>\n",
       "<style scoped>\n",
       "    .dataframe tbody tr th:only-of-type {\n",
       "        vertical-align: middle;\n",
       "    }\n",
       "\n",
       "    .dataframe tbody tr th {\n",
       "        vertical-align: top;\n",
       "    }\n",
       "\n",
       "    .dataframe thead th {\n",
       "        text-align: right;\n",
       "    }\n",
       "</style>\n",
       "<table border=\"1\" class=\"dataframe\">\n",
       "  <thead>\n",
       "    <tr style=\"text-align: right;\">\n",
       "      <th></th>\n",
       "      <th>GDP per capita</th>\n",
       "      <th>Life satisfaction</th>\n",
       "    </tr>\n",
       "  </thead>\n",
       "  <tbody>\n",
       "    <tr>\n",
       "      <th>0</th>\n",
       "      <td>22936.674460</td>\n",
       "      <td>21767.012000</td>\n",
       "    </tr>\n",
       "    <tr>\n",
       "      <th>1</th>\n",
       "      <td>21596.530815</td>\n",
       "      <td>8009.014627</td>\n",
       "    </tr>\n",
       "    <tr>\n",
       "      <th>2</th>\n",
       "      <td>33257.943600</td>\n",
       "      <td>28623.390300</td>\n",
       "    </tr>\n",
       "    <tr>\n",
       "      <th>3</th>\n",
       "      <td>54353.103300</td>\n",
       "      <td>34953.982700</td>\n",
       "    </tr>\n",
       "    <tr>\n",
       "      <th>4</th>\n",
       "      <td>44168.999970</td>\n",
       "      <td>11794.885544</td>\n",
       "    </tr>\n",
       "  </tbody>\n",
       "</table>\n",
       "</div>"
      ],
      "text/plain": [
       "   GDP per capita  Life satisfaction\n",
       "0    22936.674460       21767.012000\n",
       "1    21596.530815        8009.014627\n",
       "2    33257.943600       28623.390300\n",
       "3    54353.103300       34953.982700\n",
       "4    44168.999970       11794.885544"
      ]
     },
     "execution_count": 43,
     "metadata": {},
     "output_type": "execute_result"
    }
   ],
   "source": [
    "data_in = pd.read_csv('ex1_1.csv')\n",
    "data_in.head()\n",
    "\n"
   ]
  },
  {
   "cell_type": "code",
   "execution_count": 44,
   "metadata": {},
   "outputs": [
    {
     "data": {
      "text/plain": [
       "\"\\n\\nimport random\\n\\nl = 15\\nxl = []\\nyl = []\\n\\nfor i in range(l):\\n    m = random.random()\\n\\n    b = random.random()\\n    xx = random.random()\\n    rx = xx*100000\\n    ry = m*rx + b\\n    xl.append(rx)\\n    yl.append(ry)\\n\\nx = xl\\ny = yl\\n\\ndata_in = pd.DataFrame(\\n    {'GDP per capita': xl,\\n     'Life satisfaction': yl\\n    })\\n    \""
      ]
     },
     "execution_count": 44,
     "metadata": {},
     "output_type": "execute_result"
    }
   ],
   "source": [
    "x = np.c_[data_in[\"GDP per capita\"]]\n",
    "y = np.c_[data_in[\"Life satisfaction\"]]\n",
    "\n",
    "'''\n",
    "\n",
    "import random\n",
    "\n",
    "l = 15\n",
    "xl = []\n",
    "yl = []\n",
    "\n",
    "for i in range(l):\n",
    "    m = random.random()\n",
    "\n",
    "    b = random.random()\n",
    "    xx = random.random()\n",
    "    rx = xx*100000\n",
    "    ry = m*rx + b\n",
    "    xl.append(rx)\n",
    "    yl.append(ry)\n",
    "\n",
    "x = xl\n",
    "y = yl\n",
    "\n",
    "data_in = pd.DataFrame(\n",
    "    {'GDP per capita': xl,\n",
    "     'Life satisfaction': yl\n",
    "    })\n",
    "    '''"
   ]
  },
  {
   "cell_type": "code",
   "execution_count": 45,
   "metadata": {},
   "outputs": [
    {
     "data": {
      "text/plain": [
       "<matplotlib.axes._subplots.AxesSubplot at 0xf32bf0>"
      ]
     },
     "execution_count": 45,
     "metadata": {},
     "output_type": "execute_result"
    },
    {
     "data": {
      "image/png": "[encoded data removed]",
      "text/plain": [
       "<Figure size 432x288 with 1 Axes>"
      ]
     },
     "metadata": {
      "needs_background": "light"
     },
     "output_type": "display_data"
    }
   ],
   "source": [
    "data_in.plot(kind='scatter',x=\"GDP per capita\",y=\"Life satisfaction\")"
   ]
  },
  {
   "cell_type": "code",
   "execution_count": 50,
   "metadata": {},
   "outputs": [],
   "source": [
    "model_l = sklearn.linear_model.LinearRegression()\n",
    "model_k = sklearn.neighbors.KNeighborsRegressor(n_neighbors=3)"
   ]
  },
  {
   "cell_type": "code",
   "execution_count": 40,
   "metadata": {},
   "outputs": [
    {
     "data": {
      "text/plain": [
       "[21767.01263421012,\n",
       " 8009.014627058244,\n",
       " 28623.390315432265,\n",
       " 34953.98270454777,\n",
       " 11794.885544207908,\n",
       " 25883.877248486922,\n",
       " 61800.686478871205,\n",
       " 7528.112832116671,\n",
       " 39281.60276986949,\n",
       " 20540.048372057452,\n",
       " 9199.286902435688,\n",
       " 4998.753908319819,\n",
       " 43850.94475760703,\n",
       " 30649.990931276057,\n",
       " 36685.02614719725]"
      ]
     },
     "execution_count": 40,
     "metadata": {},
     "output_type": "execute_result"
    }
   ],
   "source": [
    "y"
   ]
  },
  {
   "cell_type": "code",
   "execution_count": 53,
   "metadata": {},
   "outputs": [
    {
     "data": {
      "text/plain": [
       "KNeighborsRegressor(algorithm='auto', leaf_size=30, metric='minkowski',\n",
       "          metric_params=None, n_jobs=None, n_neighbors=3, p=2,\n",
       "          weights='uniform')"
      ]
     },
     "execution_count": 53,
     "metadata": {},
     "output_type": "execute_result"
    }
   ],
   "source": [
    "model_l.fit(x,y)\n",
    "model_k.fit(x,y)"
   ]
  },
  {
   "cell_type": "code",
   "execution_count": 54,
   "metadata": {},
   "outputs": [],
   "source": [
    "X_new = [[12400]]"
   ]
  },
  {
   "cell_type": "code",
   "execution_count": 58,
   "metadata": {},
   "outputs": [],
   "source": [
    "ny_l = model_l.predict(X_new)\n",
    "ny_k = model_k.predict(X_new)"
   ]
  },
  {
   "cell_type": "code",
   "execution_count": 61,
   "metadata": {},
   "outputs": [
    {
     "data": {
      "text/plain": [
       "[<matplotlib.lines.Line2D at 0x13e5370>]"
      ]
     },
     "execution_count": 61,
     "metadata": {},
     "output_type": "execute_result"
    },
    {
     "data": {
      "image/png": "[encoded data removed]",
      "text/plain": [
       "<Figure size 432x288 with 1 Axes>"
      ]
     },
     "metadata": {
      "needs_background": "light"
     },
     "output_type": "display_data"
    }
   ],
   "source": [
    "data_in.plot(kind='scatter',x=\"GDP per capita\",y=\"Life satisfaction\")\n",
    "plt.plot(X_new,ny_l,'r+')\n",
    "plt.plot(X_new,ny_k,'y+')"
   ]
  },
  {
   "cell_type": "code",
   "execution_count": null,
   "metadata": {},
   "outputs": [],
   "source": []
  }
 ],
 "metadata": {
  "kernelspec": {
   "display_name": "Python 3",
   "language": "python",
   "name": "python3"
  },
  "language_info": {
   "codemirror_mode": {
    "name": "ipython",
    "version": 3
   },
   "file_extension": ".py",
   "mimetype": "text/x-python",
   "name": "python",
   "nbconvert_exporter": "python",
   "pygments_lexer": "ipython3",
   "version": "3.7.1"
  }
 },
 "nbformat": 4,
 "nbformat_minor": 2
}
