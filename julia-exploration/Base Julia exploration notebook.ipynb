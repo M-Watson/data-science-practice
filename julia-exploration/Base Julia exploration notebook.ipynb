{
 "cells": [
  {
   "cell_type": "markdown",
   "metadata": {},
   "source": [
    "# Base usage\n",
    "\n",
    "\n",
    "## Data handling\n",
    "\n",
    "### Import/Export\n",
    "* Read CSV\n",
    "* Write CSV\n",
    "\n",
    "## Plotting\n",
    "https://en.wikibooks.org/wiki/Introducing_Julia/Plotting\n"
   ]
  },
  {
   "cell_type": "code",
   "execution_count": 42,
   "metadata": {
    "collapsed": false
   },
   "outputs": [
    {
     "ename": "ArgumentError",
     "evalue": "ArgumentError: Package PyPlots not found in current path:\n- Run `Pkg.add(\"PyPlots\")` to install the PyPlots package.\n",
     "output_type": "error",
     "traceback": [
      "ArgumentError: Package PyPlots not found in current path:\n- Run `Pkg.add(\"PyPlots\")` to install the PyPlots package.\n",
      "",
      "Stacktrace:",
      " [1] require(::Module, ::Symbol) at .\\loading.jl:817",
      " [2] top-level scope at In[42]:4"
     ]
    }
   ],
   "source": [
    "#https://juliadata.github.io/CSV.jl/stable/index.html\n",
    "#Pkg.add(\"PyPlot\")\n",
    "using Plots\n"
   ]
  },
  {
   "cell_type": "code",
   "execution_count": 36,
   "metadata": {
    "collapsed": false
   },
   "outputs": [
    {
     "data": {
      "text/plain": [
       "2×2 Array{Int64,2}:\n",
       " 1  0\n",
       " 0  0"
      ]
     },
     "execution_count": 36,
     "metadata": {},
     "output_type": "execute_result"
    }
   ],
   "source": [
    "a =[1 2;5 6]\n",
    "b = [1 0 ; 0 0]"
   ]
  },
  {
   "cell_type": "code",
   "execution_count": 24,
   "metadata": {
    "collapsed": false
   },
   "outputs": [
    {
     "data": {
      "text/plain": [
       "2×2 Array{Int64,2}:\n",
       " 1  0\n",
       " 5  0"
      ]
     },
     "execution_count": 24,
     "metadata": {},
     "output_type": "execute_result"
    }
   ],
   "source": [
    "a*b\n"
   ]
  },
  {
   "cell_type": "code",
   "execution_count": 26,
   "metadata": {
    "collapsed": false,
    "scrolled": true
   },
   "outputs": [
    {
     "name": "stdout",
     "output_type": "stream",
     "text": [
      "search: \u001b[0m\u001b[1mp\u001b[22mrevf\u001b[0m\u001b[1ml\u001b[22m\u001b[0m\u001b[1mo\u001b[22ma\u001b[0m\u001b[1mt\u001b[22m \u001b[0m\u001b[1mp\u001b[22martia\u001b[0m\u001b[1ml\u001b[22ms\u001b[0m\u001b[1mo\u001b[22mr\u001b[0m\u001b[1mt\u001b[22m \u001b[0m\u001b[1mp\u001b[22martia\u001b[0m\u001b[1ml\u001b[22ms\u001b[0m\u001b[1mo\u001b[22mr\u001b[0m\u001b[1mt\u001b[22m! \u001b[0m\u001b[1mp\u001b[22martia\u001b[0m\u001b[1ml\u001b[22ms\u001b[0m\u001b[1mo\u001b[22mr\u001b[0m\u001b[1mt\u001b[22mperm \u001b[0m\u001b[1mp\u001b[22martia\u001b[0m\u001b[1ml\u001b[22ms\u001b[0m\u001b[1mo\u001b[22mr\u001b[0m\u001b[1mt\u001b[22mperm!\n",
      "\n",
      "Couldn't find \u001b[36mplot\u001b[39m\n",
      "Perhaps you meant split, prod, acot, cot, float, log, let, rsplit, pi or pop!\n"
     ]
    },
    {
     "data": {
      "text/markdown": [
       "No documentation found.\n",
       "\n",
       "Binding `plot` does not exist.\n"
      ],
      "text/plain": [
       "  No documentation found.\n",
       "\n",
       "  Binding \u001b[36mplot\u001b[39m does not exist."
      ]
     },
     "execution_count": 26,
     "metadata": {},
     "output_type": "execute_result"
    }
   ],
   "source": []
  },
  {
   "cell_type": "code",
   "execution_count": 45,
   "metadata": {
    "collapsed": false,
    "scrolled": true
   },
   "outputs": [
    {
     "data": {
      "application/vnd.plotly.v1+json": {
       "data": [
        {
         "colorbar": {
          "title": ""
         },
         "hoverinfo": "text",
         "legendgroup": "y1",
         "line": {
          "color": "rgba(0, 154, 250, 1.000)",
          "dash": "solid",
          "shape": "linear",
          "width": 2
         },
         "mode": "lines",
         "name": "y1",
         "showlegend": true,
         "text": [
          null,
          null,
          null,
          null,
          null
         ],
         "type": "scatter",
         "x": [
          1,
          2,
          3,
          4,
          5
         ],
         "xaxis": "x1",
         "y": [
          0.8009599637131157,
          0.2889451252420965,
          0.9297305281594812,
          0.6580527207524798,
          0.09618055575677542
         ],
         "yaxis": "y1",
         "zmax": 0.1,
         "zmin": -0.1
        },
        {
         "colorbar": {
          "title": ""
         },
         "hoverinfo": "text",
         "legendgroup": "y2",
         "line": {
          "color": "rgba(227, 111, 71, 1.000)",
          "dash": "solid",
          "shape": "linear",
          "width": 2
         },
         "mode": "lines",
         "name": "y2",
         "showlegend": true,
         "text": [
          null,
          null,
          null,
          null,
          null
         ],
         "type": "scatter",
         "x": [
          1,
          2,
          3,
          4,
          5
         ],
         "xaxis": "x1",
         "y": [
          0.47366326882607024,
          0.17493750779875694,
          0.90585790097654,
          0.8280423729633564,
          0.8681974612717653
         ],
         "yaxis": "y1",
         "zmax": 0.1,
         "zmin": -0.1
        },
        {
         "colorbar": {
          "title": ""
         },
         "hoverinfo": "text",
         "legendgroup": "y3",
         "line": {
          "color": "rgba(62, 164, 78, 1.000)",
          "dash": "solid",
          "shape": "linear",
          "width": 2
         },
         "mode": "lines",
         "name": "y3",
         "showlegend": true,
         "text": [
          null,
          null,
          null,
          null,
          null
         ],
         "type": "scatter",
         "x": [
          1,
          2,
          3,
          4,
          5
         ],
         "xaxis": "x1",
         "y": [
          0.2993123045741415,
          0.9947645328498849,
          0.29528480274257074,
          0.8085291125787006,
          0.5439380897354611
         ],
         "yaxis": "y1",
         "zmax": 0.1,
         "zmin": -0.1
        },
        {
         "colorbar": {
          "title": ""
         },
         "hoverinfo": "text",
         "legendgroup": "y4",
         "line": {
          "color": "rgba(195, 113, 210, 1.000)",
          "dash": "solid",
          "shape": "linear",
          "width": 2
         },
         "mode": "lines",
         "name": "y4",
         "showlegend": true,
         "text": [
          null,
          null,
          null,
          null,
          null
         ],
         "type": "scatter",
         "x": [
          1,
          2,
          3,
          4,
          5
         ],
         "xaxis": "x1",
         "y": [
          0.543990099509754,
          0.42138464446956614,
          0.27934533450423094,
          0.6587653428380105,
          0.42513066869725935
         ],
         "yaxis": "y1",
         "zmax": 0.1,
         "zmin": -0.1
        },
        {
         "colorbar": {
          "title": ""
         },
         "hoverinfo": "text",
         "legendgroup": "y5",
         "line": {
          "color": "rgba(172, 142, 24, 1.000)",
          "dash": "solid",
          "shape": "linear",
          "width": 2
         },
         "mode": "lines",
         "name": "y5",
         "showlegend": true,
         "text": [
          null,
          null,
          null,
          null,
          null
         ],
         "type": "scatter",
         "x": [
          1,
          2,
          3,
          4,
          5
         ],
         "xaxis": "x1",
         "y": [
          0.14177524458994717,
          0.36074478485219896,
          0.4328225215404109,
          0.04212745988250277,
          0.028111924995398274
         ],
         "yaxis": "y1",
         "zmax": 0.1,
         "zmin": -0.1
        }
       ],
       "layout": {
        "annotations": [
         {
          "font": {
           "color": "rgba(0, 0, 0, 1.000)",
           "family": "sans-serif",
           "size": 20
          },
          "rotation": 0,
          "showarrow": false,
          "text": "My Plot",
          "x": 0.5296296296296296,
          "xanchor": "center",
          "xref": "paper",
          "y": 1,
          "yanchor": "top",
          "yref": "paper"
         }
        ],
        "height": 400,
        "legend": {
         "bgcolor": "rgba(255, 255, 255, 1.000)",
         "bordercolor": "rgba(0, 0, 0, 1.000)",
         "font": {
          "color": "rgba(0, 0, 0, 1.000)",
          "family": "sans-serif",
          "size": 11
         },
         "tracegroupgap": 0,
         "x": 1,
         "y": 1
        },
        "margin": {
         "b": 20,
         "l": 0,
         "r": 0,
         "t": 20
        },
        "paper_bgcolor": "rgba(255, 255, 255, 1.000)",
        "plot_bgcolor": "rgba(255, 255, 255, 1.000)",
        "showlegend": true,
        "width": 600,
        "xaxis": {
         "anchor": "y1",
         "domain": [
          0.0658209390492855,
          0.9934383202099738
         ],
         "gridcolor": "rgba(0, 0, 0, 0.100)",
         "gridwidth": 0.5,
         "linecolor": "rgba(0, 0, 0, 1.000)",
         "mirror": false,
         "range": [
          0.88,
          5.12
         ],
         "showgrid": true,
         "showline": true,
         "showticklabels": true,
         "tickangle": 0,
         "tickcolor": "rgb(0, 0, 0)",
         "tickfont": {
          "color": "rgba(0, 0, 0, 1.000)",
          "family": "sans-serif",
          "size": 11
         },
         "tickmode": "array",
         "ticks": "inside",
         "ticktext": [
          "1",
          "2",
          "3",
          "4",
          "5"
         ],
         "tickvals": [
          1,
          2,
          3,
          4,
          5
         ],
         "title": "",
         "titlefont": {
          "color": "rgba(0, 0, 0, 1.000)",
          "family": "sans-serif",
          "size": 15
         },
         "type": "-",
         "visible": true,
         "zeroline": false,
         "zerolinecolor": "rgba(0, 0, 0, 1.000)"
        },
        "yaxis": {
         "anchor": "x1",
         "domain": [
          0.03762029746281716,
          0.9415463692038496
         ],
         "gridcolor": "rgba(0, 0, 0, 0.100)",
         "gridwidth": 0.5,
         "linecolor": "rgba(0, 0, 0, 1.000)",
         "mirror": false,
         "range": [
          -0.0008876532402363226,
          1.0237641110855196
         ],
         "showgrid": true,
         "showline": true,
         "showticklabels": true,
         "tickangle": 0,
         "tickcolor": "rgb(0, 0, 0)",
         "tickfont": {
          "color": "rgba(0, 0, 0, 1.000)",
          "family": "sans-serif",
          "size": 11
         },
         "tickmode": "array",
         "ticks": "inside",
         "ticktext": [
          "0.00",
          "0.25",
          "0.50",
          "0.75",
          "1.00"
         ],
         "tickvals": [
          0,
          0.25,
          0.5,
          0.75,
          1
         ],
         "title": "",
         "titlefont": {
          "color": "rgba(0, 0, 0, 1.000)",
          "family": "sans-serif",
          "size": 15
         },
         "type": "-",
         "visible": true,
         "zeroline": false,
         "zerolinecolor": "rgba(0, 0, 0, 1.000)"
        }
       }
      },
      "text/html": [
       "<script src=\"file://C:\\Users\\mwatson\\.julia\\packages\\Plots\\UtVfv\\src\\backends\\..\\..\\deps\\plotly-latest.min.js\"></script>    <div id=\"caa9f4bb-05de-4247-bb3f-c6f6885f9075\" style=\"width:600px;height:400px;\"></div>\n",
       "    <script>\n",
       "    PLOT = document.getElementById('caa9f4bb-05de-4247-bb3f-c6f6885f9075');\n",
       "    Plotly.plot(PLOT, [{\"xaxis\":\"x1\",\"colorbar\":{\"title\":\"\"},\"yaxis\":\"y1\",\"text\":[null,null,null,null,null],\"x\":[1,2,3,4,5],\"showlegend\":true,\"mode\":\"lines\",\"name\":\"y1\",\"zmin\":-0.1,\"legendgroup\":\"y1\",\"zmax\":0.1,\"line\":{\"color\":\"rgba(0, 154, 250, 1.000)\",\"shape\":\"linear\",\"dash\":\"solid\",\"width\":2},\"y\":[0.8009599637131157,0.2889451252420965,0.9297305281594812,0.6580527207524798,0.09618055575677542],\"type\":\"scatter\",\"hoverinfo\":\"text\"},{\"xaxis\":\"x1\",\"colorbar\":{\"title\":\"\"},\"yaxis\":\"y1\",\"text\":[null,null,null,null,null],\"x\":[1,2,3,4,5],\"showlegend\":true,\"mode\":\"lines\",\"name\":\"y2\",\"zmin\":-0.1,\"legendgroup\":\"y2\",\"zmax\":0.1,\"line\":{\"color\":\"rgba(227, 111, 71, 1.000)\",\"shape\":\"linear\",\"dash\":\"solid\",\"width\":2},\"y\":[0.47366326882607024,0.17493750779875694,0.90585790097654,0.8280423729633564,0.8681974612717653],\"type\":\"scatter\",\"hoverinfo\":\"text\"},{\"xaxis\":\"x1\",\"colorbar\":{\"title\":\"\"},\"yaxis\":\"y1\",\"text\":[null,null,null,null,null],\"x\":[1,2,3,4,5],\"showlegend\":true,\"mode\":\"lines\",\"name\":\"y3\",\"zmin\":-0.1,\"legendgroup\":\"y3\",\"zmax\":0.1,\"line\":{\"color\":\"rgba(62, 164, 78, 1.000)\",\"shape\":\"linear\",\"dash\":\"solid\",\"width\":2},\"y\":[0.2993123045741415,0.9947645328498849,0.29528480274257074,0.8085291125787006,0.5439380897354611],\"type\":\"scatter\",\"hoverinfo\":\"text\"},{\"xaxis\":\"x1\",\"colorbar\":{\"title\":\"\"},\"yaxis\":\"y1\",\"text\":[null,null,null,null,null],\"x\":[1,2,3,4,5],\"showlegend\":true,\"mode\":\"lines\",\"name\":\"y4\",\"zmin\":-0.1,\"legendgroup\":\"y4\",\"zmax\":0.1,\"line\":{\"color\":\"rgba(195, 113, 210, 1.000)\",\"shape\":\"linear\",\"dash\":\"solid\",\"width\":2},\"y\":[0.543990099509754,0.42138464446956614,0.27934533450423094,0.6587653428380105,0.42513066869725935],\"type\":\"scatter\",\"hoverinfo\":\"text\"},{\"xaxis\":\"x1\",\"colorbar\":{\"title\":\"\"},\"yaxis\":\"y1\",\"text\":[null,null,null,null,null],\"x\":[1,2,3,4,5],\"showlegend\":true,\"mode\":\"lines\",\"name\":\"y5\",\"zmin\":-0.1,\"legendgroup\":\"y5\",\"zmax\":0.1,\"line\":{\"color\":\"rgba(172, 142, 24, 1.000)\",\"shape\":\"linear\",\"dash\":\"solid\",\"width\":2},\"y\":[0.14177524458994717,0.36074478485219896,0.4328225215404109,0.04212745988250277,0.028111924995398274],\"type\":\"scatter\",\"hoverinfo\":\"text\"}], {\"showlegend\":true,\"xaxis\":{\"showticklabels\":true,\"gridwidth\":0.5,\"tickvals\":[1.0,2.0,3.0,4.0,5.0],\"visible\":true,\"ticks\":\"inside\",\"range\":[0.88,5.12],\"domain\":[0.0658209390492855,0.9934383202099738],\"tickmode\":\"array\",\"linecolor\":\"rgba(0, 0, 0, 1.000)\",\"showgrid\":true,\"title\":\"\",\"mirror\":false,\"tickangle\":0,\"showline\":true,\"gridcolor\":\"rgba(0, 0, 0, 0.100)\",\"titlefont\":{\"color\":\"rgba(0, 0, 0, 1.000)\",\"family\":\"sans-serif\",\"size\":15},\"tickcolor\":\"rgb(0, 0, 0)\",\"ticktext\":[\"1\",\"2\",\"3\",\"4\",\"5\"],\"zeroline\":false,\"type\":\"-\",\"tickfont\":{\"color\":\"rgba(0, 0, 0, 1.000)\",\"family\":\"sans-serif\",\"size\":11},\"zerolinecolor\":\"rgba(0, 0, 0, 1.000)\",\"anchor\":\"y1\"},\"paper_bgcolor\":\"rgba(255, 255, 255, 1.000)\",\"annotations\":[{\"yanchor\":\"top\",\"xanchor\":\"center\",\"rotation\":-0.0,\"y\":1.0,\"font\":{\"color\":\"rgba(0, 0, 0, 1.000)\",\"family\":\"sans-serif\",\"size\":20},\"yref\":\"paper\",\"showarrow\":false,\"text\":\"My Plot\",\"xref\":\"paper\",\"x\":0.5296296296296296}],\"height\":400,\"margin\":{\"l\":0,\"b\":20,\"r\":0,\"t\":20},\"plot_bgcolor\":\"rgba(255, 255, 255, 1.000)\",\"yaxis\":{\"showticklabels\":true,\"gridwidth\":0.5,\"tickvals\":[0.0,0.25,0.5,0.75,1.0],\"visible\":true,\"ticks\":\"inside\",\"range\":[-0.0008876532402363226,1.0237641110855196],\"domain\":[0.03762029746281716,0.9415463692038496],\"tickmode\":\"array\",\"linecolor\":\"rgba(0, 0, 0, 1.000)\",\"showgrid\":true,\"title\":\"\",\"mirror\":false,\"tickangle\":0,\"showline\":true,\"gridcolor\":\"rgba(0, 0, 0, 0.100)\",\"titlefont\":{\"color\":\"rgba(0, 0, 0, 1.000)\",\"family\":\"sans-serif\",\"size\":15},\"tickcolor\":\"rgb(0, 0, 0)\",\"ticktext\":[\"0.00\",\"0.25\",\"0.50\",\"0.75\",\"1.00\"],\"zeroline\":false,\"type\":\"-\",\"tickfont\":{\"color\":\"rgba(0, 0, 0, 1.000)\",\"family\":\"sans-serif\",\"size\":11},\"zerolinecolor\":\"rgba(0, 0, 0, 1.000)\",\"anchor\":\"x1\"},\"legend\":{\"tracegroupgap\":0,\"bordercolor\":\"rgba(0, 0, 0, 1.000)\",\"bgcolor\":\"rgba(255, 255, 255, 1.000)\",\"font\":{\"color\":\"rgba(0, 0, 0, 1.000)\",\"family\":\"sans-serif\",\"size\":11},\"y\":1.0,\"x\":1.0},\"width\":600});\n",
       "    </script>\n"
      ]
     },
     "execution_count": 45,
     "metadata": {},
     "output_type": "execute_result"
    }
   ],
   "source": [
    "#Plotly seems to work in command line but have not gotten in in notebook form yet\n",
    "\"\"\"using Plots\n",
    "plotly() # Choose the Plotly.jl backend for web interactivity\n",
    "plot(rand(5,5),linewidth=2,title=\"My Plot\")\n",
    "using PyPlot\n",
    "\"\"\"\n",
    "pyplot() # Switch to using the PyPlot.jl backend\n",
    "plot(rand(5,5),linewidth=2,title=\"My Plot\") # The same plotting command works"
   ]
  },
  {
   "cell_type": "code",
   "execution_count": 46,
   "metadata": {
    "collapsed": false
   },
   "outputs": [
    {
     "data": {
      "image/png": "[encoded data removed]"
     },
     "execution_count": 46,
     "metadata": {},
     "output_type": "execute_result"
    }
   ],
   "source": [
    "# Pyplot works inline\n",
    "pyplot() # Switch to using the PyPlot.jl backend\n",
    "plot(rand(5,5),linewidth=2,title=\"My Plot\") # The same plotting command works"
   ]
  },
  {
   "cell_type": "code",
   "execution_count": null,
   "metadata": {
    "collapsed": true
   },
   "outputs": [],
   "source": []
  }
 ],
 "metadata": {
  "anaconda-cloud": {},
  "kernelspec": {
   "display_name": "Julia 1.0.0",
   "language": "julia",
   "name": "julia-1.0"
  },
  "language_info": {
   "file_extension": ".jl",
   "mimetype": "application/julia",
   "name": "julia",
   "version": "1.0.0"
  }
 },
 "nbformat": 4,
 "nbformat_minor": 2
}
