{
 "cells": [
  {
   "cell_type": "markdown",
   "metadata": {
    "nbpresent": {
     "id": "582d78d0-654f-46f5-b84e-aef4b1fa8d8c"
    }
   },
   "source": [
    "# Hello"
   ]
  },
  {
   "cell_type": "markdown",
   "metadata": {
    "nbpresent": {
     "id": "786f1709-cbfc-4c32-93c2-af4f0e12b0df"
    }
   },
   "source": [
    "$lambda$"
   ]
  },
  {
   "cell_type": "code",
   "execution_count": 26,
   "metadata": {
    "collapsed": false,
    "nbpresent": {
     "id": "c09b5523-d585-467b-9744-1f0abd189b9c"
    }
   },
   "outputs": [
    {
     "name": "stdout",
     "output_type": "stream",
     "text": [
      "Weather report: Matabatas Location, South Africa\n",
      "\n",
      " \u001b[38;5;226m   \\  /\u001b[0m       Partly cloudy\n",
      " \u001b[38;5;226m _ /\"\"\u001b[38;5;250m.-.    \u001b[0m \u001b[38;5;226m75\u001b[0m-\u001b[38;5;220m77\u001b[0m Â°F\u001b[0m       \n",
      " \u001b[38;5;226m   \\_\u001b[38;5;250m(   ).  \u001b[0m \u001b[1mâ†—\u001b[0m \u001b[38;5;208m14\u001b[0m mph\u001b[0m       \n",
      " \u001b[38;5;226m   /\u001b[38;5;250m(___(__) \u001b[0m 6 mi\u001b[0m           \n",
      "               0.0 in\u001b[0m         \n",
      "                                                       â”Œâ”€â”€â”€â”€â”€â”€â”€â”€â”€â”€â”€â”€â”€â”�                                                       \n",
      "â”Œâ”€â”€â”€â”€â”€â”€â”€â”€â”€â”€â”€â”€â”€â”€â”€â”€â”€â”€â”€â”€â”€â”€â”€â”€â”€â”€â”€â”€â”€â”€â”¬â”€â”€â”€â”€â”€â”€â”€â”€â”€â”€â”€â”€â”€â”€â”€â”€â”€â”€â”€â”€â”€â”€â”€â”¤  Tue 10 Jul â”œâ”€â”€â”€â”€â”€â”€â”€â”€â”€â”€â”€â”€â”€â”€â”€â”€â”€â”€â”€â”€â”€â”€â”€â”¬â”€â”€â”€â”€â”€â”€â”€â”€â”€â”€â”€â”€â”€â”€â”€â”€â”€â”€â”€â”€â”€â”€â”€â”€â”€â”€â”€â”€â”€â”€â”�\n",
      "â”‚            Morning           â”‚             Noon      â””â”€â”€â”€â”€â”€â”€â”¬â”€â”€â”€â”€â”€â”€â”˜     Evening           â”‚             Night            â”‚\n",
      "â”œâ”€â”€â”€â”€â”€â”€â”€â”€â”€â”€â”€â”€â”€â”€â”€â”€â”€â”€â”€â”€â”€â”€â”€â”€â”€â”€â”€â”€â”€â”€â”¼â”€â”€â”€â”€â”€â”€â”€â”€â”€â”€â”€â”€â”€â”€â”€â”€â”€â”€â”€â”€â”€â”€â”€â”€â”€â”€â”€â”€â”€â”€â”¼â”€â”€â”€â”€â”€â”€â”€â”€â”€â”€â”€â”€â”€â”€â”€â”€â”€â”€â”€â”€â”€â”€â”€â”€â”€â”€â”€â”€â”€â”€â”¼â”€â”€â”€â”€â”€â”€â”€â”€â”€â”€â”€â”€â”€â”€â”€â”€â”€â”€â”€â”€â”€â”€â”€â”€â”€â”€â”€â”€â”€â”€â”¤\n",
      "â”‚ \u001b[38;5;226m   \\  /\u001b[0m       Partly cloudy  â”‚ \u001b[38;5;226m   \\  /\u001b[0m       Partly cloudy  â”‚ \u001b[38;5;226m   \\  /\u001b[0m       Partly cloudy  â”‚ \u001b[38;5;226m   \\  /\u001b[0m       Partly cloudy  â”‚\n",
      "â”‚ \u001b[38;5;226m _ /\"\"\u001b[38;5;250m.-.    \u001b[0m \u001b[38;5;118m59\u001b[0m Â°F\u001b[0m          â”‚ \u001b[38;5;226m _ /\"\"\u001b[38;5;250m.-.    \u001b[0m \u001b[38;5;190m66\u001b[0m Â°F\u001b[0m          â”‚ \u001b[38;5;226m _ /\"\"\u001b[38;5;250m.-.    \u001b[0m \u001b[38;5;190m66\u001b[0m Â°F\u001b[0m          â”‚ \u001b[38;5;226m _ /\"\"\u001b[38;5;250m.-.    \u001b[0m \u001b[38;5;118m59\u001b[0m Â°F\u001b[0m          â”‚\n",
      "â”‚ \u001b[38;5;226m   \\_\u001b[38;5;250m(   ).  \u001b[0m \u001b[1mâ†–\u001b[0m \u001b[38;5;082m1\u001b[0m mph\u001b[0m        â”‚ \u001b[38;5;226m   \\_\u001b[38;5;250m(   ).  \u001b[0m \u001b[1mâ†‘\u001b[0m \u001b[38;5;118m2\u001b[0m mph\u001b[0m        â”‚ \u001b[38;5;226m   \\_\u001b[38;5;250m(   ).  \u001b[0m \u001b[1mâ†–\u001b[0m \u001b[38;5;082m1\u001b[0m mph\u001b[0m        â”‚ \u001b[38;5;226m   \\_\u001b[38;5;250m(   ).  \u001b[0m \u001b[1mâ†�\u001b[0m \u001b[38;5;082m1\u001b[0m-\u001b[38;5;118m3\u001b[0m mph\u001b[0m      â”‚\n",
      "â”‚ \u001b[38;5;226m   /\u001b[38;5;250m(___(__) \u001b[0m 12 mi\u001b[0m          â”‚ \u001b[38;5;226m   /\u001b[38;5;250m(___(__) \u001b[0m 12 mi\u001b[0m          â”‚ \u001b[38;5;226m   /\u001b[38;5;250m(___(__) \u001b[0m 11 mi\u001b[0m          â”‚ \u001b[38;5;226m   /\u001b[38;5;250m(___(__) \u001b[0m 11 mi\u001b[0m          â”‚\n",
      "â”‚               0.0 in | 47%\u001b[0m   â”‚               0.0 in | 0%\u001b[0m    â”‚               0.0 in | 0%\u001b[0m    â”‚               0.0 in | 0%\u001b[0m    â”‚\n",
      "â””â”€â”€â”€â”€â”€â”€â”€â”€â”€â”€â”€â”€â”€â”€â”€â”€â”€â”€â”€â”€â”€â”€â”€â”€â”€â”€â”€â”€â”€â”€â”´â”€â”€â”€â”€â”€â”€â”€â”€â”€â”€â”€â”€â”€â”€â”€â”€â”€â”€â”€â”€â”€â”€â”€â”€â”€â”€â”€â”€â”€â”€â”´â”€â”€â”€â”€â”€â”€â”€â”€â”€â”€â”€â”€â”€â”€â”€â”€â”€â”€â”€â”€â”€â”€â”€â”€â”€â”€â”€â”€â”€â”€â”´â”€â”€â”€â”€â”€â”€â”€â”€â”€â”€â”€â”€â”€â”€â”€â”€â”€â”€â”€â”€â”€â”€â”€â”€â”€â”€â”€â”€â”€â”€â”˜\n",
      "                                                       â”Œâ”€â”€â”€â”€â”€â”€â”€â”€â”€â”€â”€â”€â”€â”�                                                       \n",
      "â”Œâ”€â”€â”€â”€â”€â”€â”€â”€â”€â”€â”€â”€â”€â”€â”€â”€â”€â”€â”€â”€â”€â”€â”€â”€â”€â”€â”€â”€â”€â”€â”¬â”€â”€â”€â”€â”€â”€â”€â”€â”€â”€â”€â”€â”€â”€â”€â”€â”€â”€â”€â”€â”€â”€â”€â”¤  Wed 11 Jul â”œâ”€â”€â”€â”€â”€â”€â”€â”€â”€â”€â”€â”€â”€â”€â”€â”€â”€â”€â”€â”€â”€â”€â”€â”¬â”€â”€â”€â”€â”€â”€â”€â”€â”€â”€â”€â”€â”€â”€â”€â”€â”€â”€â”€â”€â”€â”€â”€â”€â”€â”€â”€â”€â”€â”€â”�\n",
      "â”‚            Morning           â”‚             Noon      â””â”€â”€â”€â”€â”€â”€â”¬â”€â”€â”€â”€â”€â”€â”˜     Evening           â”‚             Night            â”‚\n",
      "â”œâ”€â”€â”€â”€â”€â”€â”€â”€â”€â”€â”€â”€â”€â”€â”€â”€â”€â”€â”€â”€â”€â”€â”€â”€â”€â”€â”€â”€â”€â”€â”¼â”€â”€â”€â”€â”€â”€â”€â”€â”€â”€â”€â”€â”€â”€â”€â”€â”€â”€â”€â”€â”€â”€â”€â”€â”€â”€â”€â”€â”€â”€â”¼â”€â”€â”€â”€â”€â”€â”€â”€â”€â”€â”€â”€â”€â”€â”€â”€â”€â”€â”€â”€â”€â”€â”€â”€â”€â”€â”€â”€â”€â”€â”¼â”€â”€â”€â”€â”€â”€â”€â”€â”€â”€â”€â”€â”€â”€â”€â”€â”€â”€â”€â”€â”€â”€â”€â”€â”€â”€â”€â”€â”€â”€â”¤\n",
      "â”‚ \u001b[38;5;226m   \\  /\u001b[0m       Partly cloudy  â”‚ \u001b[38;5;226m   \\  /\u001b[0m       Partly cloudy  â”‚ \u001b[38;5;226m   \\  /\u001b[0m       Partly cloudy  â”‚ \u001b[38;5;226m   \\  /\u001b[0m       Partly cloudy  â”‚\n",
      "â”‚ \u001b[38;5;226m _ /\"\"\u001b[38;5;250m.-.    \u001b[0m \u001b[38;5;154m60\u001b[0m-\u001b[38;5;154m62\u001b[0m Â°F\u001b[0m       â”‚ \u001b[38;5;226m _ /\"\"\u001b[38;5;250m.-.    \u001b[0m \u001b[38;5;190m69\u001b[0m Â°F\u001b[0m          â”‚ \u001b[38;5;226m _ /\"\"\u001b[38;5;250m.-.    \u001b[0m \u001b[38;5;190m68\u001b[0m Â°F\u001b[0m          â”‚ \u001b[38;5;226m _ /\"\"\u001b[38;5;250m.-.    \u001b[0m \u001b[38;5;154m60\u001b[0m Â°F\u001b[0m          â”‚\n",
      "â”‚ \u001b[38;5;226m   \\_\u001b[38;5;250m(   ).  \u001b[0m \u001b[1mâ†�\u001b[0m \u001b[38;5;118m2\u001b[0m-\u001b[38;5;118m3\u001b[0m mph\u001b[0m      â”‚ \u001b[38;5;226m   \\_\u001b[38;5;250m(   ).  \u001b[0m \u001b[1mâ†�\u001b[0m \u001b[38;5;118m3\u001b[0m mph\u001b[0m        â”‚ \u001b[38;5;226m   \\_\u001b[38;5;250m(   ).  \u001b[0m \u001b[1mâ†™\u001b[0m \u001b[38;5;154m4\u001b[0m-\u001b[38;5;190m7\u001b[0m mph\u001b[0m      â”‚ \u001b[38;5;226m   \\_\u001b[38;5;250m(   ).  \u001b[0m \u001b[1mâ†™\u001b[0m \u001b[38;5;190m6\u001b[0m-\u001b[38;5;214m12\u001b[0m mph\u001b[0m     â”‚\n",
      "â”‚ \u001b[38;5;226m   /\u001b[38;5;250m(___(__) \u001b[0m 12 mi\u001b[0m          â”‚ \u001b[38;5;226m   /\u001b[38;5;250m(___(__) \u001b[0m 12 mi\u001b[0m          â”‚ \u001b[38;5;226m   /\u001b[38;5;250m(___(__) \u001b[0m 12 mi\u001b[0m          â”‚ \u001b[38;5;226m   /\u001b[38;5;250m(___(__) \u001b[0m 12 mi\u001b[0m          â”‚\n",
      "â”‚               0.0 in | 0%\u001b[0m    â”‚               0.0 in | 0%\u001b[0m    â”‚               0.0 in | 0%\u001b[0m    â”‚               0.0 in | 0%\u001b[0m    â”‚\n",
      "â””â”€â”€â”€â”€â”€â”€â”€â”€â”€â”€â”€â”€â”€â”€â”€â”€â”€â”€â”€â”€â”€â”€â”€â”€â”€â”€â”€â”€â”€â”€â”´â”€â”€â”€â”€â”€â”€â”€â”€â”€â”€â”€â”€â”€â”€â”€â”€â”€â”€â”€â”€â”€â”€â”€â”€â”€â”€â”€â”€â”€â”€â”´â”€â”€â”€â”€â”€â”€â”€â”€â”€â”€â”€â”€â”€â”€â”€â”€â”€â”€â”€â”€â”€â”€â”€â”€â”€â”€â”€â”€â”€â”€â”´â”€â”€â”€â”€â”€â”€â”€â”€â”€â”€â”€â”€â”€â”€â”€â”€â”€â”€â”€â”€â”€â”€â”€â”€â”€â”€â”€â”€â”€â”€â”˜\n",
      "                                                       â”Œâ”€â”€â”€â”€â”€â”€â”€â”€â”€â”€â”€â”€â”€â”�                                                       \n",
      "â”Œâ”€â”€â”€â”€â”€â”€â”€â”€â”€â”€â”€â”€â”€â”€â”€â”€â”€â”€â”€â”€â”€â”€â”€â”€â”€â”€â”€â”€â”€â”€â”¬â”€â”€â”€â”€â”€â”€â”€â”€â”€â”€â”€â”€â”€â”€â”€â”€â”€â”€â”€â”€â”€â”€â”€â”¤  Thu 12 Jul â”œâ”€â”€â”€â”€â”€â”€â”€â”€â”€â”€â”€â”€â”€â”€â”€â”€â”€â”€â”€â”€â”€â”€â”€â”¬â”€â”€â”€â”€â”€â”€â”€â”€â”€â”€â”€â”€â”€â”€â”€â”€â”€â”€â”€â”€â”€â”€â”€â”€â”€â”€â”€â”€â”€â”€â”�\n",
      "â”‚            Morning           â”‚             Noon      â””â”€â”€â”€â”€â”€â”€â”¬â”€â”€â”€â”€â”€â”€â”˜     Evening           â”‚             Night            â”‚\n",
      "â”œâ”€â”€â”€â”€â”€â”€â”€â”€â”€â”€â”€â”€â”€â”€â”€â”€â”€â”€â”€â”€â”€â”€â”€â”€â”€â”€â”€â”€â”€â”€â”¼â”€â”€â”€â”€â”€â”€â”€â”€â”€â”€â”€â”€â”€â”€â”€â”€â”€â”€â”€â”€â”€â”€â”€â”€â”€â”€â”€â”€â”€â”€â”¼â”€â”€â”€â”€â”€â”€â”€â”€â”€â”€â”€â”€â”€â”€â”€â”€â”€â”€â”€â”€â”€â”€â”€â”€â”€â”€â”€â”€â”€â”€â”¼â”€â”€â”€â”€â”€â”€â”€â”€â”€â”€â”€â”€â”€â”€â”€â”€â”€â”€â”€â”€â”€â”€â”€â”€â”€â”€â”€â”€â”€â”€â”¤\n",
      "â”‚ \u001b[38;5;226m   \\  /\u001b[0m       Partly cloudy  â”‚ \u001b[38;5;226m   \\  /\u001b[0m       Partly cloudy  â”‚ \u001b[38;5;226m   \\  /\u001b[0m       Partly cloudy  â”‚ \u001b[38;5;226m   \\  /\u001b[0m       Partly cloudy  â”‚\n",
      "â”‚ \u001b[38;5;226m _ /\"\"\u001b[38;5;250m.-.    \u001b[0m \u001b[38;5;154m60\u001b[0m-\u001b[38;5;154m62\u001b[0m Â°F\u001b[0m       â”‚ \u001b[38;5;226m _ /\"\"\u001b[38;5;250m.-.    \u001b[0m \u001b[38;5;190m69\u001b[0m Â°F\u001b[0m          â”‚ \u001b[38;5;226m _ /\"\"\u001b[38;5;250m.-.    \u001b[0m \u001b[38;5;190m69\u001b[0m Â°F\u001b[0m          â”‚ \u001b[38;5;226m _ /\"\"\u001b[38;5;250m.-.    \u001b[0m \u001b[38;5;154m64\u001b[0m Â°F\u001b[0m          â”‚\n",
      "â”‚ \u001b[38;5;226m   \\_\u001b[38;5;250m(   ).  \u001b[0m \u001b[1mâ†™\u001b[0m \u001b[38;5;118m2\u001b[0m-\u001b[38;5;118m3\u001b[0m mph\u001b[0m      â”‚ \u001b[38;5;226m   \\_\u001b[38;5;250m(   ).  \u001b[0m \u001b[1mâ†–\u001b[0m \u001b[38;5;082m1\u001b[0m mph\u001b[0m        â”‚ \u001b[38;5;226m   \\_\u001b[38;5;250m(   ).  \u001b[0m \u001b[1mâ†�\u001b[0m \u001b[38;5;118m3\u001b[0m-\u001b[38;5;190m6\u001b[0m mph\u001b[0m      â”‚ \u001b[38;5;226m   \\_\u001b[38;5;250m(   ).  \u001b[0m \u001b[1mâ†™\u001b[0m \u001b[38;5;154m5\u001b[0m-\u001b[38;5;220m11\u001b[0m mph\u001b[0m     â”‚\n",
      "â”‚ \u001b[38;5;226m   /\u001b[38;5;250m(___(__) \u001b[0m 12 mi\u001b[0m          â”‚ \u001b[38;5;226m   /\u001b[38;5;250m(___(__) \u001b[0m 12 mi\u001b[0m          â”‚ \u001b[38;5;226m   /\u001b[38;5;250m(___(__) \u001b[0m 12 mi\u001b[0m          â”‚ \u001b[38;5;226m   /\u001b[38;5;250m(___(__) \u001b[0m 12 mi\u001b[0m          â”‚\n",
      "â”‚               0.0 in | 0%\u001b[0m    â”‚               0.0 in | 0%\u001b[0m    â”‚               0.0 in | 0%\u001b[0m    â”‚               0.0 in | 0%\u001b[0m    â”‚\n",
      "â””â”€â”€â”€â”€â”€â”€â”€â”€â”€â”€â”€â”€â”€â”€â”€â”€â”€â”€â”€â”€â”€â”€â”€â”€â”€â”€â”€â”€â”€â”€â”´â”€â”€â”€â”€â”€â”€â”€â”€â”€â”€â”€â”€â”€â”€â”€â”€â”€â”€â”€â”€â”€â”€â”€â”€â”€â”€â”€â”€â”€â”€â”´â”€â”€â”€â”€â”€â”€â”€â”€â”€â”€â”€â”€â”€â”€â”€â”€â”€â”€â”€â”€â”€â”€â”€â”€â”€â”€â”€â”€â”€â”€â”´â”€â”€â”€â”€â”€â”€â”€â”€â”€â”€â”€â”€â”€â”€â”€â”€â”€â”€â”€â”€â”€â”€â”€â”€â”€â”€â”€â”€â”€â”€â”˜\n",
      "\n",
      "New feature: multilingual location names \u001b[92mwttr.in/Ñ�Ñ‚Ð°Ð½Ñ†Ð¸Ñ�+Ð’Ð¾Ñ�Ñ‚Ð¾Ðº\u001b[0m (in UTF-8) and location search \u001b[92mwttr.in/~Kilimanjaro\u001b[0m (just add ~ before)\n",
      "Follow \u001b[46m\u001b[30m@igor_chubin\u001b[0m for wttr.in updates\n"
     ]
    },
    {
     "name": "stderr",
     "output_type": "stream",
     "text": [
      "  % Total    % Received % Xferd  Average Speed   Time    Time     Time  Current\n",
      "                                 Dload  Upload   Total   Spent    Left  Speed\n",
      "\n",
      "  0     0    0     0    0     0      0      0 --:--:-- --:--:-- --:--:--     0\n",
      "100  8831  100  8831    0     0   8709      0  0:00:01  0:00:01 --:--:--  8709\n",
      "100  8831  100  8831    0     0   8709      0  0:00:01  0:00:01 --:--:--  8709\n"
     ]
    }
   ],
   "source": [
    "!curl http://wttr.in/LOCATION\n"
   ]
  },
  {
   "cell_type": "code",
   "execution_count": 36,
   "metadata": {
    "collapsed": false,
    "nbpresent": {
     "id": "50e605bb-7fbf-4577-8de1-1ce5b7ac28d3"
    },
    "scrolled": true
   },
   "outputs": [
    {
     "data": {
      "text/plain": [
       "['  % Total    % Received % Xferd  Average Speed   Time    Time     Time  Current',\n",
       " '                                 Dload  Upload   Total   Spent    Left  Speed',\n",
       " '',\n",
       " '  0     0    0     0    0     0      0      0 --:--:-- --:--:-- --:--:--     0<?xml version=\"1.0\" encoding=\"UTF-8\"?><rss version=\"2.0\"',\n",
       " '\\txmlns:content=\"http://purl.org/rss/1.0/modules/content/\"',\n",
       " '\\txmlns:wfw=\"http://wellformedweb.org/CommentAPI/\"',\n",
       " '\\txmlns:dc=\"http://purl.org/dc/elements/1.1/\"',\n",
       " '\\txmlns:atom=\"http://www.w3.org/2005/Atom\"',\n",
       " '\\txmlns:sy=\"http://purl.org/rss/1.0/modules/syndication/\"',\n",
       " '\\txmlns:slash=\"http://purl.org/rss/1.0/modules/slash/\"',\n",
       " '\\t>',\n",
       " '',\n",
       " '<channel>',\n",
       " '\\t<title>Publications &#8211; D.C. Policy Center</title>',\n",
       " '\\t<atom:link href=\"https://www.dcpolicycenter.org/publications/feed/\" rel=\"self\" type=\"application/rss+xml\" />',\n",
       " '\\t<link>https://www.dcpolicycenter.org</link>',\n",
       " '\\t<description>Advancing policies for a strong and vibrant economy in the District of Columbia</description>',\n",
       " '\\t<lastBuildDate>Mon, 09 Jul 2018 20:33:13 +0000</lastBuildDate>',\n",
       " '\\t<language>en-US</language>',\n",
       " '\\t<sy:updatePeriod>hourly</sy:updatePeriod>',\n",
       " '\\t<sy:updateFrequency>1</sy:updateFrequency>',\n",
       " '\\t<generator>https://wordpress.org/?v=4.9.7</generator>',\n",
       " '\\t<item>',\n",
       " '\\t\\t<title>Speed cameras in D.C.</title>',\n",
       " '\\t\\t<link>https://www.dcpolicycenter.org/publications/speed-cameras-in-d-c/</link>',\n",
       " '\\t\\t<comments>https://www.dcpolicycenter.org/publications/speed-cameras-in-d-c/#respond</comments>',\n",
       " '\\t\\t<pubDate>Thu, 28 Jun 2018 08:01:49 +0000</pubDate>',\n",
       " '\\t\\t<dc:creator><![CDATA[Kathryn Zickuhr]]></dc:creator>',\n",
       " '\\t\\t\\t\\t<category><![CDATA[Articles]]></category>',\n",
       " '\\t\\t<category><![CDATA[Public Safety]]></category>',\n",
       " '\\t\\t<category><![CDATA[Transportation]]></category>',\n",
       " '',\n",
       " '\\t\\t<guid isPermaLink=\"false\">https://www.dcpolicycenter.org/?post_type=publications&#038;p=2602</guid>',\n",
       " '\\t\\t<description><![CDATA[<p>D.C. has a complicated relationship with speed cameras. Research shows that speed cameras are an important tool to reduce crashes and traffic fatalities, especially as a complement to underlying road...</p>',\n",
       " '<p>The post <a rel=\"nofollow\" href=\"https://www.dcpolicycenter.org/publications/speed-cameras-in-d-c/\">Speed cameras in D.C.</a> appeared first on <a rel=\"nofollow\" href=\"https://www.dcpolicycenter.org\">D.C. Policy Center</a>.</p>',\n",
       " ']]></description>',\n",
       " '\\t\\t<wfw:commentRss>https://www.dcpolicycenter.org/publications/speed-cameras-in-d-c/feed/</wfw:commentRss>',\n",
       " '\\t\\t<slash:comments>0</slash:comments>',\n",
       " '\\t\\t</item>',\n",
       " '\\t\\t<item>',\n",
       " '\\t\\t<title>Predominately black neighborhoods in D.C. bear the brunt of automated traffic enforcement</title>',\n",
       " '\\t\\t<link>https://www.dcpolicycenter.org/publications/predominately-black-neighborhoods-in-d-c-bear-the-brunt-of-automated-traffic-enforcement/</link>',\n",
       " '\\t\\t<comments>https://www.dcpolicycenter.org/publications/predominately-black-neighborhoods-in-d-c-bear-the-brunt-of-automated-traffic-enforcement/#respond</comments>',\n",
       " '\\t\\t<pubDate>Thu, 28 Jun 2018 08:00:09 +0000</pubDate>',\n",
       " '\\t\\t<dc:creator><![CDATA[Kathryn Zickuhr]]></dc:creator>',\n",
       " '\\t\\t\\t\\t<category><![CDATA[Articles]]></category>',\n",
       " '\\t\\t<category><![CDATA[Demographics]]></category>',\n",
       " '\\t\\t<category><![CDATA[Public Safety]]></category>',\n",
       " '\\t\\t<category><![CDATA[Transportation]]></category>',\n",
       " '',\n",
       " '\\t\\t<guid isPermaLink=\"false\">https://www.dcpolicycenter.org/?post_type=publications&#038;p=2597</guid>',\n",
       " '\\t\\t<description><![CDATA[<p>In late 2015, Washington, D.C. joined the international Vision Zero movement by committing to end traffic deaths and serious injuries by 2024. The Vision Zero movement recognizes traffic collisions as...</p>',\n",
       " '<p>The post <a rel=\"nofollow\" href=\"https://www.dcpolicycenter.org/publications/predominately-black-neighborhoods-in-d-c-bear-the-brunt-of-automated-traffic-enforcement/\">Predominately black neighborhoods in D.C. bear the brunt of automated traffic enforcement</a> appeared first on <a rel=\"nofollow\" href=\"https://www.dcpolicycenter.org\">D.C. Policy Center</a>.</p>',\n",
       " ']]></description>',\n",
       " '\\t\\t<wfw:commentRss>https://www.dcpolicycenter.org/publications/predominately-black-neighborhoods-in-d-c-bear-the-brunt-of-automated-traffic-enforcement/feed/</wfw:commentRss>',\n",
       " '\\t\\t<slash:comments>0</slash:comments>',\n",
       " '\\t\\t</item>',\n",
       " '\\t\\t<item>',\n",
       " '\\t\\t<title>The Great Sort: Part I</title>',\n",
       " '\\t\\t<link>https://www.dcpolicycenter.org/publications/the-great-sort-part-i/</link>',\n",
       " '\\t\\t<comments>https://www.dcpolicycenter.org/publications/the-great-sort-part-i/#respond</comments>',\n",
       " '\\t\\t<pubDate>Tue, 26 Jun 2018 08:00:28 +0000</pubDate>',\n",
       " '\\t\\t<dc:creator><![CDATA[Yesim Sayin Taylor]]></dc:creator>',\n",
       " '\\t\\t\\t\\t<category><![CDATA[Articles]]></category>',\n",
       " '\\t\\t<category><![CDATA[D.C. History]]></category>',\n",
       " '\\t\\t<category><![CDATA[Demographics]]></category>',\n",
       " '',\n",
       " '\\t\\t<guid isPermaLink=\"false\">https://www.dcpolicycenter.org/?post_type=publications&#038;p=2593</guid>',\n",
       " '\\t\\t<description><![CDATA[<p>I spent much of the 1960s as a full-time civil rights worker. From shortly after the great March on Washington of August 1963 through the Poor Peopleâ€™s Campaign of May-June...</p>',\n",
       " '<p>The post <a rel=\"nofollow\" href=\"https://www.dcpolicycenter.org/publications/the-great-sort-part-i/\">The Great Sort: Part I</a> appeared first on <a rel=\"nofollow\" href=\"https://www.dcpolicycenter.org\">D.C. Policy Center</a>.</p>',\n",
       " ']]></description>',\n",
       " '\\t\\t<wfw:commentRss>https://www.dcpolicycenter.org/publications/the-great-sort-part-i/feed/</wfw:commentRss>',\n",
       " '\\t\\t<slash:comments>0</slash:comments>',\n",
       " '\\t\\t</item>',\n",
       " '\\t\\t<item>',\n",
       " '\\t\\t<title>A portrait of D.C.â€™s older adults</title>',\n",
       " '\\t\\t<link>https://www.dcpolicycenter.org/publications/a-portrait-of-d-c-s-older-adults/</link>',\n",
       " '\\t\\t<comments>https://www.dcpolicycenter.org/publications/a-portrait-of-d-c-s-older-adults/#respond</comments>',\n",
       " '\\t\\t<pubDate>Fri, 22 Jun 2018 08:00:39 +0000</pubDate>',\n",
       " '\\t\\t<dc:creator><![CDATA[Kathryn Zickuhr]]></dc:creator>',\n",
       " '\\t\\t\\t\\t<category><![CDATA[Articles]]></category>',\n",
       " '\\t\\t<category><![CDATA[Demographics]]></category>',\n",
       " '',\n",
       " '\\t\\t<guid isPermaLink=\"false\">https://www.dcpolicycenter.org/?post_type=publications&#038;p=2567</guid>',\n",
       " '\\t\\t<description><![CDATA[<p>D.C. has a reputation as a relatively young city; TIME magazine even recently declared that it the District is approaching â€œpeak Millennial.â€� It is true that D.C. has a proportionally...</p>',\n",
       " '<p>The post <a rel=\"nofollow\" href=\"https://www.dcpolicycenter.org/publications/a-portrait-of-d-c-s-older-adults/\">A portrait of D.C.â€™s older adults</a> appeared first on <a rel=\"nofollow\" href=\"https://www.dcpolicycenter.org\">D.C. Policy Center</a>.</p>',\n",
       " ']]></description>',\n",
       " '\\t\\t<wfw:commentRss>https://www.dcpolicycenter.org/publications/a-portrait-of-d-c-s-older-adults/feed/</wfw:commentRss>',\n",
       " '\\t\\t<slash:comments>0</slash:comments>',\n",
       " '\\t\\t</item>',\n",
       " '\\t\\t<item>',\n",
       " '\\t\\t<title>Primer on research-practice partnerships</title>',\n",
       " '\\t\\t<link>https://www.dcpolicycenter.org/publications/primer-on-research-practice-partnerships/</link>',\n",
       " '\\t\\t<comments>https://www.dcpolicycenter.org/publications/primer-on-research-practice-partnerships/#respond</comments>',\n",
       " '\\t\\t<pubDate>Mon, 18 Jun 2018 16:00:13 +0000</pubDate>',\n",
       " '\\t\\t<dc:creator><![CDATA[Chelsea Coffin]]></dc:creator>',\n",
       " '\\t\\t\\t\\t<category><![CDATA[Articles]]></category>',\n",
       " '\\t\\t<category><![CDATA[Education]]></category>',\n",
       " '\\t\\t<category><![CDATA[Education Policy Initiative]]></category>',\n",
       " '',\n",
       " '\\t\\t<guid isPermaLink=\"false\">https://www.dcpolicycenter.org/?post_type=publications&#038;p=2563</guid>',\n",
       " '\\t\\t<description><![CDATA[<p>As an addendum toÂ\\xa0D.C. needs research for school improvement and audits for oversight, but not from the same source,Â\\xa0the D.C. Policy Center produced a research-practice partnershipsÂ\\xa0primer to explain the basics...</p>',\n",
       " '<p>The post <a rel=\"nofollow\" href=\"https://www.dcpolicycenter.org/publications/primer-on-research-practice-partnerships/\">Primer on research-practice partnerships</a> appeared first on <a rel=\"nofollow\" href=\"https://www.dcpolicycenter.org\">D.C. Policy Center</a>.</p>',\n",
       " ']]></description>',\n",
       " '\\t\\t<wfw:commentRss>https://www.dcpolicycenter.org/publications/primer-on-research-practice-partnerships/feed/</wfw:commentRss>',\n",
       " '\\t\\t<slash:comments>0</slash:comments>',\n",
       " '\\t\\t</item>',\n",
       " '\\t\\t<item>',\n",
       " '\\t\\t<title>The carbon tax is not a freebie</title>',\n",
       " '\\t\\t<link>https://www.dcpolicycenter.org/publications/carbon-tax-impacts/</link>',\n",
       " '\\t\\t<comments>https://www.dcpolicycenter.org/publications/carbon-tax-impacts/#respond</comments>',\n",
       " '\\t\\t<pubDate>Mon, 18 Jun 2018 08:00:59 +0000</pubDate>',\n",
       " '\\t\\t<dc:creator><![CDATA[Yesim Sayin Taylor]]></dc:creator>',\n",
       " '\\t\\t\\t\\t<category><![CDATA[Articles]]></category>',\n",
       " '\\t\\t<category><![CDATA[Business Conditions]]></category>',\n",
       " '\\t\\t<category><![CDATA[Economy]]></category>',\n",
       " '\\t\\t<category><![CDATA[Environment]]></category>',\n",
       " '\\t\\t<category><![CDATA[Taxes]]></category>',\n",
       " '',\n",
       " '\\t\\t<guid isPermaLink=\"false\">https://www.dcpolicycenter.org/?post_type=publications&#038;p=2553</guid>',\n",
       " '\\t\\t<description><![CDATA[<p>Last spring, theÂ\\xa0Chesapeake Climate Action NetworkÂ\\xa0(CCAN) began circulating a carbon tax proposal that would impose a gradually increasing tax on carbon emissions in the District of Columbia.Â\\xa0Under their proposal, the...</p>',\n",
       " '<p>The post <a rel=\"nofollow\" href=\"https://www.dcpolicycenter.org/publications/carbon-tax-impacts/\">The carbon tax is not a freebie</a> appeared first on <a rel=\"nofollow\" href=\"https://www.dcpolicycenter.org\">D.C. Policy Center</a>.</p>',\n",
       " ']]></description>',\n",
       " '\\t\\t<wfw:commentRss>https://www.dcpolicycenter.org/publications/carbon-tax-impacts/feed/</wfw:commentRss>',\n",
       " '\\t\\t<slash:comments>0</slash:comments>',\n",
       " '\\t\\t</item>',\n",
       " '\\t\\t<item>',\n",
       " '\\t\\t<title>D.C. needs research for school improvement and audit for oversight, but not from the same source</title>',\n",
       " '\\t\\t<link>https://www.dcpolicycenter.org/publications/d-c-needs-both-research-for-school-improvement-and-audit-for-oversight-but-not-from-the-same-source/</link>',\n",
       " '\\t\\t<comments>https://www.dcpolicycenter.org/publications/d-c-needs-both-research-for-school-improvement-and-audit-for-oversight-but-not-from-the-same-source/#respond</comments>',\n",
       " '\\t\\t<pubDate>Thu, 14 Jun 2018 00:30:21 +0000</pubDate>',\n",
       " '\\t\\t<dc:creator><![CDATA[Chelsea Coffin]]></dc:creator>',\n",
       " '\\t\\t\\t\\t<category><![CDATA[Articles]]></category>',\n",
       " '\\t\\t<category><![CDATA[Education]]></category>',\n",
       " '\\t\\t<category><![CDATA[Education Policy Initiative]]></category>',\n",
       " '',\n",
       " '\\t\\t<guid isPermaLink=\"false\">https://www.dcpolicycenter.org/?post_type=publications&#038;p=2540</guid>',\n",
       " '\\t\\t<description><![CDATA[<p>By Chelsea Coffin, Steven Glazerman, and Yesim Sayin Taylor The D.C. Council is considering an education research collaborative that would carry out priority research on education in D.C. However, its...</p>',\n",
       " '<p>The post <a rel=\"nofollow\" href=\"https://www.dcpolicycenter.org/publications/d-c-needs-both-research-for-school-improvement-and-audit-for-oversight-but-not-from-the-same-source/\">D.C. needs research for school improvement and audit for oversight, but not from the same source</a> appeared first on <a rel=\"nofollow\" href=\"https://www.dcpolicycenter.org\">D.C. Policy Center</a>.</p>',\n",
       " ']]></description>',\n",
       " '\\t\\t<wfw:commentRss>https://www.dcpolicycenter.org/publications/d-c-needs-both-research-for-school-improvement-and-audit-for-oversight-but-not-from-the-same-source/feed/</wfw:commentRss>',\n",
       " '\\t\\t<slash:comments>0</slash:comments>',\n",
       " '\\t\\t</item>',\n",
       " '\\t\\t<item>',\n",
       " '\\t\\t<title>D.C.â€™s startup scene</title>',\n",
       " '\\t\\t<link>https://www.dcpolicycenter.org/publications/d-c-s-start-up-scene/</link>',\n",
       " '\\t\\t<comments>https://www.dcpolicycenter.org/publications/d-c-s-start-up-scene/#respond</comments>',\n",
       " '\\t\\t<pubDate>Fri, 01 Jun 2018 08:00:29 +0000</pubDate>',\n",
       " '\\t\\t<dc:creator><![CDATA[Kathryn Zickuhr]]></dc:creator>',\n",
       " '\\t\\t\\t\\t<category><![CDATA[Articles]]></category>',\n",
       " '\\t\\t<category><![CDATA[Business Conditions]]></category>',\n",
       " '',\n",
       " '\\t\\t<guid isPermaLink=\"false\">https://www.dcpolicycenter.org/?post_type=publications&#038;p=2515</guid>',\n",
       " '\\t\\t<description><![CDATA[<p>On the surface, the Districtâ€™s startup scene appears to be more lively than ever before. The city has received numerous accolades from the Washington PostÂ\\xa0andÂ\\xa0WAMUÂ\\xa0toÂ\\xa0VentureBeatÂ\\xa0andÂ\\xa0EntrepreneurÂ\\xa0for fostering a vibrant startup ecosystem...</p>',\n",
       " '<p>The post <a rel=\"nofollow\" href=\"https://www.dcpolicycenter.org/publications/d-c-s-start-up-scene/\">D.C.â€™s startup scene</a> appeared first on <a rel=\"nofollow\" href=\"https://www.dcpolicycenter.org\">D.C. Policy Center</a>.</p>',\n",
       " ']]></description>',\n",
       " '\\t\\t<wfw:commentRss>https://www.dcpolicycenter.org/publications/d-c-s-start-up-scene/feed/</wfw:commentRss>',\n",
       " '\\t\\t<slash:comments>0</slash:comments>',\n",
       " '\\t\\t</item>',\n",
       " '\\t\\t<item>',\n",
       " '\\t\\t<title>Reducing barriers for job-seekers</title>',\n",
       " '\\t\\t<link>https://www.dcpolicycenter.org/publications/reducing-barriers-for-job-seekers-in-d-c-and-the-metro-region/</link>',\n",
       " '\\t\\t<comments>https://www.dcpolicycenter.org/publications/reducing-barriers-for-job-seekers-in-d-c-and-the-metro-region/#respond</comments>',\n",
       " '\\t\\t<pubDate>Wed, 23 May 2018 08:00:33 +0000</pubDate>',\n",
       " '\\t\\t<dc:creator><![CDATA[Kathryn Zickuhr]]></dc:cr',\n",
       " '100 13295    0 13295    0     0  30423      0 --:--:-- --:--:-- --:--:-- 30423eator>',\n",
       " '\\t\\t\\t\\t<category><![CDATA[Articles]]></category>',\n",
       " '\\t\\t<category><![CDATA[Poverty and Income Inequality]]></category>',\n",
       " '\\t\\t<category><![CDATA[Workforce and the Labor Market]]></category>',\n",
       " '',\n",
       " '\\t\\t<guid isPermaLink=\"false\">https://www.dcpolicycenter.org/?post_type=publications&#038;p=2495</guid>',\n",
       " '\\t\\t<description><![CDATA[<p>If you follow the latest articles on workforce development, you might be forgiven for thinking that the big question today is whether a robot will take your job, or which...</p>',\n",
       " '<p>The post <a rel=\"nofollow\" href=\"https://www.dcpolicycenter.org/publications/reducing-barriers-for-job-seekers-in-d-c-and-the-metro-region/\">Reducing barriers for job-seekers</a> appeared first on <a rel=\"nofollow\" href=\"https://www.dcpolicycenter.org\">D.C. Policy Center</a>.</p>',\n",
       " ']]></description>',\n",
       " '\\t\\t<wfw:commentRss>https://www.dcpolicycenter.org/publications/reducing-barriers-for-job-seekers-in-d-c-and-the-metro-region/feed/</wfw:commentRss>',\n",
       " '\\t\\t<slash:comments>0</slash:comments>',\n",
       " '\\t\\t</item>',\n",
       " '\\t</channel>',\n",
       " '</rss>',\n",
       " '']"
      ]
     },
     "execution_count": 36,
     "metadata": {},
     "output_type": "execute_result"
    }
   ],
   "source": [
    "a\n"
   ]
  },
  {
   "cell_type": "code",
   "execution_count": 37,
   "metadata": {
    "collapsed": false,
    "nbpresent": {
     "id": "c5a0d125-df82-4600-bca1-fbbf8ea7f3c3"
    }
   },
   "outputs": [],
   "source": [
    "a = !curl https://www.dcpolicycenter.org/publications/feed/"
   ]
  },
  {
   "cell_type": "code",
   "execution_count": 38,
   "metadata": {
    "collapsed": false,
    "nbpresent": {
     "id": "3d7532a8-ba6a-4a32-aac4-0e663134eb92"
    }
   },
   "outputs": [],
   "source": [
    "from pprint import pprint\n"
   ]
  },
  {
   "cell_type": "code",
   "execution_count": 39,
   "metadata": {
    "collapsed": false,
    "nbpresent": {
     "id": "1cb8dbb9-e1e1-49ce-ac48-4d954042c1be"
    }
   },
   "outputs": [
    {
     "ename": "AttributeError",
     "evalue": "'SList' object has no attribute 'pprint'",
     "output_type": "error",
     "traceback": [
      "\u001b[0;31m---------------------------------------------------------------------------\u001b[0m",
      "\u001b[0;31mAttributeError\u001b[0m                            Traceback (most recent call last)",
      "\u001b[0;32m<ipython-input-39-b4e512781601>\u001b[0m in \u001b[0;36m<module>\u001b[0;34m()\u001b[0m\n\u001b[0;32m----> 1\u001b[0;31m \u001b[0ma\u001b[0m\u001b[1;33m.\u001b[0m\u001b[0mpprint\u001b[0m\u001b[1;33m\u001b[0m\u001b[0m\n\u001b[0m",
      "\u001b[0;31mAttributeError\u001b[0m: 'SList' object has no attribute 'pprint'"
     ]
    }
   ],
   "source": [
    "a.pprint"
   ]
  },
  {
   "cell_type": "code",
   "execution_count": 35,
   "metadata": {
    "collapsed": false,
    "nbpresent": {
     "id": "6228797a-2acd-4c7b-9990-a30153a531a1"
    }
   },
   "outputs": [
    {
     "name": "stdout",
     "output_type": "stream",
     "text": [
      "Variable   Type        Data/Info\n",
      "--------------------------------\n",
      "a          SList       ['  % Total    % Received<...>/channel>', '</rss>', '']\n",
      "pprint     function    <function pprint at 0x000000000139E048>\n"
     ]
    }
   ],
   "source": [
    "%whos"
   ]
  },
  {
   "cell_type": "code",
   "execution_count": null,
   "metadata": {
    "collapsed": true
   },
   "outputs": [],
   "source": []
  }
 ],
 "metadata": {
  "anaconda-cloud": {},
  "kernelspec": {
   "display_name": "Python [default]",
   "language": "python",
   "name": "python3"
  },
  "language_info": {
   "codemirror_mode": {
    "name": "ipython",
    "version": 3
   },
   "file_extension": ".py",
   "mimetype": "text/x-python",
   "name": "python",
   "nbconvert_exporter": "python",
   "pygments_lexer": "ipython3",
   "version": "3.5.4"
  },
  "nbpresent": {
   "slides": {
    "23673747-901c-4d6b-8759-82c5fb9d7fe1": {
     "id": "23673747-901c-4d6b-8759-82c5fb9d7fe1",
     "prev": "fc75ab89-e907-449f-922b-62e9ca7d058d",
     "regions": {
      "fda7a84c-5f5e-492d-ad6c-6cf72d998c49": {
       "attrs": {
        "height": 0.8,
        "width": 0.8,
        "x": 0.1,
        "y": 0.1
       },
       "content": {
        "cell": "3d7532a8-ba6a-4a32-aac4-0e663134eb92",
        "part": "whole"
       },
       "id": "fda7a84c-5f5e-492d-ad6c-6cf72d998c49"
      }
     }
    },
    "3f7460b2-a77e-4658-b98e-390e946243c5": {
     "id": "3f7460b2-a77e-4658-b98e-390e946243c5",
     "prev": null,
     "regions": {
      "64d308ec-c698-42f5-8b2b-b33e77e87bc2": {
       "attrs": {
        "height": 0.7999999999999999,
        "width": 0.7999999999999999,
        "x": 0.0717945958417463,
        "y": 0.10456618887858124
       },
       "content": {
        "cell": "582d78d0-654f-46f5-b84e-aef4b1fa8d8c",
        "part": "whole"
       },
       "id": "64d308ec-c698-42f5-8b2b-b33e77e87bc2"
      }
     }
    },
    "4ade3ee3-6562-4554-a938-76a3c81d3e23": {
     "id": "4ade3ee3-6562-4554-a938-76a3c81d3e23",
     "layout": "grid",
     "prev": "3f7460b2-a77e-4658-b98e-390e946243c5",
     "regions": {
      "3bbf5fba-89fc-4daf-a7bf-8ab737aabc5f": {
       "attrs": {
        "height": 0.8333333333333334,
        "pad": 0.01,
        "width": 0.8333333333333334,
        "x": 0.08333333333333333,
        "y": 0.08333333333333333
       },
       "id": "3bbf5fba-89fc-4daf-a7bf-8ab737aabc5f"
      },
      "c645719b-08d1-4b1c-a69a-054348f8832c": {
       "attrs": {
        "height": 1,
        "pad": 0.01,
        "treemap:weight": 1,
        "width": 1,
        "x": 0,
        "y": 0
       },
       "content": {
        "cell": "786f1709-cbfc-4c32-93c2-af4f0e12b0df",
        "part": "whole"
       },
       "id": "c645719b-08d1-4b1c-a69a-054348f8832c"
      }
     }
    },
    "8d49c7da-0308-45ba-9445-332c2be90859": {
     "id": "8d49c7da-0308-45ba-9445-332c2be90859",
     "prev": "4ade3ee3-6562-4554-a938-76a3c81d3e23",
     "regions": {
      "26d31c39-6755-4bce-8a33-1569a61fe1d1": {
       "attrs": {
        "height": 0.8,
        "width": 0.8,
        "x": 0.1,
        "y": 0.1
       },
       "content": {
        "cell": "c09b5523-d585-467b-9744-1f0abd189b9c",
        "part": "whole"
       },
       "id": "26d31c39-6755-4bce-8a33-1569a61fe1d1"
      }
     }
    },
    "c8ff81ba-43e4-48cb-8cb9-6b20a1ea0981": {
     "id": "c8ff81ba-43e4-48cb-8cb9-6b20a1ea0981",
     "prev": "8d49c7da-0308-45ba-9445-332c2be90859",
     "regions": {
      "19b1f822-0f71-4b83-81bb-473d22269d9c": {
       "attrs": {
        "height": 0.8,
        "width": 0.8,
        "x": 0.1,
        "y": 0.1
       },
       "content": {
        "cell": "50e605bb-7fbf-4577-8de1-1ce5b7ac28d3",
        "part": "whole"
       },
       "id": "19b1f822-0f71-4b83-81bb-473d22269d9c"
      }
     }
    },
    "f9d2aaf0-03d0-4a0a-8e33-f3544b7fe5f3": {
     "id": "f9d2aaf0-03d0-4a0a-8e33-f3544b7fe5f3",
     "prev": "ff1a117d-065c-4434-9fec-58031b17c38c",
     "regions": {
      "28221bbb-d3f3-4adc-a973-c56474c281a1": {
       "attrs": {
        "height": 0.8,
        "width": 0.8,
        "x": 0.1,
        "y": 0.1
       },
       "content": {
        "cell": "6228797a-2acd-4c7b-9990-a30153a531a1",
        "part": "whole"
       },
       "id": "28221bbb-d3f3-4adc-a973-c56474c281a1"
      }
     }
    },
    "fc75ab89-e907-449f-922b-62e9ca7d058d": {
     "id": "fc75ab89-e907-449f-922b-62e9ca7d058d",
     "prev": "c8ff81ba-43e4-48cb-8cb9-6b20a1ea0981",
     "regions": {
      "c9cde4f5-2f47-42d6-8dac-d7032dcfa7c8": {
       "attrs": {
        "height": 0.8,
        "width": 0.8,
        "x": 0.1,
        "y": 0.1
       },
       "content": {
        "cell": "c5a0d125-df82-4600-bca1-fbbf8ea7f3c3",
        "part": "whole"
       },
       "id": "c9cde4f5-2f47-42d6-8dac-d7032dcfa7c8"
      }
     }
    },
    "ff1a117d-065c-4434-9fec-58031b17c38c": {
     "id": "ff1a117d-065c-4434-9fec-58031b17c38c",
     "prev": "23673747-901c-4d6b-8759-82c5fb9d7fe1",
     "regions": {
      "d5704881-4136-4ccb-a694-870255c22459": {
       "attrs": {
        "height": 0.8,
        "width": 0.8,
        "x": 0.1,
        "y": 0.1
       },
       "content": {
        "cell": "1cb8dbb9-e1e1-49ce-ac48-4d954042c1be",
        "part": "whole"
       },
       "id": "d5704881-4136-4ccb-a694-870255c22459"
      }
     }
    }
   },
   "themes": {}
  }
 },
 "nbformat": 4,
 "nbformat_minor": 2
}
