{
 "cells": [
  {
   "cell_type": "markdown",
   "metadata": {},
   "source": [
    "# NO Service Calls in 2017 exploration file\n",
    "\n",
    "This notebook is for exploritory purposes.  Looking at service calls from the New Orleans Open Data website"
   ]
  },
  {
   "cell_type": "code",
   "execution_count": 2,
   "metadata": {
    "collapsed": true
   },
   "outputs": [],
   "source": [
    "import requests                           # For pulling in data via api portal\n",
    "import pandas as pd                       # Quick data frame formatting for CSV file\n",
    "import io                                 # Reading in the CSV directly from a request response \n",
    "from matplotlib import pyplot as plt\n",
    "import seaborn as sb"
   ]
  },
  {
   "cell_type": "code",
   "execution_count": 9,
   "metadata": {
    "collapsed": false
   },
   "outputs": [],
   "source": [
    "# pulling in the data from the NOLA open data site\n",
    "# it looks like the csv, json, and geojson are the same link just different extension if I need the other data\n",
    "\n",
    "web_pull_csv_11 = requests.get('https://data.nola.gov/resource/j7t8-jceh.csv')\n",
    "web_pull_csv_12 = requests.get('https://data.nola.gov/resource/wqku-yap7.csv')\n",
    "web_pull_csv_13 = requests.get('https://data.nola.gov/resource/gwr6-erwk.csv')\n",
    "web_pull_csv_14 = requests.get('https://data.nola.gov/resource/gvs2-k79j.csv')\n",
    "web_pull_csv_15 = requests.get('https://data.nola.gov/resource/guaz-xkez.csv')\n",
    "web_pull_csv_16 = requests.get('https://data.nola.gov/resource/ahnh-7f2h.csv')\n",
    "web_pull_csv_17 = requests.get('https://data.nola.gov/resource/bevf-jgit.csv')\n",
    "\n",
    "web_pull_csv = web_pull_csv_17 # for now so I can run through things quickly"
   ]
  },
  {
   "cell_type": "code",
   "execution_count": 10,
   "metadata": {
    "collapsed": false
   },
   "outputs": [],
   "source": [
    "# This takes the web response from the api, looks at the content and decodes it using io, and loads it into a pandas dataframe\n",
    "web_pull_cotnent_11 = web_pull_csv_11.content\n",
    "web_pull_cotnent_12 = web_pull_csv_12.content\n",
    "web_pull_cotnent_13 = web_pull_csv_13.content\n",
    "web_pull_cotnent_14 = web_pull_csv_14.content\n",
    "web_pull_cotnent_15 = web_pull_csv_15.content\n",
    "web_pull_cotnent_16 = web_pull_csv_16.content\n",
    "web_pull_cotnent_17 = web_pull_csv_17.content\n",
    "\n",
    "service_call_data_2011 = pd.read_csv(io.StringIO(web_pull_cotnent_11.decode('utf-8')))\n",
    "service_call_data_2012 = pd.read_csv(io.StringIO(web_pull_cotnent_12.decode('utf-8')))\n",
    "service_call_data_2013 = pd.read_csv(io.StringIO(web_pull_cotnent_13.decode('utf-8')))\n",
    "service_call_data_2014 = pd.read_csv(io.StringIO(web_pull_cotnent_14.decode('utf-8')))\n",
    "service_call_data_2015 = pd.read_csv(io.StringIO(web_pull_cotnent_15.decode('utf-8')))\n",
    "service_call_data_2016 = pd.read_csv(io.StringIO(web_pull_cotnent_16.decode('utf-8')))\n",
    "service_call_data_2017 = pd.read_csv(io.StringIO(web_pull_cotnent_17.decode('utf-8')))"
   ]
  },
  {
   "cell_type": "code",
   "execution_count": 12,
   "metadata": {
    "collapsed": true
   },
   "outputs": [],
   "source": [
    "service_call_data_2011['year'] = 2011\n",
    "service_call_data_2012['year'] = 2012\n",
    "service_call_data_2013['year'] = 2013\n",
    "service_call_data_2014['year'] = 2014\n",
    "service_call_data_2015['year'] = 2015\n",
    "service_call_data_2016['year'] = 2016\n",
    "service_call_data_2017['year'] = 2017"
   ]
  },
  {
   "cell_type": "code",
   "execution_count": 17,
   "metadata": {
    "collapsed": false
   },
   "outputs": [],
   "source": [
    "sc = pd.concat([\n",
    "    service_call_data_2011,\n",
    "    service_call_data_2012,\n",
    "    service_call_data_2013,\n",
    "    service_call_data_2014,\n",
    "    service_call_data_2015,\n",
    "    service_call_data_2016,\n",
    "    service_call_data_2017,\n",
    "])"
   ]
  },
  {
   "cell_type": "code",
   "execution_count": 19,
   "metadata": {
    "collapsed": false
   },
   "outputs": [
    {
     "data": {
      "text/plain": [
       "7000"
      ]
     },
     "execution_count": 19,
     "metadata": {},
     "output_type": "execute_result"
    }
   ],
   "source": [
    "len(sc)\n"
   ]
  },
  {
   "cell_type": "code",
   "execution_count": 21,
   "metadata": {
    "collapsed": false
   },
   "outputs": [
    {
     "data": {
      "text/html": [
       "<div>\n",
       "<table border=\"1\" class=\"dataframe\">\n",
       "  <thead>\n",
       "    <tr style=\"text-align: right;\">\n",
       "      <th></th>\n",
       "      <th>:@computed_region_7fw3_kdpf</th>\n",
       "      <th>:@computed_region_evki_aju8</th>\n",
       "      <th>:@computed_region_ewbu_t8bu</th>\n",
       "      <th>:@computed_region_k37d_then</th>\n",
       "      <th>:@computed_region_m56f_hbma</th>\n",
       "      <th>:@computed_region_sikx_bdeb</th>\n",
       "      <th>:@computed_region_spev_d8jm</th>\n",
       "      <th>:@computed_region_u4yh_3wk9</th>\n",
       "      <th>location_address</th>\n",
       "      <th>location_city</th>\n",
       "      <th>location_state</th>\n",
       "      <th>location_zip</th>\n",
       "      <th>mapx</th>\n",
       "      <th>mapy</th>\n",
       "      <th>policedistrict</th>\n",
       "      <th>year</th>\n",
       "      <th>zip</th>\n",
       "    </tr>\n",
       "  </thead>\n",
       "  <tbody>\n",
       "    <tr>\n",
       "      <th>count</th>\n",
       "      <td>2697.000000</td>\n",
       "      <td>2697.000000</td>\n",
       "      <td>2695.000000</td>\n",
       "      <td>2697.000000</td>\n",
       "      <td>2594.000000</td>\n",
       "      <td>2594.000000</td>\n",
       "      <td>2776.000000</td>\n",
       "      <td>2621.000000</td>\n",
       "      <td>0.0</td>\n",
       "      <td>0.0</td>\n",
       "      <td>0.0</td>\n",
       "      <td>0.0</td>\n",
       "      <td>7.000000e+03</td>\n",
       "      <td>7.000000e+03</td>\n",
       "      <td>7000.000000</td>\n",
       "      <td>7000.000000</td>\n",
       "      <td>6242.000000</td>\n",
       "    </tr>\n",
       "    <tr>\n",
       "      <th>mean</th>\n",
       "      <td>37.529477</td>\n",
       "      <td>4.523545</td>\n",
       "      <td>6839.317254</td>\n",
       "      <td>2.911383</td>\n",
       "      <td>105.271010</td>\n",
       "      <td>106.123747</td>\n",
       "      <td>3784.950288</td>\n",
       "      <td>6840.224342</td>\n",
       "      <td>NaN</td>\n",
       "      <td>NaN</td>\n",
       "      <td>NaN</td>\n",
       "      <td>NaN</td>\n",
       "      <td>2.344474e+07</td>\n",
       "      <td>2.280269e+06</td>\n",
       "      <td>3.861714</td>\n",
       "      <td>2014.000000</td>\n",
       "      <td>70120.512015</td>\n",
       "    </tr>\n",
       "    <tr>\n",
       "      <th>std</th>\n",
       "      <td>22.260712</td>\n",
       "      <td>2.261367</td>\n",
       "      <td>3875.355487</td>\n",
       "      <td>1.312152</td>\n",
       "      <td>78.597837</td>\n",
       "      <td>79.366726</td>\n",
       "      <td>336.626190</td>\n",
       "      <td>3872.143989</td>\n",
       "      <td>NaN</td>\n",
       "      <td>NaN</td>\n",
       "      <td>NaN</td>\n",
       "      <td>NaN</td>\n",
       "      <td>1.665155e+07</td>\n",
       "      <td>1.476081e+06</td>\n",
       "      <td>2.864920</td>\n",
       "      <td>2.000143</td>\n",
       "      <td>6.051713</td>\n",
       "    </tr>\n",
       "    <tr>\n",
       "      <th>min</th>\n",
       "      <td>1.000000</td>\n",
       "      <td>1.000000</td>\n",
       "      <td>14.000000</td>\n",
       "      <td>1.000000</td>\n",
       "      <td>2.000000</td>\n",
       "      <td>2.000000</td>\n",
       "      <td>2304.000000</td>\n",
       "      <td>14.000000</td>\n",
       "      <td>NaN</td>\n",
       "      <td>NaN</td>\n",
       "      <td>NaN</td>\n",
       "      <td>NaN</td>\n",
       "      <td>0.000000e+00</td>\n",
       "      <td>0.000000e+00</td>\n",
       "      <td>0.000000</td>\n",
       "      <td>2011.000000</td>\n",
       "      <td>70112.000000</td>\n",
       "    </tr>\n",
       "    <tr>\n",
       "      <th>25%</th>\n",
       "      <td>15.000000</td>\n",
       "      <td>3.000000</td>\n",
       "      <td>3442.000000</td>\n",
       "      <td>2.000000</td>\n",
       "      <td>27.000000</td>\n",
       "      <td>27.000000</td>\n",
       "      <td>3458.000000</td>\n",
       "      <td>3450.000000</td>\n",
       "      <td>NaN</td>\n",
       "      <td>NaN</td>\n",
       "      <td>NaN</td>\n",
       "      <td>NaN</td>\n",
       "      <td>3.683557e+06</td>\n",
       "      <td>5.369450e+05</td>\n",
       "      <td>1.000000</td>\n",
       "      <td>2012.000000</td>\n",
       "      <td>70115.000000</td>\n",
       "    </tr>\n",
       "    <tr>\n",
       "      <th>50%</th>\n",
       "      <td>41.000000</td>\n",
       "      <td>5.000000</td>\n",
       "      <td>7001.000000</td>\n",
       "      <td>3.000000</td>\n",
       "      <td>107.500000</td>\n",
       "      <td>109.000000</td>\n",
       "      <td>3768.000000</td>\n",
       "      <td>6991.000000</td>\n",
       "      <td>NaN</td>\n",
       "      <td>NaN</td>\n",
       "      <td>NaN</td>\n",
       "      <td>NaN</td>\n",
       "      <td>3.736900e+07</td>\n",
       "      <td>3.513814e+06</td>\n",
       "      <td>4.000000</td>\n",
       "      <td>2014.000000</td>\n",
       "      <td>70119.000000</td>\n",
       "    </tr>\n",
       "    <tr>\n",
       "      <th>75%</th>\n",
       "      <td>58.000000</td>\n",
       "      <td>7.000000</td>\n",
       "      <td>9708.000000</td>\n",
       "      <td>4.000000</td>\n",
       "      <td>181.000000</td>\n",
       "      <td>181.000000</td>\n",
       "      <td>4148.000000</td>\n",
       "      <td>9708.000000</td>\n",
       "      <td>NaN</td>\n",
       "      <td>NaN</td>\n",
       "      <td>NaN</td>\n",
       "      <td>NaN</td>\n",
       "      <td>3.736900e+07</td>\n",
       "      <td>3.513814e+06</td>\n",
       "      <td>7.000000</td>\n",
       "      <td>2016.000000</td>\n",
       "      <td>70126.000000</td>\n",
       "    </tr>\n",
       "    <tr>\n",
       "      <th>max</th>\n",
       "      <td>72.000000</td>\n",
       "      <td>8.000000</td>\n",
       "      <td>13921.000000</td>\n",
       "      <td>5.000000</td>\n",
       "      <td>260.000000</td>\n",
       "      <td>260.000000</td>\n",
       "      <td>4155.000000</td>\n",
       "      <td>13921.000000</td>\n",
       "      <td>NaN</td>\n",
       "      <td>NaN</td>\n",
       "      <td>NaN</td>\n",
       "      <td>NaN</td>\n",
       "      <td>3.736900e+07</td>\n",
       "      <td>3.513814e+06</td>\n",
       "      <td>8.000000</td>\n",
       "      <td>2017.000000</td>\n",
       "      <td>70148.000000</td>\n",
       "    </tr>\n",
       "  </tbody>\n",
       "</table>\n",
       "</div>"
      ],
      "text/plain": [
       "       :@computed_region_7fw3_kdpf  :@computed_region_evki_aju8  \\\n",
       "count                  2697.000000                  2697.000000   \n",
       "mean                     37.529477                     4.523545   \n",
       "std                      22.260712                     2.261367   \n",
       "min                       1.000000                     1.000000   \n",
       "25%                      15.000000                     3.000000   \n",
       "50%                      41.000000                     5.000000   \n",
       "75%                      58.000000                     7.000000   \n",
       "max                      72.000000                     8.000000   \n",
       "\n",
       "       :@computed_region_ewbu_t8bu  :@computed_region_k37d_then  \\\n",
       "count                  2695.000000                  2697.000000   \n",
       "mean                   6839.317254                     2.911383   \n",
       "std                    3875.355487                     1.312152   \n",
       "min                      14.000000                     1.000000   \n",
       "25%                    3442.000000                     2.000000   \n",
       "50%                    7001.000000                     3.000000   \n",
       "75%                    9708.000000                     4.000000   \n",
       "max                   13921.000000                     5.000000   \n",
       "\n",
       "       :@computed_region_m56f_hbma  :@computed_region_sikx_bdeb  \\\n",
       "count                  2594.000000                  2594.000000   \n",
       "mean                    105.271010                   106.123747   \n",
       "std                      78.597837                    79.366726   \n",
       "min                       2.000000                     2.000000   \n",
       "25%                      27.000000                    27.000000   \n",
       "50%                     107.500000                   109.000000   \n",
       "75%                     181.000000                   181.000000   \n",
       "max                     260.000000                   260.000000   \n",
       "\n",
       "       :@computed_region_spev_d8jm  :@computed_region_u4yh_3wk9  \\\n",
       "count                  2776.000000                  2621.000000   \n",
       "mean                   3784.950288                  6840.224342   \n",
       "std                     336.626190                  3872.143989   \n",
       "min                    2304.000000                    14.000000   \n",
       "25%                    3458.000000                  3450.000000   \n",
       "50%                    3768.000000                  6991.000000   \n",
       "75%                    4148.000000                  9708.000000   \n",
       "max                    4155.000000                 13921.000000   \n",
       "\n",
       "       location_address  location_city  location_state  location_zip  \\\n",
       "count               0.0            0.0             0.0           0.0   \n",
       "mean                NaN            NaN             NaN           NaN   \n",
       "std                 NaN            NaN             NaN           NaN   \n",
       "min                 NaN            NaN             NaN           NaN   \n",
       "25%                 NaN            NaN             NaN           NaN   \n",
       "50%                 NaN            NaN             NaN           NaN   \n",
       "75%                 NaN            NaN             NaN           NaN   \n",
       "max                 NaN            NaN             NaN           NaN   \n",
       "\n",
       "               mapx          mapy  policedistrict         year           zip  \n",
       "count  7.000000e+03  7.000000e+03     7000.000000  7000.000000   6242.000000  \n",
       "mean   2.344474e+07  2.280269e+06        3.861714  2014.000000  70120.512015  \n",
       "std    1.665155e+07  1.476081e+06        2.864920     2.000143      6.051713  \n",
       "min    0.000000e+00  0.000000e+00        0.000000  2011.000000  70112.000000  \n",
       "25%    3.683557e+06  5.369450e+05        1.000000  2012.000000  70115.000000  \n",
       "50%    3.736900e+07  3.513814e+06        4.000000  2014.000000  70119.000000  \n",
       "75%    3.736900e+07  3.513814e+06        7.000000  2016.000000  70126.000000  \n",
       "max    3.736900e+07  3.513814e+06        8.000000  2017.000000  70148.000000  "
      ]
     },
     "execution_count": 21,
     "metadata": {},
     "output_type": "execute_result"
    }
   ],
   "source": [
    "sc.describe()"
   ]
  },
  {
   "cell_type": "code",
   "execution_count": 33,
   "metadata": {
    "collapsed": false
   },
   "outputs": [
    {
     "data": {
      "image/png": "[encoded data removed]",
      "text/plain": [
       "<matplotlib.figure.Figure at 0x1e8800a78d0>"
      ]
     },
     "metadata": {},
     "output_type": "display_data"
    }
   ],
   "source": [
    "pr = sc['priority'].value_counts()\n",
    "\n",
    "\n",
    "pr.plot(kind='barh',rot=0)\n",
    "plt.show()\n",
    "\n"
   ]
  },
  {
   "cell_type": "code",
   "execution_count": 28,
   "metadata": {
    "collapsed": false
   },
   "outputs": [
    {
     "data": {
      "image/png": "[encoded data removed]",
      "text/plain": [
       "<Figure size 576x396 with 1 Axes>"
      ]
     },
     "metadata": {},
     "output_type": "display_data"
    }
   ],
   "source": [
    "\n",
    "ba = service_call_data_2017['block_address'].value_counts()\n",
    "\n",
    "#service_call_data_2017['block_address'].hist(bins=10)\n",
    "ba[:10].plot(kind='barh',rot=0)\n",
    "plt.show()"
   ]
  },
  {
   "cell_type": "code",
   "execution_count": 9,
   "metadata": {
    "collapsed": false
   },
   "outputs": [],
   "source": [
    "\n",
    "\n",
    "typetext = service_call_data_2017['type_']\n",
    "xy = typetext.value_counts()"
   ]
  },
  {
   "cell_type": "code",
   "execution_count": 7,
   "metadata": {
    "collapsed": false
   },
   "outputs": [
    {
     "data": {
      "text/plain": [
       "pandas.core.series.Series"
      ]
     },
     "execution_count": 7,
     "metadata": {},
     "output_type": "execute_result"
    }
   ],
   "source": [
    "type(xy)"
   ]
  },
  {
   "cell_type": "code",
   "execution_count": 17,
   "metadata": {
    "collapsed": false
   },
   "outputs": [
    {
     "data": {
      "image/png": "[encoded data removed]",
      "text/plain": [
       "<Figure size 576x396 with 1 Axes>"
      ]
     },
     "metadata": {},
     "output_type": "display_data"
    }
   ],
   "source": [
    "\n",
    "xy[:10].plot(kind='barh',rot=0)\n",
    "plt.show()"
   ]
  },
  {
   "cell_type": "code",
   "execution_count": 19,
   "metadata": {
    "collapsed": false
   },
   "outputs": [],
   "source": [
    "k = xy.keys()\n",
    "y = list(xy)"
   ]
  },
  {
   "cell_type": "code",
   "execution_count": 20,
   "metadata": {
    "collapsed": false
   },
   "outputs": [
    {
     "data": {
      "text/plain": [
       "43"
      ]
     },
     "execution_count": 20,
     "metadata": {},
     "output_type": "execute_result"
    }
   ],
   "source": [
    "k = list(xy[:10].keys())\n",
    "y = list(xy[:10].values)\n",
    "y[8]"
   ]
  },
  {
   "cell_type": "code",
   "execution_count": 21,
   "metadata": {
    "collapsed": false
   },
   "outputs": [
    {
     "data": {
      "image/png": "[encoded data removed]",
      "text/plain": [
       "<Figure size 576x396 with 1 Axes>"
      ]
     },
     "metadata": {},
     "output_type": "display_data"
    }
   ],
   "source": [
    "plt.bar(range(len(y)),y)\n",
    "plt.show()"
   ]
  },
  {
   "cell_type": "code",
   "execution_count": null,
   "metadata": {
    "collapsed": true
   },
   "outputs": [],
   "source": []
  }
 ],
 "metadata": {
  "anaconda-cloud": {},
  "kernelspec": {
   "display_name": "Python 3",
   "language": "python",
   "name": "python3"
  },
  "language_info": {
   "codemirror_mode": {
    "name": "ipython",
    "version": 3
   },
   "file_extension": ".py",
   "mimetype": "text/x-python",
   "name": "python",
   "nbconvert_exporter": "python",
   "pygments_lexer": "ipython3",
   "version": "3.6.0"
  }
 },
 "nbformat": 4,
 "nbformat_minor": 2
}
