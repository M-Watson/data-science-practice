{
 "cells": [
  {
   "cell_type": "markdown",
   "metadata": {},
   "source": [
    "# NO Service Calls in 2017 exploration file\n",
    "\n",
    "This notebook is for exploritory purposes.  Looking at service calls from the New Orleans Open Data website"
   ]
  },
  {
   "cell_type": "code",
   "execution_count": 9,
   "metadata": {},
   "outputs": [],
   "source": [
    "import requests                           # For pulling in data via api portal\n",
    "import pandas as pd                       # Quick data frame formatting for CSV file\n",
    "import io                                 # Reading in the CSV directly from a request response \n",
    "from matplotlib import pyplot as plt\n",
    "import seaborn as sb\n",
    "import shapely\n"
   ]
  },
  {
   "cell_type": "code",
   "execution_count": 2,
   "metadata": {},
   "outputs": [],
   "source": [
    "# pulling in the data from the NOLA open data site\n",
    "# it looks like the csv, json, and geojson are the same link just different extension if I need the other data\n",
    "\n",
    "web_pull_csv_11 = requests.get('https://data.nola.gov/resource/j7t8-jceh.csv')\n",
    "web_pull_csv_12 = requests.get('https://data.nola.gov/resource/wqku-yap7.csv')\n",
    "web_pull_csv_13 = requests.get('https://data.nola.gov/resource/gwr6-erwk.csv')\n",
    "web_pull_csv_14 = requests.get('https://data.nola.gov/resource/gvs2-k79j.csv')\n",
    "web_pull_csv_15 = requests.get('https://data.nola.gov/resource/guaz-xkez.csv')\n",
    "web_pull_csv_16 = requests.get('https://data.nola.gov/resource/ahnh-7f2h.csv')\n",
    "web_pull_csv_17 = requests.get('https://data.nola.gov/resource/bevf-jgit.csv')\n",
    "\n",
    "web_pull_csv = web_pull_csv_17 # for now so I can run through things quickly"
   ]
  },
  {
   "cell_type": "code",
   "execution_count": 3,
   "metadata": {},
   "outputs": [],
   "source": [
    "# This takes the web response from the api, looks at the content and decodes it using io, and loads it into a pandas dataframe\n",
    "web_pull_cotnent_11 = web_pull_csv_11.content\n",
    "web_pull_cotnent_12 = web_pull_csv_12.content\n",
    "web_pull_cotnent_13 = web_pull_csv_13.content\n",
    "web_pull_cotnent_14 = web_pull_csv_14.content\n",
    "web_pull_cotnent_15 = web_pull_csv_15.content\n",
    "web_pull_cotnent_16 = web_pull_csv_16.content\n",
    "web_pull_cotnent_17 = web_pull_csv_17.content\n",
    "\n",
    "service_call_data_2011 = pd.read_csv(io.StringIO(web_pull_cotnent_11.decode('utf-8')))\n",
    "service_call_data_2012 = pd.read_csv(io.StringIO(web_pull_cotnent_12.decode('utf-8')))\n",
    "service_call_data_2013 = pd.read_csv(io.StringIO(web_pull_cotnent_13.decode('utf-8')))\n",
    "service_call_data_2014 = pd.read_csv(io.StringIO(web_pull_cotnent_14.decode('utf-8')))\n",
    "service_call_data_2015 = pd.read_csv(io.StringIO(web_pull_cotnent_15.decode('utf-8')))\n",
    "service_call_data_2016 = pd.read_csv(io.StringIO(web_pull_cotnent_16.decode('utf-8')))\n",
    "service_call_data_2017 = pd.read_csv(io.StringIO(web_pull_cotnent_17.decode('utf-8')))"
   ]
  },
  {
   "cell_type": "code",
   "execution_count": 4,
   "metadata": {},
   "outputs": [],
   "source": [
    "service_call_data_2011['year'] = 2011\n",
    "service_call_data_2012['year'] = 2012\n",
    "service_call_data_2013['year'] = 2013\n",
    "service_call_data_2014['year'] = 2014\n",
    "service_call_data_2015['year'] = 2015\n",
    "service_call_data_2016['year'] = 2016\n",
    "service_call_data_2017['year'] = 2017"
   ]
  },
  {
   "cell_type": "code",
   "execution_count": 5,
   "metadata": {},
   "outputs": [
    {
     "name": "stderr",
     "output_type": "stream",
     "text": [
      "C:\\Users\\mwats\\AppData\\Local\\Continuum\\anaconda3\\lib\\site-packages\\ipykernel_launcher.py:8: FutureWarning: Sorting because non-concatenation axis is not aligned. A future version\n",
      "of pandas will change to not sort by default.\n",
      "\n",
      "To accept the future behavior, pass 'sort=True'.\n",
      "\n",
      "To retain the current behavior and silence the warning, pass sort=False\n",
      "\n",
      "  \n"
     ]
    }
   ],
   "source": [
    "sc = pd.concat([\n",
    "    service_call_data_2011,\n",
    "    service_call_data_2012,\n",
    "    service_call_data_2013,\n",
    "    service_call_data_2014,\n",
    "    service_call_data_2015,\n",
    "    service_call_data_2016,\n",
    "    service_call_data_2017,\n",
    "])"
   ]
  },
  {
   "cell_type": "code",
   "execution_count": 6,
   "metadata": {},
   "outputs": [
    {
     "data": {
      "image/png": "[encoded data removed]",
      "text/plain": [
       "<Figure size 432x288 with 1 Axes>"
      ]
     },
     "metadata": {},
     "output_type": "display_data"
    }
   ],
   "source": [
    "BY_YR = sc.groupby(['year','priority'])\n",
    "BY_YR['year'].count().plot()\n",
    "plt.show()"
   ]
  },
  {
   "cell_type": "code",
   "execution_count": 7,
   "metadata": {},
   "outputs": [
    {
     "data": {
      "text/html": [
       "<div>\n",
       "<table border=\"1\" class=\"dataframe\">\n",
       "  <thead>\n",
       "    <tr style=\"text-align: right;\">\n",
       "      <th></th>\n",
       "      <th>:@computed_region_7fw3_kdpf</th>\n",
       "      <th>:@computed_region_evki_aju8</th>\n",
       "      <th>:@computed_region_ewbu_t8bu</th>\n",
       "      <th>:@computed_region_k37d_then</th>\n",
       "      <th>:@computed_region_m56f_hbma</th>\n",
       "      <th>:@computed_region_sikx_bdeb</th>\n",
       "      <th>:@computed_region_spev_d8jm</th>\n",
       "      <th>:@computed_region_u4yh_3wk9</th>\n",
       "      <th>location_address</th>\n",
       "      <th>location_city</th>\n",
       "      <th>location_state</th>\n",
       "      <th>location_zip</th>\n",
       "      <th>mapx</th>\n",
       "      <th>mapy</th>\n",
       "      <th>policedistrict</th>\n",
       "      <th>year</th>\n",
       "      <th>zip</th>\n",
       "    </tr>\n",
       "  </thead>\n",
       "  <tbody>\n",
       "    <tr>\n",
       "      <th>count</th>\n",
       "      <td>2699.000000</td>\n",
       "      <td>2699.000000</td>\n",
       "      <td>2697.000000</td>\n",
       "      <td>2699.000000</td>\n",
       "      <td>2586.000000</td>\n",
       "      <td>2586.000000</td>\n",
       "      <td>2778.000000</td>\n",
       "      <td>2622.000000</td>\n",
       "      <td>0.0</td>\n",
       "      <td>0.0</td>\n",
       "      <td>0.0</td>\n",
       "      <td>0.0</td>\n",
       "      <td>7.000000e+03</td>\n",
       "      <td>7.000000e+03</td>\n",
       "      <td>7000.000000</td>\n",
       "      <td>7000.000000</td>\n",
       "      <td>6234.000000</td>\n",
       "    </tr>\n",
       "    <tr>\n",
       "      <th>mean</th>\n",
       "      <td>37.374213</td>\n",
       "      <td>4.551315</td>\n",
       "      <td>6837.976641</td>\n",
       "      <td>2.936643</td>\n",
       "      <td>106.790023</td>\n",
       "      <td>108.022815</td>\n",
       "      <td>3795.825414</td>\n",
       "      <td>6837.297864</td>\n",
       "      <td>NaN</td>\n",
       "      <td>NaN</td>\n",
       "      <td>NaN</td>\n",
       "      <td>NaN</td>\n",
       "      <td>2.342452e+07</td>\n",
       "      <td>2.278573e+06</td>\n",
       "      <td>3.869286</td>\n",
       "      <td>2014.000000</td>\n",
       "      <td>70120.588226</td>\n",
       "    </tr>\n",
       "    <tr>\n",
       "      <th>std</th>\n",
       "      <td>22.117116</td>\n",
       "      <td>2.278403</td>\n",
       "      <td>3857.743447</td>\n",
       "      <td>1.312562</td>\n",
       "      <td>78.450578</td>\n",
       "      <td>79.514595</td>\n",
       "      <td>336.955006</td>\n",
       "      <td>3849.063530</td>\n",
       "      <td>NaN</td>\n",
       "      <td>NaN</td>\n",
       "      <td>NaN</td>\n",
       "      <td>NaN</td>\n",
       "      <td>1.665618e+07</td>\n",
       "      <td>1.476395e+06</td>\n",
       "      <td>2.873367</td>\n",
       "      <td>2.000143</td>\n",
       "      <td>6.053375</td>\n",
       "    </tr>\n",
       "    <tr>\n",
       "      <th>min</th>\n",
       "      <td>1.000000</td>\n",
       "      <td>1.000000</td>\n",
       "      <td>14.000000</td>\n",
       "      <td>1.000000</td>\n",
       "      <td>2.000000</td>\n",
       "      <td>2.000000</td>\n",
       "      <td>2304.000000</td>\n",
       "      <td>14.000000</td>\n",
       "      <td>NaN</td>\n",
       "      <td>NaN</td>\n",
       "      <td>NaN</td>\n",
       "      <td>NaN</td>\n",
       "      <td>0.000000e+00</td>\n",
       "      <td>0.000000e+00</td>\n",
       "      <td>0.000000</td>\n",
       "      <td>2011.000000</td>\n",
       "      <td>70112.000000</td>\n",
       "    </tr>\n",
       "    <tr>\n",
       "      <th>25%</th>\n",
       "      <td>15.000000</td>\n",
       "      <td>3.000000</td>\n",
       "      <td>3420.000000</td>\n",
       "      <td>2.000000</td>\n",
       "      <td>27.000000</td>\n",
       "      <td>27.000000</td>\n",
       "      <td>3458.000000</td>\n",
       "      <td>3442.000000</td>\n",
       "      <td>NaN</td>\n",
       "      <td>NaN</td>\n",
       "      <td>NaN</td>\n",
       "      <td>NaN</td>\n",
       "      <td>3.683907e+06</td>\n",
       "      <td>5.370610e+05</td>\n",
       "      <td>1.000000</td>\n",
       "      <td>2012.000000</td>\n",
       "      <td>70116.000000</td>\n",
       "    </tr>\n",
       "    <tr>\n",
       "      <th>50%</th>\n",
       "      <td>40.000000</td>\n",
       "      <td>5.000000</td>\n",
       "      <td>7055.000000</td>\n",
       "      <td>3.000000</td>\n",
       "      <td>109.000000</td>\n",
       "      <td>109.000000</td>\n",
       "      <td>3768.000000</td>\n",
       "      <td>7048.000000</td>\n",
       "      <td>NaN</td>\n",
       "      <td>NaN</td>\n",
       "      <td>NaN</td>\n",
       "      <td>NaN</td>\n",
       "      <td>3.736900e+07</td>\n",
       "      <td>3.513814e+06</td>\n",
       "      <td>4.000000</td>\n",
       "      <td>2014.000000</td>\n",
       "      <td>70119.000000</td>\n",
       "    </tr>\n",
       "    <tr>\n",
       "      <th>75%</th>\n",
       "      <td>57.000000</td>\n",
       "      <td>7.000000</td>\n",
       "      <td>9749.000000</td>\n",
       "      <td>4.000000</td>\n",
       "      <td>181.000000</td>\n",
       "      <td>181.000000</td>\n",
       "      <td>4148.000000</td>\n",
       "      <td>9726.500000</td>\n",
       "      <td>NaN</td>\n",
       "      <td>NaN</td>\n",
       "      <td>NaN</td>\n",
       "      <td>NaN</td>\n",
       "      <td>3.736900e+07</td>\n",
       "      <td>3.513814e+06</td>\n",
       "      <td>7.000000</td>\n",
       "      <td>2016.000000</td>\n",
       "      <td>70126.000000</td>\n",
       "    </tr>\n",
       "    <tr>\n",
       "      <th>max</th>\n",
       "      <td>72.000000</td>\n",
       "      <td>8.000000</td>\n",
       "      <td>13900.000000</td>\n",
       "      <td>5.000000</td>\n",
       "      <td>260.000000</td>\n",
       "      <td>260.000000</td>\n",
       "      <td>4155.000000</td>\n",
       "      <td>13900.000000</td>\n",
       "      <td>NaN</td>\n",
       "      <td>NaN</td>\n",
       "      <td>NaN</td>\n",
       "      <td>NaN</td>\n",
       "      <td>3.736900e+07</td>\n",
       "      <td>3.513814e+06</td>\n",
       "      <td>8.000000</td>\n",
       "      <td>2017.000000</td>\n",
       "      <td>70148.000000</td>\n",
       "    </tr>\n",
       "  </tbody>\n",
       "</table>\n",
       "</div>"
      ],
      "text/plain": [
       "       :@computed_region_7fw3_kdpf  :@computed_region_evki_aju8  \\\n",
       "count                  2699.000000                  2699.000000   \n",
       "mean                     37.374213                     4.551315   \n",
       "std                      22.117116                     2.278403   \n",
       "min                       1.000000                     1.000000   \n",
       "25%                      15.000000                     3.000000   \n",
       "50%                      40.000000                     5.000000   \n",
       "75%                      57.000000                     7.000000   \n",
       "max                      72.000000                     8.000000   \n",
       "\n",
       "       :@computed_region_ewbu_t8bu  :@computed_region_k37d_then  \\\n",
       "count                  2697.000000                  2699.000000   \n",
       "mean                   6837.976641                     2.936643   \n",
       "std                    3857.743447                     1.312562   \n",
       "min                      14.000000                     1.000000   \n",
       "25%                    3420.000000                     2.000000   \n",
       "50%                    7055.000000                     3.000000   \n",
       "75%                    9749.000000                     4.000000   \n",
       "max                   13900.000000                     5.000000   \n",
       "\n",
       "       :@computed_region_m56f_hbma  :@computed_region_sikx_bdeb  \\\n",
       "count                  2586.000000                  2586.000000   \n",
       "mean                    106.790023                   108.022815   \n",
       "std                      78.450578                    79.514595   \n",
       "min                       2.000000                     2.000000   \n",
       "25%                      27.000000                    27.000000   \n",
       "50%                     109.000000                   109.000000   \n",
       "75%                     181.000000                   181.000000   \n",
       "max                     260.000000                   260.000000   \n",
       "\n",
       "       :@computed_region_spev_d8jm  :@computed_region_u4yh_3wk9  \\\n",
       "count                  2778.000000                  2622.000000   \n",
       "mean                   3795.825414                  6837.297864   \n",
       "std                     336.955006                  3849.063530   \n",
       "min                    2304.000000                    14.000000   \n",
       "25%                    3458.000000                  3442.000000   \n",
       "50%                    3768.000000                  7048.000000   \n",
       "75%                    4148.000000                  9726.500000   \n",
       "max                    4155.000000                 13900.000000   \n",
       "\n",
       "       location_address  location_city  location_state  location_zip  \\\n",
       "count               0.0            0.0             0.0           0.0   \n",
       "mean                NaN            NaN             NaN           NaN   \n",
       "std                 NaN            NaN             NaN           NaN   \n",
       "min                 NaN            NaN             NaN           NaN   \n",
       "25%                 NaN            NaN             NaN           NaN   \n",
       "50%                 NaN            NaN             NaN           NaN   \n",
       "75%                 NaN            NaN             NaN           NaN   \n",
       "max                 NaN            NaN             NaN           NaN   \n",
       "\n",
       "               mapx          mapy  policedistrict         year           zip  \n",
       "count  7.000000e+03  7.000000e+03     7000.000000  7000.000000   6234.000000  \n",
       "mean   2.342452e+07  2.278573e+06        3.869286  2014.000000  70120.588226  \n",
       "std    1.665618e+07  1.476395e+06        2.873367     2.000143      6.053375  \n",
       "min    0.000000e+00  0.000000e+00        0.000000  2011.000000  70112.000000  \n",
       "25%    3.683907e+06  5.370610e+05        1.000000  2012.000000  70116.000000  \n",
       "50%    3.736900e+07  3.513814e+06        4.000000  2014.000000  70119.000000  \n",
       "75%    3.736900e+07  3.513814e+06        7.000000  2016.000000  70126.000000  \n",
       "max    3.736900e+07  3.513814e+06        8.000000  2017.000000  70148.000000  "
      ]
     },
     "execution_count": 7,
     "metadata": {},
     "output_type": "execute_result"
    }
   ],
   "source": [
    "sc.describe()"
   ]
  },
  {
   "cell_type": "code",
   "execution_count": 7,
   "metadata": {},
   "outputs": [
    {
     "ename": "TypeError",
     "evalue": "unhashable type: 'slice'",
     "output_type": "error",
     "traceback": [
      "\u001b[1;31m---------------------------------------------------------------------------\u001b[0m",
      "\u001b[1;31mTypeError\u001b[0m                                 Traceback (most recent call last)",
      "\u001b[1;32m<ipython-input-7-054b438927b4>\u001b[0m in \u001b[0;36m<module>\u001b[1;34m()\u001b[0m\n\u001b[0;32m      2\u001b[0m \u001b[1;33m\u001b[0m\u001b[0m\n\u001b[0;32m      3\u001b[0m \u001b[1;33m\u001b[0m\u001b[0m\n\u001b[1;32m----> 4\u001b[1;33m \u001b[0mBY_YR\u001b[0m\u001b[1;33m[\u001b[0m\u001b[1;33m:\u001b[0m\u001b[1;36m10\u001b[0m\u001b[1;33m]\u001b[0m\u001b[1;33m.\u001b[0m\u001b[0mplot\u001b[0m\u001b[1;33m(\u001b[0m\u001b[0mkind\u001b[0m\u001b[1;33m=\u001b[0m\u001b[1;34m'barh'\u001b[0m\u001b[1;33m,\u001b[0m\u001b[0mstacked\u001b[0m\u001b[1;33m=\u001b[0m\u001b[1;32mTrue\u001b[0m\u001b[1;33m)\u001b[0m\u001b[1;33m\u001b[0m\u001b[0m\n\u001b[0m\u001b[0;32m      5\u001b[0m \u001b[0mplt\u001b[0m\u001b[1;33m.\u001b[0m\u001b[0mshow\u001b[0m\u001b[1;33m(\u001b[0m\u001b[1;33m)\u001b[0m\u001b[1;33m\u001b[0m\u001b[0m\n\u001b[0;32m      6\u001b[0m \u001b[1;33m\u001b[0m\u001b[0m\n",
      "\u001b[1;32m~\\AppData\\Local\\Continuum\\anaconda3\\lib\\site-packages\\pandas\\core\\base.py\u001b[0m in \u001b[0;36m__getitem__\u001b[1;34m(self, key)\u001b[0m\n\u001b[0;32m    264\u001b[0m \u001b[1;33m\u001b[0m\u001b[0m\n\u001b[0;32m    265\u001b[0m         \u001b[1;32melse\u001b[0m\u001b[1;33m:\u001b[0m\u001b[1;33m\u001b[0m\u001b[0m\n\u001b[1;32m--> 266\u001b[1;33m             \u001b[1;32mif\u001b[0m \u001b[0mkey\u001b[0m \u001b[1;32mnot\u001b[0m \u001b[1;32min\u001b[0m \u001b[0mself\u001b[0m\u001b[1;33m.\u001b[0m\u001b[0mobj\u001b[0m\u001b[1;33m:\u001b[0m\u001b[1;33m\u001b[0m\u001b[0m\n\u001b[0m\u001b[0;32m    267\u001b[0m                 \u001b[1;32mraise\u001b[0m \u001b[0mKeyError\u001b[0m\u001b[1;33m(\u001b[0m\u001b[1;34m\"Column not found: {key}\"\u001b[0m\u001b[1;33m.\u001b[0m\u001b[0mformat\u001b[0m\u001b[1;33m(\u001b[0m\u001b[0mkey\u001b[0m\u001b[1;33m=\u001b[0m\u001b[0mkey\u001b[0m\u001b[1;33m)\u001b[0m\u001b[1;33m)\u001b[0m\u001b[1;33m\u001b[0m\u001b[0m\n\u001b[0;32m    268\u001b[0m             \u001b[1;32mreturn\u001b[0m \u001b[0mself\u001b[0m\u001b[1;33m.\u001b[0m\u001b[0m_gotitem\u001b[0m\u001b[1;33m(\u001b[0m\u001b[0mkey\u001b[0m\u001b[1;33m,\u001b[0m \u001b[0mndim\u001b[0m\u001b[1;33m=\u001b[0m\u001b[1;36m1\u001b[0m\u001b[1;33m)\u001b[0m\u001b[1;33m\u001b[0m\u001b[0m\n",
      "\u001b[1;32m~\\AppData\\Local\\Continuum\\anaconda3\\lib\\site-packages\\pandas\\core\\generic.py\u001b[0m in \u001b[0;36m__contains__\u001b[1;34m(self, key)\u001b[0m\n\u001b[0;32m   1517\u001b[0m     \u001b[1;32mdef\u001b[0m \u001b[0m__contains__\u001b[0m\u001b[1;33m(\u001b[0m\u001b[0mself\u001b[0m\u001b[1;33m,\u001b[0m \u001b[0mkey\u001b[0m\u001b[1;33m)\u001b[0m\u001b[1;33m:\u001b[0m\u001b[1;33m\u001b[0m\u001b[0m\n\u001b[0;32m   1518\u001b[0m         \u001b[1;34m\"\"\"True if the key is in the info axis\"\"\"\u001b[0m\u001b[1;33m\u001b[0m\u001b[0m\n\u001b[1;32m-> 1519\u001b[1;33m         \u001b[1;32mreturn\u001b[0m \u001b[0mkey\u001b[0m \u001b[1;32min\u001b[0m \u001b[0mself\u001b[0m\u001b[1;33m.\u001b[0m\u001b[0m_info_axis\u001b[0m\u001b[1;33m\u001b[0m\u001b[0m\n\u001b[0m\u001b[0;32m   1520\u001b[0m \u001b[1;33m\u001b[0m\u001b[0m\n\u001b[0;32m   1521\u001b[0m     \u001b[1;33m@\u001b[0m\u001b[0mproperty\u001b[0m\u001b[1;33m\u001b[0m\u001b[0m\n",
      "\u001b[1;32m~\\AppData\\Local\\Continuum\\anaconda3\\lib\\site-packages\\pandas\\core\\indexes\\base.py\u001b[0m in \u001b[0;36m__contains__\u001b[1;34m(self, key)\u001b[0m\n\u001b[0;32m   2018\u001b[0m     \u001b[1;33m@\u001b[0m\u001b[0mAppender\u001b[0m\u001b[1;33m(\u001b[0m\u001b[0m_index_shared_docs\u001b[0m\u001b[1;33m[\u001b[0m\u001b[1;34m'__contains__'\u001b[0m\u001b[1;33m]\u001b[0m \u001b[1;33m%\u001b[0m \u001b[0m_index_doc_kwargs\u001b[0m\u001b[1;33m)\u001b[0m\u001b[1;33m\u001b[0m\u001b[0m\n\u001b[0;32m   2019\u001b[0m     \u001b[1;32mdef\u001b[0m \u001b[0m__contains__\u001b[0m\u001b[1;33m(\u001b[0m\u001b[0mself\u001b[0m\u001b[1;33m,\u001b[0m \u001b[0mkey\u001b[0m\u001b[1;33m)\u001b[0m\u001b[1;33m:\u001b[0m\u001b[1;33m\u001b[0m\u001b[0m\n\u001b[1;32m-> 2020\u001b[1;33m         \u001b[0mhash\u001b[0m\u001b[1;33m(\u001b[0m\u001b[0mkey\u001b[0m\u001b[1;33m)\u001b[0m\u001b[1;33m\u001b[0m\u001b[0m\n\u001b[0m\u001b[0;32m   2021\u001b[0m         \u001b[1;32mtry\u001b[0m\u001b[1;33m:\u001b[0m\u001b[1;33m\u001b[0m\u001b[0m\n\u001b[0;32m   2022\u001b[0m             \u001b[1;32mreturn\u001b[0m \u001b[0mkey\u001b[0m \u001b[1;32min\u001b[0m \u001b[0mself\u001b[0m\u001b[1;33m.\u001b[0m\u001b[0m_engine\u001b[0m\u001b[1;33m\u001b[0m\u001b[0m\n",
      "\u001b[1;31mTypeError\u001b[0m: unhashable type: 'slice'"
     ]
    }
   ],
   "source": [
    "pr = sc['priority'].value_counts()\n",
    "\n",
    "\n",
    "BY_YR[:10].plot(kind='barh',stacked=True)\n",
    "plt.show()\n",
    "\n",
    "\n"
   ]
  },
  {
   "cell_type": "code",
   "execution_count": 9,
   "metadata": {},
   "outputs": [
    {
     "data": {
      "image/png": "[encoded data removed]",
      "text/plain": [
       "<matplotlib.figure.Figure at 0x1a1a6cde6d8>"
      ]
     },
     "metadata": {},
     "output_type": "display_data"
    }
   ],
   "source": [
    "\n",
    "ba = service_call_data_2017['block_address'].value_counts()\n",
    "\n",
    "#service_call_data_2017['block_address'].hist(bins=10)\n",
    "ba[:10].plot(kind='barh',rot=0)\n",
    "plt.show()"
   ]
  },
  {
   "cell_type": "code",
   "execution_count": null,
   "metadata": {},
   "outputs": [],
   "source": [
    "\n",
    "\n",
    "typetext = service_call_data_2017['type_']\n",
    "xy = typetext.value_counts()"
   ]
  },
  {
   "cell_type": "code",
   "execution_count": null,
   "metadata": {},
   "outputs": [],
   "source": [
    "type(xy)"
   ]
  },
  {
   "cell_type": "code",
   "execution_count": 8,
   "metadata": {},
   "outputs": [
    {
     "ename": "NameError",
     "evalue": "name 'xy' is not defined",
     "output_type": "error",
     "traceback": [
      "\u001b[1;31m---------------------------------------------------------------------------\u001b[0m",
      "\u001b[1;31mNameError\u001b[0m                                 Traceback (most recent call last)",
      "\u001b[1;32m<ipython-input-8-792ebcb0b325>\u001b[0m in \u001b[0;36m<module>\u001b[1;34m()\u001b[0m\n\u001b[0;32m      1\u001b[0m \u001b[1;33m\u001b[0m\u001b[0m\n\u001b[1;32m----> 2\u001b[1;33m \u001b[0mxy\u001b[0m\u001b[1;33m[\u001b[0m\u001b[1;33m:\u001b[0m\u001b[1;36m10\u001b[0m\u001b[1;33m]\u001b[0m\u001b[1;33m.\u001b[0m\u001b[0mplot\u001b[0m\u001b[1;33m(\u001b[0m\u001b[0mkind\u001b[0m\u001b[1;33m=\u001b[0m\u001b[1;34m'barh'\u001b[0m\u001b[1;33m,\u001b[0m\u001b[0mrot\u001b[0m\u001b[1;33m=\u001b[0m\u001b[1;36m0\u001b[0m\u001b[1;33m)\u001b[0m\u001b[1;33m\u001b[0m\u001b[0m\n\u001b[0m\u001b[0;32m      3\u001b[0m \u001b[0mplt\u001b[0m\u001b[1;33m.\u001b[0m\u001b[0mshow\u001b[0m\u001b[1;33m(\u001b[0m\u001b[1;33m)\u001b[0m\u001b[1;33m\u001b[0m\u001b[0m\n",
      "\u001b[1;31mNameError\u001b[0m: name 'xy' is not defined"
     ]
    }
   ],
   "source": [
    "\n",
    "xy[:10].plot(kind='barh',rot=0)\n",
    "plt.show()"
   ]
  },
  {
   "cell_type": "code",
   "execution_count": null,
   "metadata": {},
   "outputs": [],
   "source": [
    "k = xy.keys()\n",
    "y = list(xy)"
   ]
  },
  {
   "cell_type": "code",
   "execution_count": null,
   "metadata": {},
   "outputs": [],
   "source": [
    "k = list(xy[:10].keys())\n",
    "y = list(xy[:10].values)\n",
    "y[8]"
   ]
  },
  {
   "cell_type": "code",
   "execution_count": null,
   "metadata": {},
   "outputs": [],
   "source": [
    "plt.bar(range(len(y)),y)\n",
    "plt.show()"
   ]
  },
  {
   "cell_type": "code",
   "execution_count": null,
   "metadata": {
    "collapsed": true
   },
   "outputs": [],
   "source": []
  }
 ],
 "metadata": {
  "anaconda-cloud": {},
  "kernelspec": {
   "display_name": "Python 3",
   "language": "python",
   "name": "python3"
  },
  "language_info": {
   "codemirror_mode": {
    "name": "ipython",
    "version": 3
   },
   "file_extension": ".py",
   "mimetype": "text/x-python",
   "name": "python",
   "nbconvert_exporter": "python",
   "pygments_lexer": "ipython3",
   "version": "3.6.5"
  }
 },
 "nbformat": 4,
 "nbformat_minor": 2
}
