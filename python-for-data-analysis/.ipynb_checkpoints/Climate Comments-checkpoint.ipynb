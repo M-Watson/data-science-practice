{
 "cells": [
  {
   "cell_type": "code",
   "execution_count": 1,
   "metadata": {},
   "outputs": [],
   "source": [
    "import requests\n",
    "import pandas as pd\n",
    "import io"
   ]
  },
  {
   "cell_type": "code",
   "execution_count": 2,
   "metadata": {},
   "outputs": [],
   "source": [
    "url = \"https://m-watson.github.io/assets/data/climate comments.csv\""
   ]
  },
  {
   "cell_type": "code",
   "execution_count": 3,
   "metadata": {},
   "outputs": [],
   "source": [
    "data = requests.get(url).content"
   ]
  },
  {
   "cell_type": "code",
   "execution_count": 4,
   "metadata": {},
   "outputs": [],
   "source": [
    "data\n",
    "df = pd.read_csv(io.StringIO(data.decode('utf-8')))"
   ]
  },
  {
   "cell_type": "code",
   "execution_count": 17,
   "metadata": {},
   "outputs": [
    {
     "data": {
      "text/html": [
       "<div>\n",
       "<style scoped>\n",
       "    .dataframe tbody tr th:only-of-type {\n",
       "        vertical-align: middle;\n",
       "    }\n",
       "\n",
       "    .dataframe tbody tr th {\n",
       "        vertical-align: top;\n",
       "    }\n",
       "\n",
       "    .dataframe thead th {\n",
       "        text-align: right;\n",
       "    }\n",
       "</style>\n",
       "<table border=\"1\" class=\"dataframe\">\n",
       "  <thead>\n",
       "    <tr style=\"text-align: right;\">\n",
       "      <th></th>\n",
       "      <th>First Name</th>\n",
       "      <th>Last Name</th>\n",
       "      <th>Comment\r",
       "ID</th>\n",
       "      <th>Comment\r",
       "Type</th>\n",
       "      <th>Chapter</th>\n",
       "      <th>Figure/Table\r",
       "Number</th>\n",
       "      <th>Start\r",
       "Page</th>\n",
       "      <th>End\r",
       "Page</th>\n",
       "      <th>Start\r",
       "Line</th>\n",
       "      <th>End\r",
       "Line</th>\n",
       "      <th>Comment</th>\n",
       "      <th>Response</th>\n",
       "    </tr>\n",
       "  </thead>\n",
       "  <tbody>\n",
       "    <tr>\n",
       "      <th>count</th>\n",
       "      <td>3646</td>\n",
       "      <td>3646</td>\n",
       "      <td>3645</td>\n",
       "      <td>3665</td>\n",
       "      <td>3601</td>\n",
       "      <td>400</td>\n",
       "      <td>3324</td>\n",
       "      <td>2972</td>\n",
       "      <td>3097</td>\n",
       "      <td>2966</td>\n",
       "      <td>3665</td>\n",
       "      <td>3662</td>\n",
       "    </tr>\n",
       "    <tr>\n",
       "      <th>unique</th>\n",
       "      <td>130</td>\n",
       "      <td>150</td>\n",
       "      <td>3394</td>\n",
       "      <td>8</td>\n",
       "      <td>38</td>\n",
       "      <td>53</td>\n",
       "      <td>665</td>\n",
       "      <td>626</td>\n",
       "      <td>40</td>\n",
       "      <td>44</td>\n",
       "      <td>3343</td>\n",
       "      <td>2778</td>\n",
       "    </tr>\n",
       "    <tr>\n",
       "      <th>top</th>\n",
       "      <td>Michael</td>\n",
       "      <td>MacCracken</td>\n",
       "      <td>Comment\\rID</td>\n",
       "      <td>Text Region</td>\n",
       "      <td>28. Near-Term\\rAdaptation Needs and\\rIncreased...</td>\n",
       "      <td>Figure/Table\\rNumber</td>\n",
       "      <td>Start\\rPage</td>\n",
       "      <td>End\\rPage</td>\n",
       "      <td>Start\\rLine</td>\n",
       "      <td>End\\rLine</td>\n",
       "      <td>Comment</td>\n",
       "      <td>Response</td>\n",
       "    </tr>\n",
       "    <tr>\n",
       "      <th>freq</th>\n",
       "      <td>787</td>\n",
       "      <td>756</td>\n",
       "      <td>249</td>\n",
       "      <td>2722</td>\n",
       "      <td>314</td>\n",
       "      <td>249</td>\n",
       "      <td>249</td>\n",
       "      <td>249</td>\n",
       "      <td>249</td>\n",
       "      <td>249</td>\n",
       "      <td>249</td>\n",
       "      <td>249</td>\n",
       "    </tr>\n",
       "  </tbody>\n",
       "</table>\n",
       "</div>"
      ],
      "text/plain": [
       "       First Name   Last Name  Comment\\rID Comment\\rType  \\\n",
       "count        3646        3646         3645          3665   \n",
       "unique        130         150         3394             8   \n",
       "top       Michael  MacCracken  Comment\\rID   Text Region   \n",
       "freq          787         756          249          2722   \n",
       "\n",
       "                                                  Chapter  \\\n",
       "count                                                3601   \n",
       "unique                                                 38   \n",
       "top     28. Near-Term\\rAdaptation Needs and\\rIncreased...   \n",
       "freq                                                  314   \n",
       "\n",
       "        Figure/Table\\rNumber  Start\\rPage  End\\rPage  Start\\rLine  End\\rLine  \\\n",
       "count                    400         3324       2972         3097       2966   \n",
       "unique                    53          665        626           40         44   \n",
       "top     Figure/Table\\rNumber  Start\\rPage  End\\rPage  Start\\rLine  End\\rLine   \n",
       "freq                     249          249        249          249        249   \n",
       "\n",
       "        Comment  Response  \n",
       "count      3665      3662  \n",
       "unique     3343      2778  \n",
       "top     Comment  Response  \n",
       "freq        249       249  "
      ]
     },
     "execution_count": 17,
     "metadata": {},
     "output_type": "execute_result"
    }
   ],
   "source": [
    "df.describe()"
   ]
  },
  {
   "cell_type": "code",
   "execution_count": null,
   "metadata": {},
   "outputs": [],
   "source": [
    "df['Chapter'].hist()"
   ]
  },
  {
   "cell_type": "code",
   "execution_count": null,
   "metadata": {},
   "outputs": [],
   "source": [
    "len(df)"
   ]
  },
  {
   "cell_type": "code",
   "execution_count": null,
   "metadata": {},
   "outputs": [],
   "source": []
  }
 ],
 "metadata": {
  "kernelspec": {
   "display_name": "Python 3",
   "language": "python",
   "name": "python3"
  },
  "language_info": {
   "codemirror_mode": {
    "name": "ipython",
    "version": 3
   },
   "file_extension": ".py",
   "mimetype": "text/x-python",
   "name": "python",
   "nbconvert_exporter": "python",
   "pygments_lexer": "ipython3",
   "version": "3.7.1"
  }
 },
 "nbformat": 4,
 "nbformat_minor": 2
}
