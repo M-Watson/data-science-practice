{
 "cells": [
  {
   "cell_type": "code",
   "execution_count": 1,
   "metadata": {
    "collapsed": true
   },
   "outputs": [],
   "source": [
    "import pandas as pd\n",
    "import requests\n",
    "import io\n",
    "from matplotlib import pyplot as plt"
   ]
  },
  {
   "cell_type": "code",
   "execution_count": 2,
   "metadata": {
    "collapsed": true
   },
   "outputs": [],
   "source": [
    "csv_url = 'https://data.honolulu.gov/resource/2hpk-5j7p.csv' #building permits from 2005 to 2018\n",
    "\n",
    "# This is taken from a github for now: https://github.com/codeforamerica/click_that_hood/blob/master/public/data/honolulu.geojson\n",
    "geojson_url = 'https://raw.githubusercontent.com/codeforamerica/click_that_hood/master/public/data/honolulu.geojson'"
   ]
  },
  {
   "cell_type": "code",
   "execution_count": 3,
   "metadata": {
    "collapsed": true
   },
   "outputs": [],
   "source": [
    "web_pull_csv = requests.get(csv_url)"
   ]
  },
  {
   "cell_type": "code",
   "execution_count": 4,
   "metadata": {
    "collapsed": true
   },
   "outputs": [],
   "source": [
    "# This takes the web response from the api, looks at the content and decodes it using io, and loads it into a pandas dataframe\n",
    "web_pull_cotnent = web_pull_csv.content\n",
    "business_license_05_to_18 = pd.read_csv(io.StringIO(web_pull_cotnent.decode('utf-8')))\n",
    "data = business_license_05_to_18 # renaming data for short name for now, just for ease"
   ]
  },
  {
   "cell_type": "code",
   "execution_count": 5,
   "metadata": {
    "collapsed": false
   },
   "outputs": [
    {
     "data": {
      "text/html": [
       "<div>\n",
       "<table border=\"1\" class=\"dataframe\">\n",
       "  <thead>\n",
       "    <tr style=\"text-align: right;\">\n",
       "      <th></th>\n",
       "      <th>:@computed_region_7asa_3qps</th>\n",
       "      <th>acceptedvalue</th>\n",
       "      <th>accessorydwellingunitadu</th>\n",
       "      <th>addition</th>\n",
       "      <th>alteration</th>\n",
       "      <th>applicant</th>\n",
       "      <th>bpfeecalculation</th>\n",
       "      <th>bpfeescollected</th>\n",
       "      <th>buildingpermitno</th>\n",
       "      <th>buildingpermittype</th>\n",
       "      <th>...</th>\n",
       "      <th>solarvpinstallation</th>\n",
       "      <th>stateproject</th>\n",
       "      <th>statusdescription</th>\n",
       "      <th>statusid</th>\n",
       "      <th>structurecode</th>\n",
       "      <th>tmk</th>\n",
       "      <th>tmklookup</th>\n",
       "      <th>totalfloorarea</th>\n",
       "      <th>typesofconstructionactual</th>\n",
       "      <th>typesofconstructionmin</th>\n",
       "    </tr>\n",
       "  </thead>\n",
       "  <tbody>\n",
       "    <tr>\n",
       "      <th>0</th>\n",
       "      <td>NaN</td>\n",
       "      <td>32000.0</td>\n",
       "      <td>N</td>\n",
       "      <td>N</td>\n",
       "      <td>Y</td>\n",
       "      <td>CADIZ, ERWIN</td>\n",
       "      <td>604.0</td>\n",
       "      <td>654.0</td>\n",
       "      <td>643138</td>\n",
       "      <td>NaN</td>\n",
       "      <td>...</td>\n",
       "      <td>N</td>\n",
       "      <td>NaN</td>\n",
       "      <td>Inspection(s) in Progress</td>\n",
       "      <td>800</td>\n",
       "      <td>51 - SINGLE FAMILY</td>\n",
       "      <td>94036015</td>\n",
       "      <td>94036015-</td>\n",
       "      <td>NaN</td>\n",
       "      <td>VN</td>\n",
       "      <td>VN</td>\n",
       "    </tr>\n",
       "    <tr>\n",
       "      <th>1</th>\n",
       "      <td>NaN</td>\n",
       "      <td>15000.0</td>\n",
       "      <td>N</td>\n",
       "      <td>N</td>\n",
       "      <td>N</td>\n",
       "      <td>PROFESSIONAL ELECTRIC, LLC, C/O JASON PRAETORIUS</td>\n",
       "      <td>311.0</td>\n",
       "      <td>311.0</td>\n",
       "      <td>815311</td>\n",
       "      <td>NaN</td>\n",
       "      <td>...</td>\n",
       "      <td>N</td>\n",
       "      <td>NaN</td>\n",
       "      <td>Inspection(s) in Progress</td>\n",
       "      <td>800</td>\n",
       "      <td>96 - ELECTRICAL</td>\n",
       "      <td>94145068</td>\n",
       "      <td>94145068-</td>\n",
       "      <td>NaN</td>\n",
       "      <td>VN</td>\n",
       "      <td>VN</td>\n",
       "    </tr>\n",
       "    <tr>\n",
       "      <th>2</th>\n",
       "      <td>NaN</td>\n",
       "      <td>1500.0</td>\n",
       "      <td>N</td>\n",
       "      <td>N</td>\n",
       "      <td>N</td>\n",
       "      <td>ORENZO BUTAC</td>\n",
       "      <td>41.0</td>\n",
       "      <td>41.0</td>\n",
       "      <td>728393</td>\n",
       "      <td>NaN</td>\n",
       "      <td>...</td>\n",
       "      <td>N</td>\n",
       "      <td>No</td>\n",
       "      <td>Inspection(s) in Progress</td>\n",
       "      <td>800</td>\n",
       "      <td>96 - ELECTRICAL</td>\n",
       "      <td>91042079</td>\n",
       "      <td>91042079-</td>\n",
       "      <td>NaN</td>\n",
       "      <td>NaN</td>\n",
       "      <td>NaN</td>\n",
       "    </tr>\n",
       "    <tr>\n",
       "      <th>3</th>\n",
       "      <td>NaN</td>\n",
       "      <td>1500.0</td>\n",
       "      <td>N</td>\n",
       "      <td>N</td>\n",
       "      <td>N</td>\n",
       "      <td>WAIALUA BEACH LAND CO LLC</td>\n",
       "      <td>41.0</td>\n",
       "      <td>41.0</td>\n",
       "      <td>722594</td>\n",
       "      <td>NaN</td>\n",
       "      <td>...</td>\n",
       "      <td>N</td>\n",
       "      <td>No</td>\n",
       "      <td>Inspection(s) in Progress</td>\n",
       "      <td>800</td>\n",
       "      <td>96 - ELECTRICAL</td>\n",
       "      <td>66018006</td>\n",
       "      <td>66018006-</td>\n",
       "      <td>NaN</td>\n",
       "      <td>NaN</td>\n",
       "      <td>NaN</td>\n",
       "    </tr>\n",
       "    <tr>\n",
       "      <th>4</th>\n",
       "      <td>NaN</td>\n",
       "      <td>2000.0</td>\n",
       "      <td>N</td>\n",
       "      <td>N</td>\n",
       "      <td>N</td>\n",
       "      <td>JM ELECTRIC</td>\n",
       "      <td>51.0</td>\n",
       "      <td>51.0</td>\n",
       "      <td>813603</td>\n",
       "      <td>NaN</td>\n",
       "      <td>...</td>\n",
       "      <td>N</td>\n",
       "      <td>NaN</td>\n",
       "      <td>Inspection(s) in Progress</td>\n",
       "      <td>800</td>\n",
       "      <td>96 - ELECTRICAL</td>\n",
       "      <td>94025019</td>\n",
       "      <td>94025019-</td>\n",
       "      <td>NaN</td>\n",
       "      <td>VN</td>\n",
       "      <td>VN</td>\n",
       "    </tr>\n",
       "  </tbody>\n",
       "</table>\n",
       "<p>5 rows × 81 columns</p>\n",
       "</div>"
      ],
      "text/plain": [
       "   :@computed_region_7asa_3qps  acceptedvalue accessorydwellingunitadu  \\\n",
       "0                          NaN        32000.0                        N   \n",
       "1                          NaN        15000.0                        N   \n",
       "2                          NaN         1500.0                        N   \n",
       "3                          NaN         1500.0                        N   \n",
       "4                          NaN         2000.0                        N   \n",
       "\n",
       "  addition alteration                                         applicant  \\\n",
       "0        N          Y                                      CADIZ, ERWIN   \n",
       "1        N          N  PROFESSIONAL ELECTRIC, LLC, C/O JASON PRAETORIUS   \n",
       "2        N          N                                      ORENZO BUTAC   \n",
       "3        N          N                         WAIALUA BEACH LAND CO LLC   \n",
       "4        N          N                                       JM ELECTRIC   \n",
       "\n",
       "   bpfeecalculation  bpfeescollected  buildingpermitno buildingpermittype  \\\n",
       "0             604.0            654.0            643138                NaN   \n",
       "1             311.0            311.0            815311                NaN   \n",
       "2              41.0             41.0            728393                NaN   \n",
       "3              41.0             41.0            722594                NaN   \n",
       "4              51.0             51.0            813603                NaN   \n",
       "\n",
       "           ...           solarvpinstallation stateproject  \\\n",
       "0          ...                             N          NaN   \n",
       "1          ...                             N          NaN   \n",
       "2          ...                             N           No   \n",
       "3          ...                             N           No   \n",
       "4          ...                             N          NaN   \n",
       "\n",
       "           statusdescription statusid       structurecode       tmk  \\\n",
       "0  Inspection(s) in Progress      800  51 - SINGLE FAMILY  94036015   \n",
       "1  Inspection(s) in Progress      800     96 - ELECTRICAL  94145068   \n",
       "2  Inspection(s) in Progress      800     96 - ELECTRICAL  91042079   \n",
       "3  Inspection(s) in Progress      800     96 - ELECTRICAL  66018006   \n",
       "4  Inspection(s) in Progress      800     96 - ELECTRICAL  94025019   \n",
       "\n",
       "   tmklookup totalfloorarea  typesofconstructionactual typesofconstructionmin  \n",
       "0  94036015-            NaN                         VN                     VN  \n",
       "1  94145068-            NaN                         VN                     VN  \n",
       "2  91042079-            NaN                        NaN                    NaN  \n",
       "3  66018006-            NaN                        NaN                    NaN  \n",
       "4  94025019-            NaN                         VN                     VN  \n",
       "\n",
       "[5 rows x 81 columns]"
      ]
     },
     "execution_count": 5,
     "metadata": {},
     "output_type": "execute_result"
    }
   ],
   "source": [
    "data.head()"
   ]
  },
  {
   "cell_type": "code",
   "execution_count": 17,
   "metadata": {
    "collapsed": false
   },
   "outputs": [
    {
     "name": "stderr",
     "output_type": "stream",
     "text": [
      "C:\\Users\\mwatson\\AppData\\Local\\Continuum\\Anaconda3\\lib\\site-packages\\numpy\\lib\\function_base.py:3834: RuntimeWarning: Invalid value encountered in percentile\n",
      "  RuntimeWarning)\n"
     ]
    },
    {
     "data": {
      "text/html": [
       "<div>\n",
       "<table border=\"1\" class=\"dataframe\">\n",
       "  <thead>\n",
       "    <tr style=\"text-align: right;\">\n",
       "      <th></th>\n",
       "      <th>:@computed_region_7asa_3qps</th>\n",
       "      <th>acceptedvalue</th>\n",
       "      <th>bpfeecalculation</th>\n",
       "      <th>bpfeescollected</th>\n",
       "      <th>buildingpermitno</th>\n",
       "      <th>curbingtypes</th>\n",
       "      <th>estimatedvalueofwork</th>\n",
       "      <th>existingfloorarea</th>\n",
       "      <th>finalstories</th>\n",
       "      <th>location_1_state</th>\n",
       "      <th>location_1_zip</th>\n",
       "      <th>newfloorarea</th>\n",
       "      <th>numroomsadd</th>\n",
       "      <th>numroomsdel</th>\n",
       "      <th>numunitsadd</th>\n",
       "      <th>numunitsdel</th>\n",
       "      <th>objectid</th>\n",
       "      <th>sidewalktypes</th>\n",
       "      <th>statusid</th>\n",
       "      <th>totalfloorarea</th>\n",
       "    </tr>\n",
       "  </thead>\n",
       "  <tbody>\n",
       "    <tr>\n",
       "      <th>count</th>\n",
       "      <td>357.000000</td>\n",
       "      <td>1.000000e+03</td>\n",
       "      <td>1000.000000</td>\n",
       "      <td>999.000000</td>\n",
       "      <td>1000.00000</td>\n",
       "      <td>0.0</td>\n",
       "      <td>1.000000e+03</td>\n",
       "      <td>16.000000</td>\n",
       "      <td>219.000000</td>\n",
       "      <td>0.0</td>\n",
       "      <td>971.000000</td>\n",
       "      <td>154.000000</td>\n",
       "      <td>4.0</td>\n",
       "      <td>0.0</td>\n",
       "      <td>179.000000</td>\n",
       "      <td>36.000000</td>\n",
       "      <td>1.000000e+03</td>\n",
       "      <td>0.0</td>\n",
       "      <td>1000.000000</td>\n",
       "      <td>31.000000</td>\n",
       "    </tr>\n",
       "    <tr>\n",
       "      <th>mean</th>\n",
       "      <td>7081.789916</td>\n",
       "      <td>2.023164e+04</td>\n",
       "      <td>285.903000</td>\n",
       "      <td>274.611612</td>\n",
       "      <td>664981.29000</td>\n",
       "      <td>NaN</td>\n",
       "      <td>2.730687e+04</td>\n",
       "      <td>2607.643750</td>\n",
       "      <td>1.502283</td>\n",
       "      <td>NaN</td>\n",
       "      <td>96766.381050</td>\n",
       "      <td>876.312013</td>\n",
       "      <td>0.0</td>\n",
       "      <td>NaN</td>\n",
       "      <td>0.106145</td>\n",
       "      <td>0.750000</td>\n",
       "      <td>3.701780e+07</td>\n",
       "      <td>NaN</td>\n",
       "      <td>270.725000</td>\n",
       "      <td>3353.680645</td>\n",
       "    </tr>\n",
       "    <tr>\n",
       "      <th>std</th>\n",
       "      <td>491.494703</td>\n",
       "      <td>8.520782e+04</td>\n",
       "      <td>710.999091</td>\n",
       "      <td>663.509379</td>\n",
       "      <td>94482.96088</td>\n",
       "      <td>NaN</td>\n",
       "      <td>1.855264e+05</td>\n",
       "      <td>3145.113103</td>\n",
       "      <td>1.201583</td>\n",
       "      <td>NaN</td>\n",
       "      <td>42.038875</td>\n",
       "      <td>1225.879466</td>\n",
       "      <td>0.0</td>\n",
       "      <td>NaN</td>\n",
       "      <td>0.308887</td>\n",
       "      <td>0.439155</td>\n",
       "      <td>1.649795e+07</td>\n",
       "      <td>NaN</td>\n",
       "      <td>294.970519</td>\n",
       "      <td>2383.166187</td>\n",
       "    </tr>\n",
       "    <tr>\n",
       "      <th>min</th>\n",
       "      <td>5972.000000</td>\n",
       "      <td>0.000000e+00</td>\n",
       "      <td>0.000000</td>\n",
       "      <td>0.000000</td>\n",
       "      <td>500567.00000</td>\n",
       "      <td>NaN</td>\n",
       "      <td>1.000000e+02</td>\n",
       "      <td>0.000000</td>\n",
       "      <td>0.000000</td>\n",
       "      <td>NaN</td>\n",
       "      <td>96701.000000</td>\n",
       "      <td>0.000000</td>\n",
       "      <td>0.0</td>\n",
       "      <td>NaN</td>\n",
       "      <td>0.000000</td>\n",
       "      <td>0.000000</td>\n",
       "      <td>9.770159e+06</td>\n",
       "      <td>NaN</td>\n",
       "      <td>110.000000</td>\n",
       "      <td>0.000000</td>\n",
       "    </tr>\n",
       "    <tr>\n",
       "      <th>25%</th>\n",
       "      <td>NaN</td>\n",
       "      <td>1.500000e+03</td>\n",
       "      <td>41.000000</td>\n",
       "      <td>NaN</td>\n",
       "      <td>581269.00000</td>\n",
       "      <td>NaN</td>\n",
       "      <td>1.500000e+03</td>\n",
       "      <td>NaN</td>\n",
       "      <td>NaN</td>\n",
       "      <td>NaN</td>\n",
       "      <td>NaN</td>\n",
       "      <td>NaN</td>\n",
       "      <td>NaN</td>\n",
       "      <td>NaN</td>\n",
       "      <td>NaN</td>\n",
       "      <td>NaN</td>\n",
       "      <td>2.209918e+07</td>\n",
       "      <td>NaN</td>\n",
       "      <td>110.000000</td>\n",
       "      <td>NaN</td>\n",
       "    </tr>\n",
       "    <tr>\n",
       "      <th>50%</th>\n",
       "      <td>NaN</td>\n",
       "      <td>3.800000e+03</td>\n",
       "      <td>81.000000</td>\n",
       "      <td>NaN</td>\n",
       "      <td>641175.50000</td>\n",
       "      <td>NaN</td>\n",
       "      <td>3.629500e+03</td>\n",
       "      <td>NaN</td>\n",
       "      <td>NaN</td>\n",
       "      <td>NaN</td>\n",
       "      <td>NaN</td>\n",
       "      <td>NaN</td>\n",
       "      <td>NaN</td>\n",
       "      <td>NaN</td>\n",
       "      <td>NaN</td>\n",
       "      <td>NaN</td>\n",
       "      <td>3.179996e+07</td>\n",
       "      <td>NaN</td>\n",
       "      <td>110.000000</td>\n",
       "      <td>NaN</td>\n",
       "    </tr>\n",
       "    <tr>\n",
       "      <th>75%</th>\n",
       "      <td>NaN</td>\n",
       "      <td>1.107500e+04</td>\n",
       "      <td>225.000000</td>\n",
       "      <td>NaN</td>\n",
       "      <td>754505.50000</td>\n",
       "      <td>NaN</td>\n",
       "      <td>1.000000e+04</td>\n",
       "      <td>NaN</td>\n",
       "      <td>NaN</td>\n",
       "      <td>NaN</td>\n",
       "      <td>NaN</td>\n",
       "      <td>NaN</td>\n",
       "      <td>NaN</td>\n",
       "      <td>NaN</td>\n",
       "      <td>NaN</td>\n",
       "      <td>NaN</td>\n",
       "      <td>5.322743e+07</td>\n",
       "      <td>NaN</td>\n",
       "      <td>110.000000</td>\n",
       "      <td>NaN</td>\n",
       "    </tr>\n",
       "    <tr>\n",
       "      <th>max</th>\n",
       "      <td>7529.000000</td>\n",
       "      <td>1.877000e+06</td>\n",
       "      <td>11361.500000</td>\n",
       "      <td>11361.500000</td>\n",
       "      <td>815389.00000</td>\n",
       "      <td>NaN</td>\n",
       "      <td>3.166385e+06</td>\n",
       "      <td>10020.000000</td>\n",
       "      <td>16.000000</td>\n",
       "      <td>NaN</td>\n",
       "      <td>96826.000000</td>\n",
       "      <td>7125.000000</td>\n",
       "      <td>0.0</td>\n",
       "      <td>NaN</td>\n",
       "      <td>1.000000</td>\n",
       "      <td>1.000000</td>\n",
       "      <td>6.215987e+07</td>\n",
       "      <td>NaN</td>\n",
       "      <td>1025.000000</td>\n",
       "      <td>10020.000000</td>\n",
       "    </tr>\n",
       "  </tbody>\n",
       "</table>\n",
       "</div>"
      ],
      "text/plain": [
       "       :@computed_region_7asa_3qps  acceptedvalue  bpfeecalculation  \\\n",
       "count                   357.000000   1.000000e+03       1000.000000   \n",
       "mean                   7081.789916   2.023164e+04        285.903000   \n",
       "std                     491.494703   8.520782e+04        710.999091   \n",
       "min                    5972.000000   0.000000e+00          0.000000   \n",
       "25%                            NaN   1.500000e+03         41.000000   \n",
       "50%                            NaN   3.800000e+03         81.000000   \n",
       "75%                            NaN   1.107500e+04        225.000000   \n",
       "max                    7529.000000   1.877000e+06      11361.500000   \n",
       "\n",
       "       bpfeescollected  buildingpermitno  curbingtypes  estimatedvalueofwork  \\\n",
       "count       999.000000        1000.00000           0.0          1.000000e+03   \n",
       "mean        274.611612      664981.29000           NaN          2.730687e+04   \n",
       "std         663.509379       94482.96088           NaN          1.855264e+05   \n",
       "min           0.000000      500567.00000           NaN          1.000000e+02   \n",
       "25%                NaN      581269.00000           NaN          1.500000e+03   \n",
       "50%                NaN      641175.50000           NaN          3.629500e+03   \n",
       "75%                NaN      754505.50000           NaN          1.000000e+04   \n",
       "max       11361.500000      815389.00000           NaN          3.166385e+06   \n",
       "\n",
       "       existingfloorarea  finalstories  location_1_state  location_1_zip  \\\n",
       "count          16.000000    219.000000               0.0      971.000000   \n",
       "mean         2607.643750      1.502283               NaN    96766.381050   \n",
       "std          3145.113103      1.201583               NaN       42.038875   \n",
       "min             0.000000      0.000000               NaN    96701.000000   \n",
       "25%                  NaN           NaN               NaN             NaN   \n",
       "50%                  NaN           NaN               NaN             NaN   \n",
       "75%                  NaN           NaN               NaN             NaN   \n",
       "max         10020.000000     16.000000               NaN    96826.000000   \n",
       "\n",
       "       newfloorarea  numroomsadd  numroomsdel  numunitsadd  numunitsdel  \\\n",
       "count    154.000000          4.0          0.0   179.000000    36.000000   \n",
       "mean     876.312013          0.0          NaN     0.106145     0.750000   \n",
       "std     1225.879466          0.0          NaN     0.308887     0.439155   \n",
       "min        0.000000          0.0          NaN     0.000000     0.000000   \n",
       "25%             NaN          NaN          NaN          NaN          NaN   \n",
       "50%             NaN          NaN          NaN          NaN          NaN   \n",
       "75%             NaN          NaN          NaN          NaN          NaN   \n",
       "max     7125.000000          0.0          NaN     1.000000     1.000000   \n",
       "\n",
       "           objectid  sidewalktypes     statusid  totalfloorarea  \n",
       "count  1.000000e+03            0.0  1000.000000       31.000000  \n",
       "mean   3.701780e+07            NaN   270.725000     3353.680645  \n",
       "std    1.649795e+07            NaN   294.970519     2383.166187  \n",
       "min    9.770159e+06            NaN   110.000000        0.000000  \n",
       "25%    2.209918e+07            NaN   110.000000             NaN  \n",
       "50%    3.179996e+07            NaN   110.000000             NaN  \n",
       "75%    5.322743e+07            NaN   110.000000             NaN  \n",
       "max    6.215987e+07            NaN  1025.000000    10020.000000  "
      ]
     },
     "execution_count": 17,
     "metadata": {},
     "output_type": "execute_result"
    }
   ],
   "source": [
    "data.describe()"
   ]
  },
  {
   "cell_type": "code",
   "execution_count": 6,
   "metadata": {
    "collapsed": false
   },
   "outputs": [
    {
     "ename": "AttributeError",
     "evalue": "'numpy.ndarray' object has no attribute 'show'",
     "output_type": "error",
     "traceback": [
      "\u001b[0;31m---------------------------------------------------------------------------\u001b[0m",
      "\u001b[0;31mAttributeError\u001b[0m                            Traceback (most recent call last)",
      "\u001b[0;32m<ipython-input-6-3385837506e1>\u001b[0m in \u001b[0;36m<module>\u001b[0;34m()\u001b[0m\n\u001b[0;32m----> 1\u001b[0;31m \u001b[0mdata\u001b[0m\u001b[1;33m.\u001b[0m\u001b[0mhist\u001b[0m\u001b[1;33m(\u001b[0m\u001b[1;34m'location_1_zip'\u001b[0m\u001b[1;33m)\u001b[0m\u001b[1;33m.\u001b[0m\u001b[0mshow\u001b[0m\u001b[1;33m\u001b[0m\u001b[0m\n\u001b[0m",
      "\u001b[0;31mAttributeError\u001b[0m: 'numpy.ndarray' object has no attribute 'show'"
     ]
    },
    {
     "data": {
      "image/png": "[encoded data removed]",
      "text/plain": [
       "<Figure size 432x288 with 1 Axes>"
      ]
     },
     "metadata": {},
     "output_type": "display_data"
    }
   ],
   "source": [
    "data.hist('location_1_zip').show"
   ]
  },
  {
   "cell_type": "code",
   "execution_count": 35,
   "metadata": {
    "collapsed": false
   },
   "outputs": [],
   "source": [
    "years = []\n",
    "year_index = 0\n",
    "for year_index in range(len(data)):\n",
    "    year = data['issuedate'][year_index][0:4]\n",
    "    years.append(year)"
   ]
  },
  {
   "cell_type": "code",
   "execution_count": 44,
   "metadata": {
    "collapsed": false
   },
   "outputs": [
    {
     "data": {
      "text/plain": [
       "(array([ 177.,  206.,  285.,   88.,  128.,   89.,    4.,    7.,   11.,    5.]),\n",
       " array([  0. ,   1.9,   3.8,   5.7,   7.6,   9.5,  11.4,  13.3,  15.2,\n",
       "         17.1,  19. ]),\n",
       " <a list of 10 Patch objects>)"
      ]
     },
     "execution_count": 44,
     "metadata": {},
     "output_type": "execute_result"
    },
    {
     "data": {
      "image/png": "[encoded data removed]",
      "text/plain": [
       "<Figure size 3600x2880 with 1 Axes>"
      ]
     },
     "metadata": {},
     "output_type": "display_data"
    }
   ],
   "source": [
    "from collections import Counter\n",
    "Counter(years)\n",
    "\n",
    "fig = plt.figure(figsize=(50,40))\n",
    "plt.hist(years)\n"
   ]
  },
  {
   "cell_type": "code",
   "execution_count": 16,
   "metadata": {
    "collapsed": false
   },
   "outputs": [
    {
     "name": "stdout",
     "output_type": "stream",
     "text": [
      "Using matplotlib backend: Qt5Agg\n"
     ]
    }
   ],
   "source": [
    "%matplotlib\n",
    "import geojson\n",
    "from descartes import PolygonPatch\n",
    "import matplotlib.pyplot as plt\n",
    "import seaborn as sns\n",
    "sns.set_style(\"white\")\n",
    "from shapely.geometry import Polygon\n",
    "import math\n",
    "import numpy as np\n",
    "import requests\n",
    "import pandas as pd\n",
    "\n",
    "\n",
    "def base_map(fp):\n",
    "    #fp = \"..\\\\..\\\\..\\\\Geographies\\GeoJson\\\\Census_Tracts_in_2010.geojson\"\n",
    "    with open(fp) as f:\n",
    "        gj = geojson.load(f)\n",
    "    BLUE = '#6699cc'\n",
    "\n",
    "    fig = plt.figure(num=None, figsize=(20, 16), dpi=80, facecolor='w', edgecolor='k')\n",
    "    fig.show()\n",
    "    return(fig)\n",
    "\n",
    "\n",
    "fp = \"Census_Tracts_in_2010.geojson\"\n",
    "\n",
    "a= base_map(fp)\n",
    "a.show()\n"
   ]
  },
  {
   "cell_type": "code",
   "execution_count": 15,
   "metadata": {
    "collapsed": false
   },
   "outputs": [
    {
     "name": "stdout",
     "output_type": "stream",
     "text": [
      "Using matplotlib backend: Qt5Agg\n"
     ]
    }
   ],
   "source": [
    "\n",
    "type(a)\n",
    "%matplotlib"
   ]
  },
  {
   "cell_type": "code",
   "execution_count": 11,
   "metadata": {
    "collapsed": false
   },
   "outputs": [
    {
     "name": "stderr",
     "output_type": "stream",
     "text": [
      "C:\\Users\\mwatson\\AppData\\Local\\Continuum\\Anaconda3\\lib\\site-packages\\matplotlib\\figure.py:459: UserWarning: matplotlib is currently using a non-GUI backend, so cannot show the figure\n",
      "  \"matplotlib is currently using a non-GUI backend, \"\n"
     ]
    }
   ],
   "source": [
    "a.show()"
   ]
  },
  {
   "cell_type": "code",
   "execution_count": 21,
   "metadata": {
    "collapsed": false
   },
   "outputs": [
    {
     "data": {
      "text/plain": [
       "0        5000.0\n",
       "1       15000.0\n",
       "2        1500.0\n",
       "3        1500.0\n",
       "4        2000.0\n",
       "5       40000.0\n",
       "6       65000.0\n",
       "7        2950.0\n",
       "8       29400.0\n",
       "9       27000.0\n",
       "10       8500.0\n",
       "11       2500.0\n",
       "12      89600.0\n",
       "13      20000.0\n",
       "14       3500.0\n",
       "15       8000.0\n",
       "16      25000.0\n",
       "17       4000.0\n",
       "18       2800.0\n",
       "19       1500.0\n",
       "20       1500.0\n",
       "21       3800.0\n",
       "22       8000.0\n",
       "23       1200.0\n",
       "24       3550.0\n",
       "25      38715.0\n",
       "26       8000.0\n",
       "27      50000.0\n",
       "28       1500.0\n",
       "29     175000.0\n",
       "         ...   \n",
       "970     19000.0\n",
       "971      3800.0\n",
       "972      1500.0\n",
       "973      3000.0\n",
       "974      1500.0\n",
       "975      1800.0\n",
       "976      7000.0\n",
       "977      3000.0\n",
       "978       400.0\n",
       "979       200.0\n",
       "980      1800.0\n",
       "981      4000.0\n",
       "982      4000.0\n",
       "983     20000.0\n",
       "984     10000.0\n",
       "985      5000.0\n",
       "986      2500.0\n",
       "987      1000.0\n",
       "988      3800.0\n",
       "989      3800.0\n",
       "990       150.0\n",
       "991     12000.0\n",
       "992      5000.0\n",
       "993      5000.0\n",
       "994      1500.0\n",
       "995      3800.0\n",
       "996      3000.0\n",
       "997       400.0\n",
       "998     10000.0\n",
       "999     40000.0\n",
       "Name: estimatedvalueofwork, dtype: float64"
      ]
     },
     "execution_count": 21,
     "metadata": {},
     "output_type": "execute_result"
    }
   ],
   "source": [
    "data['estimatedvalueofwork']"
   ]
  },
  {
   "cell_type": "code",
   "execution_count": null,
   "metadata": {
    "collapsed": true
   },
   "outputs": [],
   "source": []
  }
 ],
 "metadata": {
  "anaconda-cloud": {},
  "kernelspec": {
   "display_name": "Python [default]",
   "language": "python",
   "name": "python3"
  },
  "language_info": {
   "codemirror_mode": {
    "name": "ipython",
    "version": 3
   },
   "file_extension": ".py",
   "mimetype": "text/x-python",
   "name": "python",
   "nbconvert_exporter": "python",
   "pygments_lexer": "ipython3",
   "version": "3.5.4"
  }
 },
 "nbformat": 4,
 "nbformat_minor": 2
}
