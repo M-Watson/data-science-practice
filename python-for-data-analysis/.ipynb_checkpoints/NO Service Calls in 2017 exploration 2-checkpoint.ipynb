{
 "cells": [
  {
   "cell_type": "markdown",
   "metadata": {},
   "source": [
    "# NO Service Calls in 2017 exploration file\n",
    "\n",
    "This notebook is for exploritory purposes.  Looking at service calls from the New Orleans Open Data website"
   ]
  },
  {
   "cell_type": "code",
   "execution_count": 1,
   "metadata": {},
   "outputs": [],
   "source": [
    "import requests                           # For pulling in data via api portal\n",
    "import pandas as pd                       # Quick data frame formatting for CSV file\n",
    "import io                                 # Reading in the CSV directly from a request response \n",
    "from matplotlib import pyplot as plt\n",
    "import seaborn as sb"
   ]
  },
  {
   "cell_type": "code",
   "execution_count": 2,
   "metadata": {},
   "outputs": [],
   "source": [
    "# pulling in the data from the NOLA open data site\n",
    "web_pull_csv = requests.get('https://data.nola.gov/resource/bevf-jgit.csv')"
   ]
  },
  {
   "cell_type": "code",
   "execution_count": 3,
   "metadata": {},
   "outputs": [],
   "source": [
    "# This takes the web response from the api, looks at the content and decodes it using io, and loads it into a pandas dataframe\n",
    "web_pull_cotnent = web_pull_csv.content\n",
    "service_call_data_2017 = pd.read_csv(io.StringIO(web_pull_cotnent.decode('utf-8')))"
   ]
  },
  {
   "cell_type": "code",
   "execution_count": 4,
   "metadata": {},
   "outputs": [
    {
     "data": {
      "text/html": [
       "<div>\n",
       "<style scoped>\n",
       "    .dataframe tbody tr th:only-of-type {\n",
       "        vertical-align: middle;\n",
       "    }\n",
       "\n",
       "    .dataframe tbody tr th {\n",
       "        vertical-align: top;\n",
       "    }\n",
       "\n",
       "    .dataframe thead th {\n",
       "        text-align: right;\n",
       "    }\n",
       "</style>\n",
       "<table border=\"1\" class=\"dataframe\">\n",
       "  <thead>\n",
       "    <tr style=\"text-align: right;\">\n",
       "      <th></th>\n",
       "      <th>:@computed_region_7fw3_kdpf</th>\n",
       "      <th>:@computed_region_evki_aju8</th>\n",
       "      <th>:@computed_region_ewbu_t8bu</th>\n",
       "      <th>:@computed_region_k37d_then</th>\n",
       "      <th>:@computed_region_m56f_hbma</th>\n",
       "      <th>:@computed_region_sikx_bdeb</th>\n",
       "      <th>:@computed_region_spev_d8jm</th>\n",
       "      <th>:@computed_region_u4yh_3wk9</th>\n",
       "      <th>beat</th>\n",
       "      <th>block_address</th>\n",
       "      <th>...</th>\n",
       "      <th>policedistrict</th>\n",
       "      <th>priority</th>\n",
       "      <th>selfinitiated</th>\n",
       "      <th>timearrive</th>\n",
       "      <th>timeclosed</th>\n",
       "      <th>timecreate</th>\n",
       "      <th>timedispatch</th>\n",
       "      <th>type_</th>\n",
       "      <th>typetext</th>\n",
       "      <th>zip</th>\n",
       "    </tr>\n",
       "  </thead>\n",
       "  <tbody>\n",
       "    <tr>\n",
       "      <th>0</th>\n",
       "      <td>70.0</td>\n",
       "      <td>1.0</td>\n",
       "      <td>6540.0</td>\n",
       "      <td>5.0</td>\n",
       "      <td>181.0</td>\n",
       "      <td>181.0</td>\n",
       "      <td>4151.0</td>\n",
       "      <td>6540.0</td>\n",
       "      <td>7L03</td>\n",
       "      <td>147XX Chef Menteur Hwy</td>\n",
       "      <td>...</td>\n",
       "      <td>7</td>\n",
       "      <td>1A</td>\n",
       "      <td>N</td>\n",
       "      <td>2017-08-04T04:34:36.000</td>\n",
       "      <td>2017-08-04T04:55:29.000</td>\n",
       "      <td>2017-08-03T14:19:11.000</td>\n",
       "      <td>2017-08-04T04:16:29.000</td>\n",
       "      <td>103</td>\n",
       "      <td>DISTURBANCE (OTHER)</td>\n",
       "      <td>70129.0</td>\n",
       "    </tr>\n",
       "    <tr>\n",
       "      <th>1</th>\n",
       "      <td>62.0</td>\n",
       "      <td>7.0</td>\n",
       "      <td>3513.0</td>\n",
       "      <td>4.0</td>\n",
       "      <td>96.0</td>\n",
       "      <td>96.0</td>\n",
       "      <td>3770.0</td>\n",
       "      <td>3513.0</td>\n",
       "      <td>3Y04</td>\n",
       "      <td>029XX Franklin Ave</td>\n",
       "      <td>...</td>\n",
       "      <td>3</td>\n",
       "      <td>1A</td>\n",
       "      <td>N</td>\n",
       "      <td>NaN</td>\n",
       "      <td>2017-08-04T04:26:04.000</td>\n",
       "      <td>2017-08-03T14:49:33.000</td>\n",
       "      <td>2017-08-04T04:10:57.000</td>\n",
       "      <td>21</td>\n",
       "      <td>COMPLAINT OTHER</td>\n",
       "      <td>70122.0</td>\n",
       "    </tr>\n",
       "    <tr>\n",
       "      <th>2</th>\n",
       "      <td>28.0</td>\n",
       "      <td>7.0</td>\n",
       "      <td>7617.0</td>\n",
       "      <td>4.0</td>\n",
       "      <td>133.0</td>\n",
       "      <td>133.0</td>\n",
       "      <td>3770.0</td>\n",
       "      <td>7617.0</td>\n",
       "      <td>3T02</td>\n",
       "      <td>Mirabeau Ave &amp; Lafaye St</td>\n",
       "      <td>...</td>\n",
       "      <td>3</td>\n",
       "      <td>1F</td>\n",
       "      <td>N</td>\n",
       "      <td>2017-08-04T03:26:07.000</td>\n",
       "      <td>2017-08-04T03:28:48.000</td>\n",
       "      <td>2017-08-03T18:19:56.000</td>\n",
       "      <td>2017-08-04T03:18:06.000</td>\n",
       "      <td>68</td>\n",
       "      <td>UNAUTHORIZED USE OF VEHICLE</td>\n",
       "      <td>70122.0</td>\n",
       "    </tr>\n",
       "    <tr>\n",
       "      <th>3</th>\n",
       "      <td>22.0</td>\n",
       "      <td>7.0</td>\n",
       "      <td>2526.0</td>\n",
       "      <td>4.0</td>\n",
       "      <td>134.0</td>\n",
       "      <td>134.0</td>\n",
       "      <td>3770.0</td>\n",
       "      <td>2526.0</td>\n",
       "      <td>3N01</td>\n",
       "      <td>014XX Gardena Dr</td>\n",
       "      <td>...</td>\n",
       "      <td>3</td>\n",
       "      <td>1H</td>\n",
       "      <td>N</td>\n",
       "      <td>2017-08-04T04:52:12.000</td>\n",
       "      <td>2017-08-04T05:03:14.000</td>\n",
       "      <td>2017-08-03T18:25:25.000</td>\n",
       "      <td>2017-08-04T04:45:42.000</td>\n",
       "      <td>21</td>\n",
       "      <td>COMPLAINT OTHER</td>\n",
       "      <td>70122.0</td>\n",
       "    </tr>\n",
       "    <tr>\n",
       "      <th>4</th>\n",
       "      <td>47.0</td>\n",
       "      <td>6.0</td>\n",
       "      <td>8869.0</td>\n",
       "      <td>2.0</td>\n",
       "      <td>109.0</td>\n",
       "      <td>109.0</td>\n",
       "      <td>3768.0</td>\n",
       "      <td>8869.0</td>\n",
       "      <td>1K01</td>\n",
       "      <td>Tulane Ave &amp; S Jefferson Davis Pkwy</td>\n",
       "      <td>...</td>\n",
       "      <td>1</td>\n",
       "      <td>1G</td>\n",
       "      <td>Y</td>\n",
       "      <td>2017-08-03T18:39:42.000</td>\n",
       "      <td>2017-08-04T06:04:01.000</td>\n",
       "      <td>2017-08-03T18:39:42.000</td>\n",
       "      <td>2017-08-03T18:40:44.000</td>\n",
       "      <td>18DE</td>\n",
       "      <td>DIRECTED TRAFFIC ENFORCEMENT</td>\n",
       "      <td>70119.0</td>\n",
       "    </tr>\n",
       "  </tbody>\n",
       "</table>\n",
       "<p>5 rows × 33 columns</p>\n",
       "</div>"
      ],
      "text/plain": [
       "   :@computed_region_7fw3_kdpf  :@computed_region_evki_aju8  \\\n",
       "0                         70.0                          1.0   \n",
       "1                         62.0                          7.0   \n",
       "2                         28.0                          7.0   \n",
       "3                         22.0                          7.0   \n",
       "4                         47.0                          6.0   \n",
       "\n",
       "   :@computed_region_ewbu_t8bu  :@computed_region_k37d_then  \\\n",
       "0                       6540.0                          5.0   \n",
       "1                       3513.0                          4.0   \n",
       "2                       7617.0                          4.0   \n",
       "3                       2526.0                          4.0   \n",
       "4                       8869.0                          2.0   \n",
       "\n",
       "   :@computed_region_m56f_hbma  :@computed_region_sikx_bdeb  \\\n",
       "0                        181.0                        181.0   \n",
       "1                         96.0                         96.0   \n",
       "2                        133.0                        133.0   \n",
       "3                        134.0                        134.0   \n",
       "4                        109.0                        109.0   \n",
       "\n",
       "   :@computed_region_spev_d8jm  :@computed_region_u4yh_3wk9  beat  \\\n",
       "0                       4151.0                       6540.0  7L03   \n",
       "1                       3770.0                       3513.0  3Y04   \n",
       "2                       3770.0                       7617.0  3T02   \n",
       "3                       3770.0                       2526.0  3N01   \n",
       "4                       3768.0                       8869.0  1K01   \n",
       "\n",
       "                         block_address   ...    policedistrict priority  \\\n",
       "0               147XX Chef Menteur Hwy   ...                 7       1A   \n",
       "1                   029XX Franklin Ave   ...                 3       1A   \n",
       "2             Mirabeau Ave & Lafaye St   ...                 3       1F   \n",
       "3                     014XX Gardena Dr   ...                 3       1H   \n",
       "4  Tulane Ave & S Jefferson Davis Pkwy   ...                 1       1G   \n",
       "\n",
       "  selfinitiated               timearrive               timeclosed  \\\n",
       "0             N  2017-08-04T04:34:36.000  2017-08-04T04:55:29.000   \n",
       "1             N                      NaN  2017-08-04T04:26:04.000   \n",
       "2             N  2017-08-04T03:26:07.000  2017-08-04T03:28:48.000   \n",
       "3             N  2017-08-04T04:52:12.000  2017-08-04T05:03:14.000   \n",
       "4             Y  2017-08-03T18:39:42.000  2017-08-04T06:04:01.000   \n",
       "\n",
       "                timecreate             timedispatch  type_  \\\n",
       "0  2017-08-03T14:19:11.000  2017-08-04T04:16:29.000    103   \n",
       "1  2017-08-03T14:49:33.000  2017-08-04T04:10:57.000     21   \n",
       "2  2017-08-03T18:19:56.000  2017-08-04T03:18:06.000     68   \n",
       "3  2017-08-03T18:25:25.000  2017-08-04T04:45:42.000     21   \n",
       "4  2017-08-03T18:39:42.000  2017-08-03T18:40:44.000   18DE   \n",
       "\n",
       "                       typetext      zip  \n",
       "0           DISTURBANCE (OTHER)  70129.0  \n",
       "1               COMPLAINT OTHER  70122.0  \n",
       "2   UNAUTHORIZED USE OF VEHICLE  70122.0  \n",
       "3               COMPLAINT OTHER  70122.0  \n",
       "4  DIRECTED TRAFFIC ENFORCEMENT  70119.0  \n",
       "\n",
       "[5 rows x 33 columns]"
      ]
     },
     "execution_count": 4,
     "metadata": {},
     "output_type": "execute_result"
    }
   ],
   "source": [
    "service_call_data_2017.head()\n"
   ]
  },
  {
   "cell_type": "code",
   "execution_count": 5,
   "metadata": {},
   "outputs": [
    {
     "data": {
      "text/plain": [
       "count     1000\n",
       "unique      16\n",
       "top         1H\n",
       "freq       215\n",
       "Name: priority, dtype: object"
      ]
     },
     "execution_count": 5,
     "metadata": {},
     "output_type": "execute_result"
    }
   ],
   "source": [
    "service_call_data_2017['priority'].describe()"
   ]
  },
  {
   "cell_type": "code",
   "execution_count": 6,
   "metadata": {},
   "outputs": [
    {
     "data": {
      "image/png": "[encoded data removed]",
      "text/plain": [
       "<Figure size 432x288 with 1 Axes>"
      ]
     },
     "metadata": {},
     "output_type": "display_data"
    }
   ],
   "source": [
    "pr = service_call_data_2017['priority'].value_counts()\n",
    "\n",
    "\n",
    "pr.plot(kind='barh',rot=0)\n",
    "plt.show()"
   ]
  },
  {
   "cell_type": "code",
   "execution_count": 28,
   "metadata": {},
   "outputs": [
    {
     "data": {
      "image/png": "[encoded data removed]",
      "text/plain": [
       "<Figure size 576x396 with 1 Axes>"
      ]
     },
     "metadata": {},
     "output_type": "display_data"
    }
   ],
   "source": [
    "\n",
    "ba = service_call_data_2017['block_address'].value_counts()\n",
    "\n",
    "#service_call_data_2017['block_address'].hist(bins=10)\n",
    "ba[:10].plot(kind='barh',rot=0)\n",
    "plt.show()"
   ]
  },
  {
   "cell_type": "code",
   "execution_count": 9,
   "metadata": {},
   "outputs": [],
   "source": [
    "\n",
    "\n",
    "typetext = service_call_data_2017['type_']\n",
    "xy = typetext.value_counts()"
   ]
  },
  {
   "cell_type": "code",
   "execution_count": 7,
   "metadata": {},
   "outputs": [
    {
     "data": {
      "text/plain": [
       "pandas.core.series.Series"
      ]
     },
     "execution_count": 7,
     "metadata": {},
     "output_type": "execute_result"
    }
   ],
   "source": [
    "type(xy)"
   ]
  },
  {
   "cell_type": "code",
   "execution_count": 17,
   "metadata": {},
   "outputs": [
    {
     "data": {
      "image/png": "[encoded data removed]",
      "text/plain": [
       "<Figure size 576x396 with 1 Axes>"
      ]
     },
     "metadata": {},
     "output_type": "display_data"
    }
   ],
   "source": [
    "\n",
    "xy[:10].plot(kind='barh',rot=0)\n",
    "plt.show()"
   ]
  },
  {
   "cell_type": "code",
   "execution_count": 19,
   "metadata": {},
   "outputs": [],
   "source": [
    "k = xy.keys()\n",
    "y = list(xy)"
   ]
  },
  {
   "cell_type": "code",
   "execution_count": 20,
   "metadata": {},
   "outputs": [
    {
     "data": {
      "text/plain": [
       "43"
      ]
     },
     "execution_count": 20,
     "metadata": {},
     "output_type": "execute_result"
    }
   ],
   "source": [
    "k = list(xy[:10].keys())\n",
    "y = list(xy[:10].values)\n",
    "y[8]"
   ]
  },
  {
   "cell_type": "code",
   "execution_count": 21,
   "metadata": {},
   "outputs": [
    {
     "data": {
      "image/png": "[encoded data removed]",
      "text/plain": [
       "<Figure size 576x396 with 1 Axes>"
      ]
     },
     "metadata": {},
     "output_type": "display_data"
    }
   ],
   "source": [
    "plt.bar(range(len(y)),y)\n",
    "plt.show()"
   ]
  },
  {
   "cell_type": "code",
   "execution_count": null,
   "metadata": {
    "collapsed": true
   },
   "outputs": [],
   "source": []
  }
 ],
 "metadata": {
  "anaconda-cloud": {},
  "kernelspec": {
   "display_name": "Python 3",
   "language": "python",
   "name": "python3"
  },
  "language_info": {
   "codemirror_mode": {
    "name": "ipython",
    "version": 3
   },
   "file_extension": ".py",
   "mimetype": "text/x-python",
   "name": "python",
   "nbconvert_exporter": "python",
   "pygments_lexer": "ipython3",
   "version": "3.6.5"
  }
 },
 "nbformat": 4,
 "nbformat_minor": 2
}
