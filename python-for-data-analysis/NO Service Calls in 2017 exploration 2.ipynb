{
 "cells": [
  {
   "cell_type": "markdown",
   "metadata": {},
   "source": [
    "# NO Service Calls in 2017 exploration file\n",
    "\n",
    "This notebook is for exploritory purposes.  Looking at service calls from the New Orleans Open Data website"
   ]
  },
  {
   "cell_type": "code",
   "execution_count": 2,
   "metadata": {},
   "outputs": [],
   "source": [
    "import requests                           # For pulling in data via api portal\n",
    "import pandas as pd                       # Quick data frame formatting for CSV file\n",
    "import io                                 # Reading in the CSV directly from a request response \n",
    "from matplotlib import pyplot as plt\n",
    "import seaborn as sb"
   ]
  },
  {
   "cell_type": "code",
   "execution_count": 3,
   "metadata": {},
   "outputs": [],
   "source": [
    "# pulling in the data from the NOLA open data site\n",
    "web_pull_csv = requests.get('https://data.nola.gov/resource/bevf-jgit.csv')"
   ]
  },
  {
   "cell_type": "code",
   "execution_count": 4,
   "metadata": {},
   "outputs": [],
   "source": [
    "# This takes the web response from the api, looks at the content and decodes it using io, and loads it into a pandas dataframe\n",
    "web_pull_cotnent = web_pull_csv.content\n",
    "service_call_data_2017 = pd.read_csv(io.StringIO(web_pull_cotnent.decode('utf-8')))"
   ]
  },
  {
   "cell_type": "code",
   "execution_count": 5,
   "metadata": {},
   "outputs": [
    {
     "data": {
      "text/html": [
       "<div>\n",
       "<style scoped>\n",
       "    .dataframe tbody tr th:only-of-type {\n",
       "        vertical-align: middle;\n",
       "    }\n",
       "\n",
       "    .dataframe tbody tr th {\n",
       "        vertical-align: top;\n",
       "    }\n",
       "\n",
       "    .dataframe thead th {\n",
       "        text-align: right;\n",
       "    }\n",
       "</style>\n",
       "<table border=\"1\" class=\"dataframe\">\n",
       "  <thead>\n",
       "    <tr style=\"text-align: right;\">\n",
       "      <th></th>\n",
       "      <th>:@computed_region_7fw3_kdpf</th>\n",
       "      <th>:@computed_region_evki_aju8</th>\n",
       "      <th>:@computed_region_ewbu_t8bu</th>\n",
       "      <th>:@computed_region_k37d_then</th>\n",
       "      <th>:@computed_region_m56f_hbma</th>\n",
       "      <th>:@computed_region_sikx_bdeb</th>\n",
       "      <th>:@computed_region_spev_d8jm</th>\n",
       "      <th>:@computed_region_u4yh_3wk9</th>\n",
       "      <th>beat</th>\n",
       "      <th>block_address</th>\n",
       "      <th>...</th>\n",
       "      <th>policedistrict</th>\n",
       "      <th>priority</th>\n",
       "      <th>selfinitiated</th>\n",
       "      <th>timearrive</th>\n",
       "      <th>timeclosed</th>\n",
       "      <th>timecreate</th>\n",
       "      <th>timedispatch</th>\n",
       "      <th>type_</th>\n",
       "      <th>typetext</th>\n",
       "      <th>zip</th>\n",
       "    </tr>\n",
       "  </thead>\n",
       "  <tbody>\n",
       "    <tr>\n",
       "      <th>0</th>\n",
       "      <td>43.0</td>\n",
       "      <td>8.0</td>\n",
       "      <td>7911.0</td>\n",
       "      <td>5.0</td>\n",
       "      <td>154.0</td>\n",
       "      <td>154.0</td>\n",
       "      <td>3766.0</td>\n",
       "      <td>7911.0</td>\n",
       "      <td>5E02</td>\n",
       "      <td>014XX Egania St</td>\n",
       "      <td>...</td>\n",
       "      <td>5</td>\n",
       "      <td>2B</td>\n",
       "      <td>N</td>\n",
       "      <td>2017-08-04T12:16:19.000</td>\n",
       "      <td>2017-08-04T13:46:22.000</td>\n",
       "      <td>2017-08-04T12:10:59.000</td>\n",
       "      <td>2017-08-04T12:11:34.000</td>\n",
       "      <td>103D</td>\n",
       "      <td>DOMESTIC DISTURBANCE</td>\n",
       "      <td>70117.0</td>\n",
       "    </tr>\n",
       "    <tr>\n",
       "      <th>1</th>\n",
       "      <td>12.0</td>\n",
       "      <td>5.0</td>\n",
       "      <td>8154.0</td>\n",
       "      <td>2.0</td>\n",
       "      <td>23.0</td>\n",
       "      <td>23.0</td>\n",
       "      <td>3454.0</td>\n",
       "      <td>8154.0</td>\n",
       "      <td>8I01</td>\n",
       "      <td>003XX Carondelet St</td>\n",
       "      <td>...</td>\n",
       "      <td>8</td>\n",
       "      <td>1A</td>\n",
       "      <td>N</td>\n",
       "      <td>2017-08-04T13:05:15.000</td>\n",
       "      <td>2017-08-04T13:14:26.000</td>\n",
       "      <td>2017-08-04T12:11:14.000</td>\n",
       "      <td>2017-08-04T13:00:39.000</td>\n",
       "      <td>911</td>\n",
       "      <td>SILENT 911 CALL</td>\n",
       "      <td>70112.0</td>\n",
       "    </tr>\n",
       "    <tr>\n",
       "      <th>2</th>\n",
       "      <td>42.0</td>\n",
       "      <td>4.0</td>\n",
       "      <td>11704.0</td>\n",
       "      <td>2.0</td>\n",
       "      <td>58.0</td>\n",
       "      <td>58.0</td>\n",
       "      <td>4152.0</td>\n",
       "      <td>11704.0</td>\n",
       "      <td>6E01</td>\n",
       "      <td>014XX Saint Andrew St</td>\n",
       "      <td>...</td>\n",
       "      <td>6</td>\n",
       "      <td>0E</td>\n",
       "      <td>Y</td>\n",
       "      <td>2017-08-04T12:11:52.000</td>\n",
       "      <td>2017-08-04T12:45:37.000</td>\n",
       "      <td>2017-08-04T12:11:52.000</td>\n",
       "      <td>NaN</td>\n",
       "      <td>21P</td>\n",
       "      <td>LOST PROPERTY</td>\n",
       "      <td>70130.0</td>\n",
       "    </tr>\n",
       "    <tr>\n",
       "      <th>3</th>\n",
       "      <td>38.0</td>\n",
       "      <td>7.0</td>\n",
       "      <td>1061.0</td>\n",
       "      <td>1.0</td>\n",
       "      <td>106.0</td>\n",
       "      <td>106.0</td>\n",
       "      <td>3772.0</td>\n",
       "      <td>1061.0</td>\n",
       "      <td>3J01</td>\n",
       "      <td>Marshal Foch St &amp; Porteous St</td>\n",
       "      <td>...</td>\n",
       "      <td>3</td>\n",
       "      <td>1I</td>\n",
       "      <td>N</td>\n",
       "      <td>2017-08-04T12:15:54.000</td>\n",
       "      <td>2017-08-04T12:39:25.000</td>\n",
       "      <td>2017-08-04T12:15:39.000</td>\n",
       "      <td>2017-08-04T12:15:39.000</td>\n",
       "      <td>22D</td>\n",
       "      <td>DIRECTED PATROL</td>\n",
       "      <td>70124.0</td>\n",
       "    </tr>\n",
       "    <tr>\n",
       "      <th>4</th>\n",
       "      <td>61.0</td>\n",
       "      <td>8.0</td>\n",
       "      <td>3605.0</td>\n",
       "      <td>4.0</td>\n",
       "      <td>139.0</td>\n",
       "      <td>139.0</td>\n",
       "      <td>3766.0</td>\n",
       "      <td>3605.0</td>\n",
       "      <td>5G04</td>\n",
       "      <td>029XX Blk N Galvez St</td>\n",
       "      <td>...</td>\n",
       "      <td>5</td>\n",
       "      <td>1H</td>\n",
       "      <td>N</td>\n",
       "      <td>2017-08-04T12:43:56.000</td>\n",
       "      <td>2017-08-04T13:27:23.000</td>\n",
       "      <td>2017-08-04T12:16:18.000</td>\n",
       "      <td>2017-08-04T12:32:50.000</td>\n",
       "      <td>21</td>\n",
       "      <td>COMPLAINT OTHER</td>\n",
       "      <td>70117.0</td>\n",
       "    </tr>\n",
       "  </tbody>\n",
       "</table>\n",
       "<p>5 rows × 33 columns</p>\n",
       "</div>"
      ],
      "text/plain": [
       "   :@computed_region_7fw3_kdpf  :@computed_region_evki_aju8  \\\n",
       "0                         43.0                          8.0   \n",
       "1                         12.0                          5.0   \n",
       "2                         42.0                          4.0   \n",
       "3                         38.0                          7.0   \n",
       "4                         61.0                          8.0   \n",
       "\n",
       "   :@computed_region_ewbu_t8bu  :@computed_region_k37d_then  \\\n",
       "0                       7911.0                          5.0   \n",
       "1                       8154.0                          2.0   \n",
       "2                      11704.0                          2.0   \n",
       "3                       1061.0                          1.0   \n",
       "4                       3605.0                          4.0   \n",
       "\n",
       "   :@computed_region_m56f_hbma  :@computed_region_sikx_bdeb  \\\n",
       "0                        154.0                        154.0   \n",
       "1                         23.0                         23.0   \n",
       "2                         58.0                         58.0   \n",
       "3                        106.0                        106.0   \n",
       "4                        139.0                        139.0   \n",
       "\n",
       "   :@computed_region_spev_d8jm  :@computed_region_u4yh_3wk9  beat  \\\n",
       "0                       3766.0                       7911.0  5E02   \n",
       "1                       3454.0                       8154.0  8I01   \n",
       "2                       4152.0                      11704.0  6E01   \n",
       "3                       3772.0                       1061.0  3J01   \n",
       "4                       3766.0                       3605.0  5G04   \n",
       "\n",
       "                   block_address   ...    policedistrict priority  \\\n",
       "0                014XX Egania St   ...                 5       2B   \n",
       "1            003XX Carondelet St   ...                 8       1A   \n",
       "2          014XX Saint Andrew St   ...                 6       0E   \n",
       "3  Marshal Foch St & Porteous St   ...                 3       1I   \n",
       "4          029XX Blk N Galvez St   ...                 5       1H   \n",
       "\n",
       "  selfinitiated               timearrive               timeclosed  \\\n",
       "0             N  2017-08-04T12:16:19.000  2017-08-04T13:46:22.000   \n",
       "1             N  2017-08-04T13:05:15.000  2017-08-04T13:14:26.000   \n",
       "2             Y  2017-08-04T12:11:52.000  2017-08-04T12:45:37.000   \n",
       "3             N  2017-08-04T12:15:54.000  2017-08-04T12:39:25.000   \n",
       "4             N  2017-08-04T12:43:56.000  2017-08-04T13:27:23.000   \n",
       "\n",
       "                timecreate             timedispatch  type_  \\\n",
       "0  2017-08-04T12:10:59.000  2017-08-04T12:11:34.000   103D   \n",
       "1  2017-08-04T12:11:14.000  2017-08-04T13:00:39.000    911   \n",
       "2  2017-08-04T12:11:52.000                      NaN    21P   \n",
       "3  2017-08-04T12:15:39.000  2017-08-04T12:15:39.000    22D   \n",
       "4  2017-08-04T12:16:18.000  2017-08-04T12:32:50.000     21   \n",
       "\n",
       "               typetext      zip  \n",
       "0  DOMESTIC DISTURBANCE  70117.0  \n",
       "1       SILENT 911 CALL  70112.0  \n",
       "2         LOST PROPERTY  70130.0  \n",
       "3       DIRECTED PATROL  70124.0  \n",
       "4       COMPLAINT OTHER  70117.0  \n",
       "\n",
       "[5 rows x 33 columns]"
      ]
     },
     "execution_count": 5,
     "metadata": {},
     "output_type": "execute_result"
    }
   ],
   "source": [
    "service_call_data_2017.head()\n"
   ]
  },
  {
   "cell_type": "code",
   "execution_count": 6,
   "metadata": {},
   "outputs": [
    {
     "data": {
      "text/plain": [
       "count     1000\n",
       "unique      17\n",
       "top         1H\n",
       "freq       253\n",
       "Name: priority, dtype: object"
      ]
     },
     "execution_count": 6,
     "metadata": {},
     "output_type": "execute_result"
    }
   ],
   "source": [
    "service_call_data_2017['priority'].describe()"
   ]
  },
  {
   "cell_type": "code",
   "execution_count": 7,
   "metadata": {},
   "outputs": [
    {
     "data": {
      "image/png": "[encoded data removed]",
      "text/plain": [
       "<Figure size 432x288 with 1 Axes>"
      ]
     },
     "metadata": {
      "needs_background": "light"
     },
     "output_type": "display_data"
    }
   ],
   "source": [
    "pr = service_call_data_2017['priority'].value_counts()\n",
    "\n",
    "\n",
    "pr.plot(kind='barh',rot=0)\n",
    "plt.show()"
   ]
  },
  {
   "cell_type": "code",
   "execution_count": 8,
   "metadata": {},
   "outputs": [
    {
     "data": {
      "image/png": "[encoded data removed]",
      "text/plain": [
       "<Figure size 432x288 with 1 Axes>"
      ]
     },
     "metadata": {
      "needs_background": "light"
     },
     "output_type": "display_data"
    }
   ],
   "source": [
    "\n",
    "ba = service_call_data_2017['block_address'].value_counts()\n",
    "\n",
    "#service_call_data_2017['block_address'].hist(bins=10)\n",
    "ba[:10].plot(kind='barh',rot=0)\n",
    "plt.show()"
   ]
  },
  {
   "cell_type": "code",
   "execution_count": 8,
   "metadata": {
    "collapsed": true
   },
   "outputs": [],
   "source": [
    "\n",
    "\n",
    "typetext = service_call_data_2017['type_']\n",
    "xy = typetext.value_counts()"
   ]
  },
  {
   "cell_type": "code",
   "execution_count": 9,
   "metadata": {},
   "outputs": [
    {
     "data": {
      "text/plain": [
       "pandas.core.series.Series"
      ]
     },
     "execution_count": 9,
     "metadata": {},
     "output_type": "execute_result"
    }
   ],
   "source": [
    "type(xy)"
   ]
  },
  {
   "cell_type": "code",
   "execution_count": 10,
   "metadata": {},
   "outputs": [
    {
     "data": {
      "image/png": "[encoded data removed]",
      "text/plain": [
       "<Figure size 432x288 with 1 Axes>"
      ]
     },
     "metadata": {},
     "output_type": "display_data"
    }
   ],
   "source": [
    "\n",
    "xy[:10].plot(kind='barh',rot=0)\n",
    "plt.show()"
   ]
  },
  {
   "cell_type": "code",
   "execution_count": 11,
   "metadata": {
    "collapsed": true
   },
   "outputs": [],
   "source": [
    "k = xy.keys()\n",
    "y = list(xy)"
   ]
  },
  {
   "cell_type": "code",
   "execution_count": 12,
   "metadata": {},
   "outputs": [
    {
     "data": {
      "text/plain": [
       "43"
      ]
     },
     "execution_count": 12,
     "metadata": {},
     "output_type": "execute_result"
    }
   ],
   "source": [
    "k = list(xy[:10].keys())\n",
    "y = list(xy[:10].values)\n",
    "y[8]"
   ]
  },
  {
   "cell_type": "code",
   "execution_count": 13,
   "metadata": {},
   "outputs": [
    {
     "data": {
      "image/png": "[encoded data removed]",
      "text/plain": [
       "<Figure size 432x288 with 1 Axes>"
      ]
     },
     "metadata": {},
     "output_type": "display_data"
    }
   ],
   "source": [
    "plt.bar(range(len(y)),y)\n",
    "plt.show()"
   ]
  },
  {
   "cell_type": "code",
   "execution_count": 14,
   "metadata": {},
   "outputs": [
    {
     "data": {
      "text/plain": [
       "['21', '62A', '18', '24', '22A', '20', '17R', '103', '22B', '58']"
      ]
     },
     "execution_count": 14,
     "metadata": {},
     "output_type": "execute_result"
    }
   ],
   "source": [
    "k"
   ]
  },
  {
   "cell_type": "code",
   "execution_count": 15,
   "metadata": {
    "collapsed": true
   },
   "outputs": [],
   "source": [
    "import shapely"
   ]
  },
  {
   "cell_type": "code",
   "execution_count": 15,
   "metadata": {},
   "outputs": [],
   "source": [
    "# https://blog.dominodatalab.com/interactive-dashboards-in-jupyter/"
   ]
  },
  {
   "cell_type": "code",
   "execution_count": 3,
   "metadata": {},
   "outputs": [],
   "source": [
    "from ipywidgets import widgets"
   ]
  },
  {
   "cell_type": "code",
   "execution_count": 11,
   "metadata": {},
   "outputs": [
    {
     "name": "stdout",
     "output_type": "stream",
     "text": [
      "te\n"
     ]
    }
   ],
   "source": [
    "from IPython.display import display\n",
    "text = widgets.Text()\n",
    "display(text)\n",
    "\n",
    "def handle_submit(sender):\n",
    "    textVal = text.value\n",
    "    print(text.value)\n",
    "    return(textVal)\n",
    "    \n",
    "a =text.on_submit(handle_submit)\n",
    "\n",
    "handle"
   ]
  },
  {
   "cell_type": "code",
   "execution_count": 16,
   "metadata": {},
   "outputs": [],
   "source": [
    "text"
   ]
  },
  {
   "cell_type": "code",
   "execution_count": null,
   "metadata": {
    "collapsed": true
   },
   "outputs": [],
   "source": []
  }
 ],
 "metadata": {
  "anaconda-cloud": {},
  "kernelspec": {
   "display_name": "Python 3",
   "language": "python",
   "name": "python3"
  },
  "language_info": {
   "codemirror_mode": {
    "name": "ipython",
    "version": 3
   },
   "file_extension": ".py",
   "mimetype": "text/x-python",
   "name": "python",
   "nbconvert_exporter": "python",
   "pygments_lexer": "ipython3",
   "version": "3.7.1"
  },
  "widgets": {
   "state": {
    "7ad8c49796e04c3f915092d6f8a538a3": {
     "views": [
      {
       "cell_index": 18
      },
      {
       "cell_index": 19
      }
     ]
    }
   },
   "version": "1.2.0"
  }
 },
 "nbformat": 4,
 "nbformat_minor": 2
}
