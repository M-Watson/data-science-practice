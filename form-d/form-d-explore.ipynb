{
 "cells": [
  {
   "cell_type": "code",
   "execution_count": null,
   "metadata": {
    "collapsed": true
   },
   "outputs": [],
   "source": [
    "import pandas as pd"
   ]
  },
  {
   "cell_type": "code",
   "execution_count": null,
   "metadata": {
    "collapsed": true
   },
   "outputs": [],
   "source": [
    "page = str(1)\n",
    "url = \"http://formds.com/locales/washington-dc?page=%s\"%page"
   ]
  },
  {
   "cell_type": "code",
   "execution_count": 146,
   "metadata": {
    "collapsed": true
   },
   "outputs": [],
   "source": []
  },
  {
   "cell_type": "code",
   "execution_count": null,
   "metadata": {
    "collapsed": true
   },
   "outputs": [],
   "source": [
    "def inc_cash_clean(df):\n",
    "    inc_cash_list = []\n",
    "    for item in df['Incremental Cash ']:\n",
    "        item = item.replace(\"$\", \"\")\n",
    "        item = item.replace(\",\", \"\")\n",
    "        inc_cash_list.append(float(item))\n",
    "    df['Incremental Cash'] = inc_cash_list\n",
    "    \n",
    "    return(df)"
   ]
  },
  {
   "cell_type": "code",
   "execution_count": 167,
   "metadata": {
    "collapsed": false
   },
   "outputs": [],
   "source": [
    "def rep_cash_clean(df):\n",
    "    rep_cash_list = []\n",
    "    for item in df['Reported funding']:\n",
    "        item = item.replace(\"$\", \"\")\n",
    "        item = item.replace(\",\", \"\")\n",
    "        try:\n",
    "            if float(item) < 30000000:\n",
    "                rep_cash_list.append(float(item))\n",
    "            else:\n",
    "                rep_cash_list.append(30000001)\n",
    "        except:\n",
    "            rep_cash_list.append(0)\n",
    "    df['Reported funding float'] = rep_cash_list\n",
    "    \n",
    "    return(df)"
   ]
  },
  {
   "cell_type": "code",
   "execution_count": null,
   "metadata": {
    "collapsed": false
   },
   "outputs": [],
   "source": [
    "def append_new_page(old_df,next_page):\n",
    "    #old_df = old_df_as_list[0]\n",
    "    url = \"http://formds.com/locales/washington-dc?page=%s\"%str(next_page)\n",
    "    \n",
    "    new_df_as_list = pd.read_html(url)\n",
    "    new_df = new_df_as_list[0]\n",
    "    \n",
    "    out_df = old_df.append(new_df,ignore_index=True)\n",
    "    \n",
    "    return(out_df)"
   ]
  },
  {
   "cell_type": "code",
   "execution_count": 161,
   "metadata": {
    "collapsed": false
   },
   "outputs": [
    {
     "name": "stdout",
     "output_type": "stream",
     "text": [
      "2\n",
      "3\n",
      "4\n",
      "5\n",
      "6\n",
      "7\n",
      "8\n",
      "9\n"
     ]
    }
   ],
   "source": [
    "data = pd.read_html(url)\n",
    "old_df = data[0]\n",
    "\n",
    "for i in range(2,10):\n",
    "\n",
    "    print(i)\n",
    "    new_df = append_new_page(old_df,i)\n",
    "    \n",
    "    old_df = new_df\n",
    "\n",
    "full_df = old_df\n",
    "    \n",
    "dt = full_df"
   ]
  },
  {
   "cell_type": "code",
   "execution_count": 148,
   "metadata": {
    "collapsed": false
   },
   "outputs": [],
   "source": [
    "dt = full_df"
   ]
  },
  {
   "cell_type": "code",
   "execution_count": null,
   "metadata": {
    "collapsed": false
   },
   "outputs": [],
   "source": [
    "dt.head()"
   ]
  },
  {
   "cell_type": "code",
   "execution_count": null,
   "metadata": {
    "collapsed": false
   },
   "outputs": [],
   "source": [
    "dt.describe()"
   ]
  },
  {
   "cell_type": "code",
   "execution_count": 168,
   "metadata": {
    "collapsed": false
   },
   "outputs": [
    {
     "name": "stdout",
     "output_type": "stream",
     "text": [
      "                                               Company New Filing?  \\\n",
      "0    HostMe Ltd Liability Co  (Other Technology - W...         Yes   \n",
      "1    HP Dulles CS Investors, LLC  (Commercial - Arl...         Yes   \n",
      "2    POWERUP TECHNOLOGY INC.  (Other Banking and Fi...         Yes   \n",
      "3    Verte Capital, LLC  (Pooled Investment Fund - ...          No   \n",
      "4    Magnolia Estates MHP, LLC  (Other Real Estate ...         Yes   \n",
      "5    Shoals Financials Opportunity Fund, LP  (Poole...          No   \n",
      "6    Hivers & Strivers Co-Investment Fund IB, L.P. ...         Yes   \n",
      "7    1776 Bananas, LLC  (Pooled Investment Fund - W...         Yes   \n",
      "8    North Bay Prosperity Fund, LP  (Pooled Investm...          No   \n",
      "9     Altmore Credit I, LLC  (Commercial - Tysons, VA)         Yes   \n",
      "10   BlackBoiler, LLC  (Other Technology - Arlingto...         Yes   \n",
      "11   CoJax Oil & Gas Corp  (Oil and Gas - Arlington...         Yes   \n",
      "12   TMG Solutions Plaza REIT 4, L.L.C.  (REITS and...         Yes   \n",
      "13   TMG 2500 Wilson Boulevard REIT, L.L.C.  (REITS...         Yes   \n",
      "14   TMG 1333 New Hampshire REIT, L.L.C.  (REITS an...         Yes   \n",
      "15   TMG 8280 Greensboro REIT, L.L.C.  (REITS and F...         Yes   \n",
      "16   Halcyon Fund, L.P.  (Pooled Investment Fund - ...         Yes   \n",
      "17   MicroVest EDF LP  (Pooled Investment Fund - Be...          No   \n",
      "18   MicroVest Short Duration Fund, LP  (Pooled Inv...          No   \n",
      "19   Shuttle Pharmaceuticals Holdings, Inc.  (Pharm...         Yes   \n",
      "20    Union Global, Inc. PBC  (Other - Washington, DC)         Yes   \n",
      "21   Edge Systems Technologies, LLC  (Other - Washi...          No   \n",
      "22   Flour Mill Fund, Ltd.  (Pooled Investment Fund...          No   \n",
      "23   1788/Riverside Business Center, LLC  (Commerci...         Yes   \n",
      "24   1788/CAP 10 Investors, LLC  (Commercial - Beth...         Yes   \n",
      "25   Ategra Community Financial Institution Fund, L...          No   \n",
      "26   PreciseTarget, Inc.  (Other Technology - Bethe...         Yes   \n",
      "27   ExecVision, Inc.  (Other Technology - Arlingto...         Yes   \n",
      "28   Verte Capital, LLC  (Pooled Investment Fund - ...          No   \n",
      "29   CP MA REIT LLC  (REITS and Finance - Washingto...         Yes   \n",
      "..                                                 ...         ...   \n",
      "240    FDS EMC II, LLC  (Construction - Arlington, VA)         Yes   \n",
      "241  Technology & Business Solutions, LLC  (Other T...         Yes   \n",
      "242  Cantina Calle N LLC  (Restaurants - Washington...          No   \n",
      "243  QED LatAm Fund II, LP  (Pooled Investment Fund...         Yes   \n",
      "244  Penzance DC Real Estate Fund LP  (Pooled Inves...          No   \n",
      "245  BM1 P, a Series of PROOF Master I, LLC  (Poole...          No   \n",
      "246  BM2 P, LLC, a series of PROOF Master I, LLC  (...         Yes   \n",
      "247  Syncurity Corp  (Other Technology - Bethesda, MD)         Yes   \n",
      "248      Evolent Health, Inc.  (Other - Arlington, VA)         Yes   \n",
      "249     923/927 HOTEL, LLC  (Commercial - Potomac, MD)         Yes   \n",
      "250  INDURE Build-to-Core Fund, LLC  (Other Real Es...         Yes   \n",
      "251  Aledade, Inc.  (Other Health Care - Bethesda, MD)          No   \n",
      "252  Invictus Opportunity Fund II, L.P.  (Pooled In...          No   \n",
      "253         QPoint 19 LLC  (Construction - Tysons, VA)         Yes   \n",
      "254         QPoint 20 LLC  (Construction - Tysons, VA)         Yes   \n",
      "255  XappMedia, Inc.  (Other Technology - Washingto...         Yes   \n",
      "256  Updata Partners VI, L.P.  (Pooled Investment F...         Yes   \n",
      "257  Amware Logistics 2, LLC  (Investing - Bethesda...         Yes   \n",
      "258  Neighborhood Sun Benefit Corp.  (Other Energy ...         Yes   \n",
      "259  Cantina Calle N LLC  (Restaurants - Washington...         Yes   \n",
      "260            Lines Up, Inc.  (Other - Arlington, VA)         Yes   \n",
      "261  Altmore Capital CRE Fund, LP  (Commercial - Mc...         Yes   \n",
      "262  Spot Hype INC.  (Other Technology - Washington...         Yes   \n",
      "263  Citizens Brewing, LLC  (Manufacturing - Silver...         Yes   \n",
      "264  Maryland Cultivation & Processing, L.L.C.  (Ot...         Yes   \n",
      "265  Pupatella RD I LLC  (Restaurants - Arlington, VA)         Yes   \n",
      "266  Carlyle Property Investors-B, L.P.  (Pooled In...          No   \n",
      "267  Carlyle Property Investors-A, L.P.  (Pooled In...          No   \n",
      "268  GS BW UNITS CLASS A LLC  (Commercial - Bethesd...         Yes   \n",
      "269  SocialAlpha Investment Fund US LP  (Pooled Inv...          No   \n",
      "\n",
      "    Reported funding Incremental Cash         Date New or Amended  \\\n",
      "0           $699,941          $699,941  2019-02-11     New Filing   \n",
      "1         $1,250,000        $1,250,000  2019-02-11     New Filing   \n",
      "2         $5,557,000        $5,557,000  2019-02-11     New Filing   \n",
      "3           $190,000           $25,000  2019-02-07        Amended   \n",
      "4           $609,000          $609,000  2019-02-06     New Filing   \n",
      "5       $149,743,000      $139,468,000  2019-02-06        Amended   \n",
      "6        Yet to Sell                $0  2019-02-05     New Filing   \n",
      "7        Yet to Sell                $0  2019-02-04     New Filing   \n",
      "8         $5,075,000        $5,075,000  2019-02-04        Amended   \n",
      "9        Yet to Sell                $0  2019-02-04     New Filing   \n",
      "10          $325,000          $325,000  2019-02-01     New Filing   \n",
      "11                $2                $2  2019-02-01     New Filing   \n",
      "12          $125,000          $125,000  2019-02-01     New Filing   \n",
      "13          $125,000          $125,000  2019-02-01     New Filing   \n",
      "14          $125,000          $125,000  2019-02-01     New Filing   \n",
      "15          $125,000          $125,000  2019-02-01     New Filing   \n",
      "16        $2,870,000        $2,870,000  2019-02-01     New Filing   \n",
      "17       $12,309,402                $0  2019-01-31        Amended   \n",
      "18      $202,550,110        $7,984,905  2019-01-31        Amended   \n",
      "19          $912,500          $912,500  2019-01-31     New Filing   \n",
      "20        $1,867,030        $1,867,030  2019-01-31     New Filing   \n",
      "21          $715,000          $689,998  2019-01-30        Amended   \n",
      "22       $20,000,000                $0  2019-01-29        Amended   \n",
      "23        $3,835,000        $3,835,000  2019-01-28     New Filing   \n",
      "24        $5,600,000        $5,600,000  2019-01-28     New Filing   \n",
      "25       $36,945,546        $5,550,000  2019-01-28        Amended   \n",
      "26        $8,279,288        $8,279,288  2019-01-25     New Filing   \n",
      "27        $5,863,052        $5,863,052  2019-01-25     New Filing   \n",
      "28           $65,000           $25,000  2019-01-25        Amended   \n",
      "29          $125,000          $125,000  2019-01-25     New Filing   \n",
      "..               ...               ...         ...            ...   \n",
      "240       $1,002,220        $1,002,220  2018-10-19     New Filing   \n",
      "241         $155,000          $155,000  2018-10-19     New Filing   \n",
      "242         $107,500                $0  2018-10-18        Amended   \n",
      "243      Yet to Sell                $0  2018-10-18     New Filing   \n",
      "244     $255,000,000      $221,321,000  2018-10-18        Amended   \n",
      "245      $14,954,750       $13,976,250  2018-10-18        Amended   \n",
      "246      $10,300,000       $10,300,000  2018-10-18     New Filing   \n",
      "247       $3,747,606        $3,747,606  2018-10-17     New Filing   \n",
      "248      $83,173,120       $83,173,120  2018-10-16     New Filing   \n",
      "249       $1,300,000        $1,300,000  2018-10-16     New Filing   \n",
      "250   $1,342,984,867    $1,342,984,867  2018-10-16     New Filing   \n",
      "251      $46,149,963       $23,149,989  2018-10-16        Amended   \n",
      "252     $197,352,000       $66,100,000  2018-10-15        Amended   \n",
      "253       $2,000,000        $2,000,000  2018-10-15     New Filing   \n",
      "254         $450,000          $450,000  2018-10-15     New Filing   \n",
      "255         $750,000          $750,000  2018-10-12     New Filing   \n",
      "256      Yet to Sell                $0  2018-10-12     New Filing   \n",
      "257       $5,100,000        $5,100,000  2018-10-11     New Filing   \n",
      "258         $275,000          $275,000  2018-10-11     New Filing   \n",
      "259         $107,500          $107,500  2018-10-10     New Filing   \n",
      "260         $250,000          $250,000  2018-10-10     New Filing   \n",
      "261      Yet to Sell                $0  2018-10-09     New Filing   \n",
      "262      Yet to Sell                $0  2018-10-09     New Filing   \n",
      "263      Yet to Sell                $0  2018-10-09     New Filing   \n",
      "264       $2,500,000        $2,500,000  2018-10-09     New Filing   \n",
      "265       $3,750,000        $3,750,000  2018-10-05     New Filing   \n",
      "266     $110,558,000        $5,000,000  2018-10-05        Amended   \n",
      "267      Yet to Sell                $0  2018-10-05        Amended   \n",
      "268         $700,000          $700,000  2018-10-05     New Filing   \n",
      "269         $750,000          $250,000  2018-10-04        Amended   \n",
      "\n",
      "     Incremental Cash  \n",
      "0        6.999410e+05  \n",
      "1        1.250000e+06  \n",
      "2        5.557000e+06  \n",
      "3        2.500000e+04  \n",
      "4        6.090000e+05  \n",
      "5        1.394680e+08  \n",
      "6        0.000000e+00  \n",
      "7        0.000000e+00  \n",
      "8        5.075000e+06  \n",
      "9        0.000000e+00  \n",
      "10       3.250000e+05  \n",
      "11       2.000000e+00  \n",
      "12       1.250000e+05  \n",
      "13       1.250000e+05  \n",
      "14       1.250000e+05  \n",
      "15       1.250000e+05  \n",
      "16       2.870000e+06  \n",
      "17       0.000000e+00  \n",
      "18       7.984905e+06  \n",
      "19       9.125000e+05  \n",
      "20       1.867030e+06  \n",
      "21       6.899980e+05  \n",
      "22       0.000000e+00  \n",
      "23       3.835000e+06  \n",
      "24       5.600000e+06  \n",
      "25       5.550000e+06  \n",
      "26       8.279288e+06  \n",
      "27       5.863052e+06  \n",
      "28       2.500000e+04  \n",
      "29       1.250000e+05  \n",
      "..                ...  \n",
      "240      1.002220e+06  \n",
      "241      1.550000e+05  \n",
      "242      0.000000e+00  \n",
      "243      0.000000e+00  \n",
      "244      2.213210e+08  \n",
      "245      1.397625e+07  \n",
      "246      1.030000e+07  \n",
      "247      3.747606e+06  \n",
      "248      8.317312e+07  \n",
      "249      1.300000e+06  \n",
      "250      1.342985e+09  \n",
      "251      2.314999e+07  \n",
      "252      6.610000e+07  \n",
      "253      2.000000e+06  \n",
      "254      4.500000e+05  \n",
      "255      7.500000e+05  \n",
      "256      0.000000e+00  \n",
      "257      5.100000e+06  \n",
      "258      2.750000e+05  \n",
      "259      1.075000e+05  \n",
      "260      2.500000e+05  \n",
      "261      0.000000e+00  \n",
      "262      0.000000e+00  \n",
      "263      0.000000e+00  \n",
      "264      2.500000e+06  \n",
      "265      3.750000e+06  \n",
      "266      5.000000e+06  \n",
      "267      0.000000e+00  \n",
      "268      7.000000e+05  \n",
      "269      2.500000e+05  \n",
      "\n",
      "[270 rows x 7 columns]\n"
     ]
    }
   ],
   "source": [
    "dtt =dt.copy()\n",
    "dttt = inc_cash_clean(dtt)\n",
    "dttt = rep_cash_clean(dttt)"
   ]
  },
  {
   "cell_type": "code",
   "execution_count": 163,
   "metadata": {
    "collapsed": false
   },
   "outputs": [
    {
     "data": {
      "text/html": [
       "<div>\n",
       "<table border=\"1\" class=\"dataframe\">\n",
       "  <thead>\n",
       "    <tr style=\"text-align: right;\">\n",
       "      <th></th>\n",
       "      <th>Incremental Cash</th>\n",
       "      <th>Reported funding float</th>\n",
       "    </tr>\n",
       "  </thead>\n",
       "  <tbody>\n",
       "    <tr>\n",
       "      <th>count</th>\n",
       "      <td>2.700000e+02</td>\n",
       "      <td>2.700000e+02</td>\n",
       "    </tr>\n",
       "    <tr>\n",
       "      <th>mean</th>\n",
       "      <td>3.487905e+07</td>\n",
       "      <td>6.543604e+07</td>\n",
       "    </tr>\n",
       "    <tr>\n",
       "      <th>std</th>\n",
       "      <td>1.931624e+08</td>\n",
       "      <td>3.715103e+08</td>\n",
       "    </tr>\n",
       "    <tr>\n",
       "      <th>min</th>\n",
       "      <td>0.000000e+00</td>\n",
       "      <td>0.000000e+00</td>\n",
       "    </tr>\n",
       "    <tr>\n",
       "      <th>25%</th>\n",
       "      <td>2.750000e+03</td>\n",
       "      <td>1.250000e+05</td>\n",
       "    </tr>\n",
       "    <tr>\n",
       "      <th>50%</th>\n",
       "      <td>6.439500e+05</td>\n",
       "      <td>1.209437e+06</td>\n",
       "    </tr>\n",
       "    <tr>\n",
       "      <th>75%</th>\n",
       "      <td>5.003750e+06</td>\n",
       "      <td>1.009375e+07</td>\n",
       "    </tr>\n",
       "    <tr>\n",
       "      <th>max</th>\n",
       "      <td>2.643653e+09</td>\n",
       "      <td>5.541350e+09</td>\n",
       "    </tr>\n",
       "  </tbody>\n",
       "</table>\n",
       "</div>"
      ],
      "text/plain": [
       "       Incremental Cash  Reported funding float\n",
       "count      2.700000e+02            2.700000e+02\n",
       "mean       3.487905e+07            6.543604e+07\n",
       "std        1.931624e+08            3.715103e+08\n",
       "min        0.000000e+00            0.000000e+00\n",
       "25%        2.750000e+03            1.250000e+05\n",
       "50%        6.439500e+05            1.209437e+06\n",
       "75%        5.003750e+06            1.009375e+07\n",
       "max        2.643653e+09            5.541350e+09"
      ]
     },
     "execution_count": 163,
     "metadata": {},
     "output_type": "execute_result"
    }
   ],
   "source": [
    "dttt.describe()"
   ]
  },
  {
   "cell_type": "code",
   "execution_count": 164,
   "metadata": {
    "collapsed": false
   },
   "outputs": [
    {
     "data": {
      "text/plain": [
       "Index(['Company', 'New Filing?', 'Reported funding', 'Incremental Cash ',\n",
       "       'Date', 'New or Amended'],\n",
       "      dtype='object')"
      ]
     },
     "execution_count": 164,
     "metadata": {},
     "output_type": "execute_result"
    }
   ],
   "source": [
    "dt.keys()"
   ]
  },
  {
   "cell_type": "code",
   "execution_count": null,
   "metadata": {
    "collapsed": false
   },
   "outputs": [],
   "source": [
    "dt['Date'].value_counts().hist()"
   ]
  },
  {
   "cell_type": "code",
   "execution_count": null,
   "metadata": {
    "collapsed": false
   },
   "outputs": [],
   "source": [
    "dates = []\n",
    "for i in range(len(dttt)):\n",
    "    dates.append(dttt['Date'][i])\n",
    "dttt['date_str'] = dates"
   ]
  },
  {
   "cell_type": "code",
   "execution_count": null,
   "metadata": {
    "collapsed": false
   },
   "outputs": [],
   "source": [
    "dttt['Date'].hist()"
   ]
  },
  {
   "cell_type": "code",
   "execution_count": 171,
   "metadata": {
    "collapsed": false
   },
   "outputs": [
    {
     "data": {
      "text/plain": [
       "<matplotlib.axes._subplots.AxesSubplot at 0xfd52828>"
      ]
     },
     "execution_count": 171,
     "metadata": {},
     "output_type": "execute_result"
    },
    {
     "data": {
      "image/png": "[encoded data removed]",
      "text/plain": [
       "<Figure size 1440x936 with 1 Axes>"
      ]
     },
     "metadata": {},
     "output_type": "display_data"
    }
   ],
   "source": [
    "%matplotlib inline\n",
    "dttt.plot(kind=\"bar\",x=\"Date\", y=\"Reported funding float\",figsize=(20,13))"
   ]
  },
  {
   "cell_type": "code",
   "execution_count": null,
   "metadata": {
    "collapsed": true
   },
   "outputs": [],
   "source": [
    "1,000,000,000"
   ]
  }
 ],
 "metadata": {
  "anaconda-cloud": {},
  "kernelspec": {
   "display_name": "Python [default]",
   "language": "python",
   "name": "python3"
  },
  "language_info": {
   "codemirror_mode": {
    "name": "ipython",
    "version": 3
   },
   "file_extension": ".py",
   "mimetype": "text/x-python",
   "name": "python",
   "nbconvert_exporter": "python",
   "pygments_lexer": "ipython3",
   "version": "3.5.4"
  }
 },
 "nbformat": 4,
 "nbformat_minor": 2
}
