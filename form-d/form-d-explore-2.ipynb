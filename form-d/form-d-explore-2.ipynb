{
 "cells": [
  {
   "cell_type": "code",
   "execution_count": 1,
   "metadata": {},
   "outputs": [],
   "source": [
    "import pandas as pd\n",
    "import re\n",
    "%matplotlib inline"
   ]
  },
  {
   "cell_type": "code",
   "execution_count": 2,
   "metadata": {},
   "outputs": [],
   "source": [
    "page = str(1)\n",
    "url = \"http://formds.com/locales/washington-dc?page=%s\"%page"
   ]
  },
  {
   "cell_type": "code",
   "execution_count": 3,
   "metadata": {},
   "outputs": [],
   "source": [
    "def name_type_parse(df):\n",
    "    type_par_list = []\n",
    "    loc_list = []\n",
    "    type_list = []\n",
    "    for item in df['Company']:\n",
    "        try:\n",
    "            type_par = re.findall(r\"\\([^()]*\\)\",str(item))\n",
    "            type_par_str = type_par[0]\n",
    "\n",
    "\n",
    "            loc_f = re.findall(r\"\\-(.*)\",type_par_str)\n",
    "            loc_str = loc_f[0]\n",
    "\n",
    "\n",
    "            type_f = re.findall(r\"(.*)\\-\",type_par_str)\n",
    "            type_str = type_f[0]\n",
    "\n",
    "            type_list.append(type_str)\n",
    "            loc_list.append(loc_str)\n",
    "        except:\n",
    "            type_list.append(\"Not Found\")\n",
    "            loc_list.append(\"Not Found\")\n",
    "        \n",
    "    df['loc'] = loc_list\n",
    "    df['type'] = type_list\n",
    "    return(df)\n",
    "    "
   ]
  },
  {
   "cell_type": "code",
   "execution_count": 67,
   "metadata": {},
   "outputs": [],
   "source": [
    "def inc_cash_clean(df):\n",
    "    inc_cash_list = []\n",
    "    for item in df['Incremental Cash']:\n",
    "        if item == 'Incremental Cash': item = '$0'\n",
    "        item = item.replace(\"$\", \"\")\n",
    "        item = item.replace(\",\", \"\")\n",
    "        inc_cash_list.append(float(item))\n",
    "    df['Incremental Cash float'] = inc_cash_list\n",
    "    \n",
    "    return(df)"
   ]
  },
  {
   "cell_type": "code",
   "execution_count": 56,
   "metadata": {},
   "outputs": [],
   "source": [
    "def rep_cash_clean(df):\n",
    "    rep_cash_list = []\n",
    "    for item in df['Reported funding']:\n",
    "        item = item.replace(\"$\", \"\")\n",
    "        item = item.replace(\",\", \"\")\n",
    "        try:\n",
    "            if float(item) < 100000000:\n",
    "                rep_cash_list.append(float(item))\n",
    "            else:\n",
    "                rep_cash_list.append(30000001)\n",
    "        except:\n",
    "            rep_cash_list.append(0)\n",
    "    df['Reported funding float'] = rep_cash_list\n",
    "    \n",
    "    return(df)"
   ]
  },
  {
   "cell_type": "code",
   "execution_count": 25,
   "metadata": {},
   "outputs": [],
   "source": [
    "def append_new_page(old_df,next_page):\n",
    "    #old_df = old_df_as_list[0]\n",
    "    url = \"http://formds.com/locales/washington-dc?page=%s\"%str(next_page)\n",
    "    \n",
    "    new_df_as_list = pd.read_html(url,header =None)\n",
    "    new_df = new_df_as_list[0]\n",
    "    \n",
    "    out_df = old_df.append(new_df,ignore_index=True)\n",
    "    \n",
    "    return(out_df)"
   ]
  },
  {
   "cell_type": "code",
   "execution_count": 7,
   "metadata": {},
   "outputs": [],
   "source": [
    "def date_to_year(df):\n",
    "    year_list = []\n",
    "    for item in df['Date']:\n",
    "        year_month = re.match(r\"(.*)\\-\",item)\n",
    "        year = re.match(r\"(.*)\\-\",year_month.group(1))\n",
    "        year_str = year.group(1)\n",
    "        year_list.append(year_str)\n",
    "    df['Year'] = year_list\n",
    "    return(df)"
   ]
  },
  {
   "cell_type": "code",
   "execution_count": 65,
   "metadata": {},
   "outputs": [],
   "source": [
    "def df_column_clean(df):\n",
    "    \n",
    "    df_1 = inc_cash_clean(df)\n",
    "    df_2 = rep_cash_clean(df_1)\n",
    "    df_3 = name_type_parse(df_2)\n",
    "    df_4 = date_to_year(df_3)\n",
    "    \n",
    "    \n",
    "    df_final = df_4\n",
    "    return(df_final)"
   ]
  },
  {
   "cell_type": "code",
   "execution_count": 69,
   "metadata": {},
   "outputs": [],
   "source": [
    "data = pd.read_html(url,header =None)\n",
    "old_df = data[0]\n",
    "\n",
    "for i in range(2,20):\n",
    "\n",
    "    #print(i)\n",
    "    new_df = append_new_page(old_df,i)\n",
    "    \n",
    "    old_df = new_df\n",
    "\n",
    "full_df = old_df\n",
    "    \n",
    "dt = full_df\n",
    "dt = dt.drop(0)"
   ]
  },
  {
   "cell_type": "code",
   "execution_count": 70,
   "metadata": {},
   "outputs": [
    {
     "data": {
      "text/html": [
       "<div>\n",
       "<style scoped>\n",
       "    .dataframe tbody tr th:only-of-type {\n",
       "        vertical-align: middle;\n",
       "    }\n",
       "\n",
       "    .dataframe tbody tr th {\n",
       "        vertical-align: top;\n",
       "    }\n",
       "\n",
       "    .dataframe thead th {\n",
       "        text-align: right;\n",
       "    }\n",
       "</style>\n",
       "<table border=\"1\" class=\"dataframe\">\n",
       "  <thead>\n",
       "    <tr style=\"text-align: right;\">\n",
       "      <th></th>\n",
       "      <th>Company</th>\n",
       "      <th>New Filing?</th>\n",
       "      <th>Reported funding</th>\n",
       "      <th>Incremental Cash</th>\n",
       "      <th>Date</th>\n",
       "      <th>New or Amended</th>\n",
       "    </tr>\n",
       "  </thead>\n",
       "  <tbody>\n",
       "    <tr>\n",
       "      <th>1</th>\n",
       "      <td>FDS Nolensville Holdings, LLC  (Commercial - A...</td>\n",
       "      <td>Yes</td>\n",
       "      <td>$3,772,426</td>\n",
       "      <td>$3,772,426</td>\n",
       "      <td>2019-02-13</td>\n",
       "      <td>New Filing</td>\n",
       "    </tr>\n",
       "    <tr>\n",
       "      <th>2</th>\n",
       "      <td>PH Group Parent Corp.  (Business Services - Ar...</td>\n",
       "      <td>Yes</td>\n",
       "      <td>$18,729,702</td>\n",
       "      <td>$18,729,702</td>\n",
       "      <td>2019-02-13</td>\n",
       "      <td>New Filing</td>\n",
       "    </tr>\n",
       "    <tr>\n",
       "      <th>3</th>\n",
       "      <td>Monsoon India Dynamic Alpha Fund, L.P.  (Poole...</td>\n",
       "      <td>No</td>\n",
       "      <td>$20,391,555</td>\n",
       "      <td>$4,816,355</td>\n",
       "      <td>2019-02-12</td>\n",
       "      <td>Amended</td>\n",
       "    </tr>\n",
       "    <tr>\n",
       "      <th>4</th>\n",
       "      <td>Remine Inc.  (Other Technology - Fairfax, VA)</td>\n",
       "      <td>Yes</td>\n",
       "      <td>$29,683,058</td>\n",
       "      <td>$29,683,058</td>\n",
       "      <td>2019-02-12</td>\n",
       "      <td>New Filing</td>\n",
       "    </tr>\n",
       "    <tr>\n",
       "      <th>5</th>\n",
       "      <td>Nisos Holdings Inc.  (Other Technology - Alexa...</td>\n",
       "      <td>Yes</td>\n",
       "      <td>$6,100,000</td>\n",
       "      <td>$6,100,000</td>\n",
       "      <td>2019-02-12</td>\n",
       "      <td>New Filing</td>\n",
       "    </tr>\n",
       "  </tbody>\n",
       "</table>\n",
       "</div>"
      ],
      "text/plain": [
       "                                             Company New Filing?  \\\n",
       "1  FDS Nolensville Holdings, LLC  (Commercial - A...         Yes   \n",
       "2  PH Group Parent Corp.  (Business Services - Ar...         Yes   \n",
       "3  Monsoon India Dynamic Alpha Fund, L.P.  (Poole...          No   \n",
       "4      Remine Inc.  (Other Technology - Fairfax, VA)         Yes   \n",
       "5  Nisos Holdings Inc.  (Other Technology - Alexa...         Yes   \n",
       "\n",
       "  Reported funding Incremental Cash        Date New or Amended  \n",
       "1       $3,772,426       $3,772,426  2019-02-13     New Filing  \n",
       "2      $18,729,702      $18,729,702  2019-02-13     New Filing  \n",
       "3      $20,391,555       $4,816,355  2019-02-12        Amended  \n",
       "4      $29,683,058      $29,683,058  2019-02-12     New Filing  \n",
       "5       $6,100,000       $6,100,000  2019-02-12     New Filing  "
      ]
     },
     "execution_count": 70,
     "metadata": {},
     "output_type": "execute_result"
    }
   ],
   "source": [
    "dt.head()"
   ]
  },
  {
   "cell_type": "code",
   "execution_count": 71,
   "metadata": {},
   "outputs": [
    {
     "data": {
      "text/plain": [
       "Index(['Company', 'New Filing?', 'Reported funding', 'Incremental Cash',\n",
       "       'Date', 'New or Amended'],\n",
       "      dtype='object')"
      ]
     },
     "execution_count": 71,
     "metadata": {},
     "output_type": "execute_result"
    }
   ],
   "source": [
    "\n",
    "dtt =dt.copy()\n",
    "dtt.keys()\n"
   ]
  },
  {
   "cell_type": "code",
   "execution_count": 72,
   "metadata": {},
   "outputs": [
    {
     "data": {
      "text/html": [
       "<div>\n",
       "<style scoped>\n",
       "    .dataframe tbody tr th:only-of-type {\n",
       "        vertical-align: middle;\n",
       "    }\n",
       "\n",
       "    .dataframe tbody tr th {\n",
       "        vertical-align: top;\n",
       "    }\n",
       "\n",
       "    .dataframe thead th {\n",
       "        text-align: right;\n",
       "    }\n",
       "</style>\n",
       "<table border=\"1\" class=\"dataframe\">\n",
       "  <thead>\n",
       "    <tr style=\"text-align: right;\">\n",
       "      <th></th>\n",
       "      <th>Company</th>\n",
       "      <th>New Filing?</th>\n",
       "      <th>Reported funding</th>\n",
       "      <th>Incremental Cash</th>\n",
       "      <th>Date</th>\n",
       "      <th>New or Amended</th>\n",
       "    </tr>\n",
       "  </thead>\n",
       "  <tbody>\n",
       "    <tr>\n",
       "      <th>1</th>\n",
       "      <td>FDS Nolensville Holdings, LLC  (Commercial - A...</td>\n",
       "      <td>Yes</td>\n",
       "      <td>$3,772,426</td>\n",
       "      <td>$3,772,426</td>\n",
       "      <td>2019-02-13</td>\n",
       "      <td>New Filing</td>\n",
       "    </tr>\n",
       "    <tr>\n",
       "      <th>2</th>\n",
       "      <td>PH Group Parent Corp.  (Business Services - Ar...</td>\n",
       "      <td>Yes</td>\n",
       "      <td>$18,729,702</td>\n",
       "      <td>$18,729,702</td>\n",
       "      <td>2019-02-13</td>\n",
       "      <td>New Filing</td>\n",
       "    </tr>\n",
       "    <tr>\n",
       "      <th>3</th>\n",
       "      <td>Monsoon India Dynamic Alpha Fund, L.P.  (Poole...</td>\n",
       "      <td>No</td>\n",
       "      <td>$20,391,555</td>\n",
       "      <td>$4,816,355</td>\n",
       "      <td>2019-02-12</td>\n",
       "      <td>Amended</td>\n",
       "    </tr>\n",
       "    <tr>\n",
       "      <th>4</th>\n",
       "      <td>Remine Inc.  (Other Technology - Fairfax, VA)</td>\n",
       "      <td>Yes</td>\n",
       "      <td>$29,683,058</td>\n",
       "      <td>$29,683,058</td>\n",
       "      <td>2019-02-12</td>\n",
       "      <td>New Filing</td>\n",
       "    </tr>\n",
       "    <tr>\n",
       "      <th>5</th>\n",
       "      <td>Nisos Holdings Inc.  (Other Technology - Alexa...</td>\n",
       "      <td>Yes</td>\n",
       "      <td>$6,100,000</td>\n",
       "      <td>$6,100,000</td>\n",
       "      <td>2019-02-12</td>\n",
       "      <td>New Filing</td>\n",
       "    </tr>\n",
       "  </tbody>\n",
       "</table>\n",
       "</div>"
      ],
      "text/plain": [
       "                                             Company New Filing?  \\\n",
       "1  FDS Nolensville Holdings, LLC  (Commercial - A...         Yes   \n",
       "2  PH Group Parent Corp.  (Business Services - Ar...         Yes   \n",
       "3  Monsoon India Dynamic Alpha Fund, L.P.  (Poole...          No   \n",
       "4      Remine Inc.  (Other Technology - Fairfax, VA)         Yes   \n",
       "5  Nisos Holdings Inc.  (Other Technology - Alexa...         Yes   \n",
       "\n",
       "  Reported funding Incremental Cash        Date New or Amended  \n",
       "1       $3,772,426       $3,772,426  2019-02-13     New Filing  \n",
       "2      $18,729,702      $18,729,702  2019-02-13     New Filing  \n",
       "3      $20,391,555       $4,816,355  2019-02-12        Amended  \n",
       "4      $29,683,058      $29,683,058  2019-02-12     New Filing  \n",
       "5       $6,100,000       $6,100,000  2019-02-12     New Filing  "
      ]
     },
     "execution_count": 72,
     "metadata": {},
     "output_type": "execute_result"
    }
   ],
   "source": [
    "dtt.head()"
   ]
  },
  {
   "cell_type": "code",
   "execution_count": null,
   "metadata": {},
   "outputs": [],
   "source": [
    "dt.describe()"
   ]
  },
  {
   "cell_type": "code",
   "execution_count": 73,
   "metadata": {},
   "outputs": [
    {
     "ename": "AttributeError",
     "evalue": "'NoneType' object has no attribute 'group'",
     "output_type": "error",
     "traceback": [
      "\u001b[1;31m---------------------------------------------------------------------------\u001b[0m",
      "\u001b[1;31mAttributeError\u001b[0m                            Traceback (most recent call last)",
      "\u001b[1;32m<ipython-input-73-a94eebc25336>\u001b[0m in \u001b[0;36m<module>\u001b[1;34m\u001b[0m\n\u001b[1;32m----> 1\u001b[1;33m \u001b[0mdfc\u001b[0m \u001b[1;33m=\u001b[0m \u001b[0mdf_column_clean\u001b[0m\u001b[1;33m(\u001b[0m\u001b[0mdtt\u001b[0m\u001b[1;33m)\u001b[0m\u001b[1;33m\u001b[0m\u001b[1;33m\u001b[0m\u001b[0m\n\u001b[0m",
      "\u001b[1;32m<ipython-input-65-69772a7cd4dd>\u001b[0m in \u001b[0;36mdf_column_clean\u001b[1;34m(df)\u001b[0m\n\u001b[0;32m      4\u001b[0m     \u001b[0mdf_2\u001b[0m \u001b[1;33m=\u001b[0m \u001b[0mrep_cash_clean\u001b[0m\u001b[1;33m(\u001b[0m\u001b[0mdf_1\u001b[0m\u001b[1;33m)\u001b[0m\u001b[1;33m\u001b[0m\u001b[1;33m\u001b[0m\u001b[0m\n\u001b[0;32m      5\u001b[0m     \u001b[0mdf_3\u001b[0m \u001b[1;33m=\u001b[0m \u001b[0mname_type_parse\u001b[0m\u001b[1;33m(\u001b[0m\u001b[0mdf_2\u001b[0m\u001b[1;33m)\u001b[0m\u001b[1;33m\u001b[0m\u001b[1;33m\u001b[0m\u001b[0m\n\u001b[1;32m----> 6\u001b[1;33m     \u001b[0mdf_4\u001b[0m \u001b[1;33m=\u001b[0m \u001b[0mdate_to_year\u001b[0m\u001b[1;33m(\u001b[0m\u001b[0mdf_3\u001b[0m\u001b[1;33m)\u001b[0m\u001b[1;33m\u001b[0m\u001b[1;33m\u001b[0m\u001b[0m\n\u001b[0m\u001b[0;32m      7\u001b[0m \u001b[1;33m\u001b[0m\u001b[0m\n\u001b[0;32m      8\u001b[0m \u001b[1;33m\u001b[0m\u001b[0m\n",
      "\u001b[1;32m<ipython-input-7-798eac2cf1cd>\u001b[0m in \u001b[0;36mdate_to_year\u001b[1;34m(df)\u001b[0m\n\u001b[0;32m      3\u001b[0m     \u001b[1;32mfor\u001b[0m \u001b[0mitem\u001b[0m \u001b[1;32min\u001b[0m \u001b[0mdf\u001b[0m\u001b[1;33m[\u001b[0m\u001b[1;34m'Date'\u001b[0m\u001b[1;33m]\u001b[0m\u001b[1;33m:\u001b[0m\u001b[1;33m\u001b[0m\u001b[1;33m\u001b[0m\u001b[0m\n\u001b[0;32m      4\u001b[0m         \u001b[0myear_month\u001b[0m \u001b[1;33m=\u001b[0m \u001b[0mre\u001b[0m\u001b[1;33m.\u001b[0m\u001b[0mmatch\u001b[0m\u001b[1;33m(\u001b[0m\u001b[1;34mr\"(.*)\\-\"\u001b[0m\u001b[1;33m,\u001b[0m\u001b[0mitem\u001b[0m\u001b[1;33m)\u001b[0m\u001b[1;33m\u001b[0m\u001b[1;33m\u001b[0m\u001b[0m\n\u001b[1;32m----> 5\u001b[1;33m         \u001b[0myear\u001b[0m \u001b[1;33m=\u001b[0m \u001b[0mre\u001b[0m\u001b[1;33m.\u001b[0m\u001b[0mmatch\u001b[0m\u001b[1;33m(\u001b[0m\u001b[1;34mr\"(.*)\\-\"\u001b[0m\u001b[1;33m,\u001b[0m\u001b[0myear_month\u001b[0m\u001b[1;33m.\u001b[0m\u001b[0mgroup\u001b[0m\u001b[1;33m(\u001b[0m\u001b[1;36m1\u001b[0m\u001b[1;33m)\u001b[0m\u001b[1;33m)\u001b[0m\u001b[1;33m\u001b[0m\u001b[1;33m\u001b[0m\u001b[0m\n\u001b[0m\u001b[0;32m      6\u001b[0m         \u001b[0myear_str\u001b[0m \u001b[1;33m=\u001b[0m \u001b[0myear\u001b[0m\u001b[1;33m.\u001b[0m\u001b[0mgroup\u001b[0m\u001b[1;33m(\u001b[0m\u001b[1;36m1\u001b[0m\u001b[1;33m)\u001b[0m\u001b[1;33m\u001b[0m\u001b[1;33m\u001b[0m\u001b[0m\n\u001b[0;32m      7\u001b[0m         \u001b[0myear_list\u001b[0m\u001b[1;33m.\u001b[0m\u001b[0mappend\u001b[0m\u001b[1;33m(\u001b[0m\u001b[0myear_str\u001b[0m\u001b[1;33m)\u001b[0m\u001b[1;33m\u001b[0m\u001b[1;33m\u001b[0m\u001b[0m\n",
      "\u001b[1;31mAttributeError\u001b[0m: 'NoneType' object has no attribute 'group'"
     ]
    }
   ],
   "source": [
    "dfc = df_column_clean(dtt)\n"
   ]
  },
  {
   "cell_type": "code",
   "execution_count": 70,
   "metadata": {},
   "outputs": [
    {
     "data": {
      "text/html": [
       "<div>\n",
       "<table border=\"1\" class=\"dataframe\">\n",
       "  <thead>\n",
       "    <tr style=\"text-align: right;\">\n",
       "      <th></th>\n",
       "      <th>Incremental Cash</th>\n",
       "      <th>Reported funding float</th>\n",
       "    </tr>\n",
       "  </thead>\n",
       "  <tbody>\n",
       "    <tr>\n",
       "      <th>count</th>\n",
       "      <td>5.700000e+02</td>\n",
       "      <td>5.700000e+02</td>\n",
       "    </tr>\n",
       "    <tr>\n",
       "      <th>mean</th>\n",
       "      <td>4.708160e+07</td>\n",
       "      <td>9.155294e+06</td>\n",
       "    </tr>\n",
       "    <tr>\n",
       "      <th>std</th>\n",
       "      <td>3.026137e+08</td>\n",
       "      <td>1.219872e+07</td>\n",
       "    </tr>\n",
       "    <tr>\n",
       "      <th>min</th>\n",
       "      <td>0.000000e+00</td>\n",
       "      <td>0.000000e+00</td>\n",
       "    </tr>\n",
       "    <tr>\n",
       "      <th>25%</th>\n",
       "      <td>1.000000e+04</td>\n",
       "      <td>1.250000e+05</td>\n",
       "    </tr>\n",
       "    <tr>\n",
       "      <th>50%</th>\n",
       "      <td>9.187500e+05</td>\n",
       "      <td>1.738424e+06</td>\n",
       "    </tr>\n",
       "    <tr>\n",
       "      <th>75%</th>\n",
       "      <td>5.999988e+06</td>\n",
       "      <td>1.995402e+07</td>\n",
       "    </tr>\n",
       "    <tr>\n",
       "      <th>max</th>\n",
       "      <td>6.200000e+09</td>\n",
       "      <td>3.000000e+07</td>\n",
       "    </tr>\n",
       "  </tbody>\n",
       "</table>\n",
       "</div>"
      ],
      "text/plain": [
       "       Incremental Cash  Reported funding float\n",
       "count      5.700000e+02            5.700000e+02\n",
       "mean       4.708160e+07            9.155294e+06\n",
       "std        3.026137e+08            1.219872e+07\n",
       "min        0.000000e+00            0.000000e+00\n",
       "25%        1.000000e+04            1.250000e+05\n",
       "50%        9.187500e+05            1.738424e+06\n",
       "75%        5.999988e+06            1.995402e+07\n",
       "max        6.200000e+09            3.000000e+07"
      ]
     },
     "execution_count": 70,
     "metadata": {},
     "output_type": "execute_result"
    }
   ],
   "source": [
    "dttt.describe()"
   ]
  },
  {
   "cell_type": "code",
   "execution_count": 41,
   "metadata": {},
   "outputs": [
    {
     "data": {
      "text/plain": [
       "Index(['Company', 'New Filing?', 'Reported funding', 'Incremental Cash ',\n",
       "       'Date', 'New or Amended', 'Incremental Cash', 'Reported funding float',\n",
       "       'loc', 'type'],\n",
       "      dtype='object')"
      ]
     },
     "execution_count": 41,
     "metadata": {},
     "output_type": "execute_result"
    }
   ],
   "source": [
    "dttt.keys()"
   ]
  },
  {
   "cell_type": "code",
   "execution_count": 77,
   "metadata": {},
   "outputs": [
    {
     "data": {
      "text/plain": [
       "(Pooled Investment Fund                   250\n",
       "(Other Technology                          89\n",
       "(Other                                     46\n",
       "(Commercial                                33\n",
       "(REITS and Finance                         24\n",
       "(Other Real Estate                         20\n",
       "(Biotechnology                             15\n",
       "(Restaurants                               12\n",
       "(Other Banking and Financial Services      10\n",
       "Not Found                                   9\n",
       "(Other Health Care                          8\n",
       "(Retailing                                  8\n",
       "(Construction                               7\n",
       "(Investing                                  6\n",
       "(Other Energy                               5\n",
       "(Insurance                                  5\n",
       "(Oil and Gas                                4\n",
       "(Pharmaceuticals                            4\n",
       "(Manufacturing                              3\n",
       "(Computers                                  3\n",
       "(Telecommunications                         2\n",
       "(Business Services                          1\n",
       "(Commercial Banking                         1\n",
       "(Tourism and Travel Services                1\n",
       "(Residential                                1\n",
       "(Electric Utilities                         1\n",
       "(Hospitals and Physicians                   1\n",
       "(NON                                        1\n",
       "Name: type, dtype: int64"
      ]
     },
     "execution_count": 77,
     "metadata": {},
     "output_type": "execute_result"
    }
   ],
   "source": [
    "dttt['type'].value_counts()"
   ]
  },
  {
   "cell_type": "code",
   "execution_count": null,
   "metadata": {},
   "outputs": [],
   "source": [
    "dates = []\n",
    "for i in range(len(dttt)):\n",
    "    dates.append(dttt['Date'][i])\n",
    "dttt['date_str'] = dates"
   ]
  },
  {
   "cell_type": "code",
   "execution_count": null,
   "metadata": {},
   "outputs": [],
   "source": [
    "dttt['Date'].hist()"
   ]
  },
  {
   "cell_type": "code",
   "execution_count": 51,
   "metadata": {},
   "outputs": [
    {
     "data": {
      "text/plain": [
       "<matplotlib.axes._subplots.AxesSubplot at 0xb7afbe0>"
      ]
     },
     "execution_count": 51,
     "metadata": {},
     "output_type": "execute_result"
    },
    {
     "data": {
      "image/png": "[encoded data removed]",
      "text/plain": [
       "<Figure size 1440x936 with 1 Axes>"
      ]
     },
     "metadata": {},
     "output_type": "display_data"
    }
   ],
   "source": [
    "%matplotlib inline\n",
    "dttt.plot(kind=\"bar\",x=\"Date\", y=\"Reported funding float\",figsize=(20,13))"
   ]
  },
  {
   "cell_type": "code",
   "execution_count": null,
   "metadata": {
    "collapsed": true
   },
   "outputs": [],
   "source": [
    "1,000,000,000"
   ]
  }
 ],
 "metadata": {
  "anaconda-cloud": {},
  "kernelspec": {
   "display_name": "Python 3",
   "language": "python",
   "name": "python3"
  },
  "language_info": {
   "codemirror_mode": {
    "name": "ipython",
    "version": 3
   },
   "file_extension": ".py",
   "mimetype": "text/x-python",
   "name": "python",
   "nbconvert_exporter": "python",
   "pygments_lexer": "ipython3",
   "version": "3.7.1"
  }
 },
 "nbformat": 4,
 "nbformat_minor": 2
}
