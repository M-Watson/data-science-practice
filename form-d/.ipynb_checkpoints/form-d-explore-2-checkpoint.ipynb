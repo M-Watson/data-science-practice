{
 "cells": [
  {
   "cell_type": "code",
   "execution_count": 1,
   "metadata": {
    "collapsed": true
   },
   "outputs": [],
   "source": [
    "import pandas as pd\n",
    "import re\n",
    "%matplotlib inline"
   ]
  },
  {
   "cell_type": "code",
   "execution_count": 2,
   "metadata": {
    "collapsed": true
   },
   "outputs": [],
   "source": [
    "page = str(1)\n",
    "url = \"http://formds.com/locales/washington-dc?page=%s\"%page"
   ]
  },
  {
   "cell_type": "code",
   "execution_count": 3,
   "metadata": {
    "collapsed": true
   },
   "outputs": [],
   "source": [
    "def name_type_parse(df):\n",
    "    type_par_list = []\n",
    "    loc_list = []\n",
    "    type_list = []\n",
    "    for item in df['Company']:\n",
    "        try:\n",
    "            type_par = re.findall(r\"\\([^()]*\\)\",str(item))\n",
    "            type_par_str = type_par[0]\n",
    "\n",
    "\n",
    "            loc_f = re.findall(r\"\\-(.*)\",type_par_str)\n",
    "            loc_str = loc_f[0]\n",
    "\n",
    "\n",
    "            type_f = re.findall(r\"(.*)\\-\",type_par_str)\n",
    "            type_str = type_f[0]\n",
    "\n",
    "            type_list.append(type_str)\n",
    "            loc_list.append(loc_str)\n",
    "        except:\n",
    "            type_list.append(\"Not Found\")\n",
    "            loc_list.append(\"Not Found\")\n",
    "        \n",
    "    df['loc'] = loc_list\n",
    "    df['type'] = type_list\n",
    "    return(df)\n",
    "    "
   ]
  },
  {
   "cell_type": "code",
   "execution_count": 36,
   "metadata": {
    "collapsed": true
   },
   "outputs": [],
   "source": [
    "def inc_cash_clean(df):\n",
    "    inc_cash_list = []\n",
    "    for item in df['Incremental Cash ']:\n",
    "        if '$' not in item: item = '$-10'\n",
    "        item = item.replace(\"$\", \"\")\n",
    "        item = item.replace(\",\", \"\")\n",
    "        inc_cash_list.append(float(item))\n",
    "    df['Incremental Cash float'] = inc_cash_list\n",
    "    \n",
    "    return(df)"
   ]
  },
  {
   "cell_type": "code",
   "execution_count": 5,
   "metadata": {
    "collapsed": true
   },
   "outputs": [],
   "source": [
    "def rep_cash_clean(df):\n",
    "    rep_cash_list = []\n",
    "    for item in df['Reported funding']:\n",
    "        item = item.replace(\"$\", \"\")\n",
    "        item = item.replace(\",\", \"\")\n",
    "        try:\n",
    "            if float(item) < 100000000:\n",
    "                rep_cash_list.append(float(item))\n",
    "            else:\n",
    "                rep_cash_list.append(30000001)\n",
    "        except:\n",
    "            rep_cash_list.append(0)\n",
    "    df['Reported funding float'] = rep_cash_list\n",
    "    \n",
    "    return(df)"
   ]
  },
  {
   "cell_type": "code",
   "execution_count": 6,
   "metadata": {
    "collapsed": true
   },
   "outputs": [],
   "source": [
    "def append_new_page(old_df,next_page):\n",
    "    #old_df = old_df_as_list[0]\n",
    "    url = \"http://formds.com/locales/washington-dc?page=%s\"%str(next_page)\n",
    "    \n",
    "    new_df_as_list = pd.read_html(url,header =None)\n",
    "    new_df = new_df_as_list[0]\n",
    "    \n",
    "    out_df = old_df.append(new_df,ignore_index=True)\n",
    "    \n",
    "    return(out_df)"
   ]
  },
  {
   "cell_type": "code",
   "execution_count": 7,
   "metadata": {
    "collapsed": true
   },
   "outputs": [],
   "source": [
    "def date_to_year(df):\n",
    "    year_list = []\n",
    "    for item in df['Date']:\n",
    "        year_month = re.match(r\"(.*)\\-\",item)\n",
    "        year = re.match(r\"(.*)\\-\",year_month.group(1))\n",
    "        year_str = year.group(1)\n",
    "        year_list.append(year_str)\n",
    "    df['Year'] = year_list\n",
    "    return(df)"
   ]
  },
  {
   "cell_type": "code",
   "execution_count": 8,
   "metadata": {
    "collapsed": true
   },
   "outputs": [],
   "source": [
    "def df_column_clean(df):\n",
    "    \n",
    "    df_1 = inc_cash_clean(df)\n",
    "    df_2 = rep_cash_clean(df_1)\n",
    "    df_3 = name_type_parse(df_2)\n",
    "    df_4 = date_to_year(df_3)\n",
    "    \n",
    "    \n",
    "    df_final = df_4\n",
    "    return(df_final)"
   ]
  },
  {
   "cell_type": "code",
   "execution_count": 30,
   "metadata": {
    "collapsed": false
   },
   "outputs": [
    {
     "name": "stdout",
     "output_type": "stream",
     "text": [
      "Pulling page 10\n",
      "Pulling page 20\n",
      "Pulling page 30\n",
      "Pulling page 40\n",
      "Pulling page 50\n",
      "Pulling page 60\n",
      "Pulling page 70\n",
      "Pulling page 80\n",
      "Pulling page 90\n",
      "Pulling page 100\n",
      "Pulling page 110\n",
      "Pulling page 120\n",
      "Pulling page 130\n",
      "Pulling page 140\n",
      "Pulling page 150\n",
      "Pulling page 160\n",
      "Pulling page 170\n",
      "Pulling page 180\n",
      "Pulling page 190\n",
      "Pulling page 200\n"
     ]
    }
   ],
   "source": [
    "data = pd.read_html(url,header =None)\n",
    "old_df = data[0]\n",
    "\n",
    "for i in range(2,202):\n",
    "\n",
    "    if i%10 == 0:\n",
    "        print('Pulling page %s'%str(i))\n",
    "                             \n",
    "    new_df = append_new_page(old_df,i)\n",
    "    old_df = new_df\n",
    "\n",
    "              \n",
    "full_df = old_df\n",
    "    \n",
    "dt = full_df\n",
    "#dt = dt.drop(0)"
   ]
  },
  {
   "cell_type": "code",
   "execution_count": 169,
   "metadata": {
    "collapsed": false
   },
   "outputs": [],
   "source": [
    "dt.to_csv('form-d-200pg-pull.csv')"
   ]
  },
  {
   "cell_type": "code",
   "execution_count": 33,
   "metadata": {
    "collapsed": false
   },
   "outputs": [
    {
     "data": {
      "text/plain": [
       "6030"
      ]
     },
     "execution_count": 33,
     "metadata": {},
     "output_type": "execute_result"
    }
   ],
   "source": [
    "\n",
    "dtt =dt.copy()\n",
    "dtt.keys()\n",
    "len(dtt)\n"
   ]
  },
  {
   "cell_type": "code",
   "execution_count": 15,
   "metadata": {
    "collapsed": false
   },
   "outputs": [
    {
     "data": {
      "text/html": [
       "<div>\n",
       "<table border=\"1\" class=\"dataframe\">\n",
       "  <thead>\n",
       "    <tr style=\"text-align: right;\">\n",
       "      <th></th>\n",
       "      <th>Company</th>\n",
       "      <th>New Filing?</th>\n",
       "      <th>Reported funding</th>\n",
       "      <th>Incremental Cash</th>\n",
       "      <th>Date</th>\n",
       "      <th>New or Amended</th>\n",
       "    </tr>\n",
       "  </thead>\n",
       "  <tbody>\n",
       "    <tr>\n",
       "      <th>0</th>\n",
       "      <td>FDS Nolensville Holdings, LLC  (Commercial - A...</td>\n",
       "      <td>Yes</td>\n",
       "      <td>$3,772,426</td>\n",
       "      <td>$3,772,426</td>\n",
       "      <td>2019-02-13</td>\n",
       "      <td>New Filing</td>\n",
       "    </tr>\n",
       "    <tr>\n",
       "      <th>1</th>\n",
       "      <td>PH Group Parent Corp.  (Business Services - Ar...</td>\n",
       "      <td>Yes</td>\n",
       "      <td>$18,729,702</td>\n",
       "      <td>$18,729,702</td>\n",
       "      <td>2019-02-13</td>\n",
       "      <td>New Filing</td>\n",
       "    </tr>\n",
       "    <tr>\n",
       "      <th>2</th>\n",
       "      <td>Monsoon India Dynamic Alpha Fund, L.P.  (Poole...</td>\n",
       "      <td>No</td>\n",
       "      <td>$20,391,555</td>\n",
       "      <td>$4,816,355</td>\n",
       "      <td>2019-02-12</td>\n",
       "      <td>Amended</td>\n",
       "    </tr>\n",
       "    <tr>\n",
       "      <th>3</th>\n",
       "      <td>Remine Inc.  (Other Technology - Fairfax, VA)</td>\n",
       "      <td>Yes</td>\n",
       "      <td>$29,683,058</td>\n",
       "      <td>$29,683,058</td>\n",
       "      <td>2019-02-12</td>\n",
       "      <td>New Filing</td>\n",
       "    </tr>\n",
       "    <tr>\n",
       "      <th>4</th>\n",
       "      <td>Nisos Holdings Inc.  (Other Technology - Alexa...</td>\n",
       "      <td>Yes</td>\n",
       "      <td>$6,100,000</td>\n",
       "      <td>$6,100,000</td>\n",
       "      <td>2019-02-12</td>\n",
       "      <td>New Filing</td>\n",
       "    </tr>\n",
       "  </tbody>\n",
       "</table>\n",
       "</div>"
      ],
      "text/plain": [
       "                                             Company New Filing?  \\\n",
       "0  FDS Nolensville Holdings, LLC  (Commercial - A...         Yes   \n",
       "1  PH Group Parent Corp.  (Business Services - Ar...         Yes   \n",
       "2  Monsoon India Dynamic Alpha Fund, L.P.  (Poole...          No   \n",
       "3      Remine Inc.  (Other Technology - Fairfax, VA)         Yes   \n",
       "4  Nisos Holdings Inc.  (Other Technology - Alexa...         Yes   \n",
       "\n",
       "  Reported funding Incremental Cash         Date New or Amended  \n",
       "0       $3,772,426        $3,772,426  2019-02-13     New Filing  \n",
       "1      $18,729,702       $18,729,702  2019-02-13     New Filing  \n",
       "2      $20,391,555        $4,816,355  2019-02-12        Amended  \n",
       "3      $29,683,058       $29,683,058  2019-02-12     New Filing  \n",
       "4       $6,100,000        $6,100,000  2019-02-12     New Filing  "
      ]
     },
     "execution_count": 15,
     "metadata": {},
     "output_type": "execute_result"
    }
   ],
   "source": [
    "dtt.head()"
   ]
  },
  {
   "cell_type": "code",
   "execution_count": 34,
   "metadata": {
    "collapsed": false
   },
   "outputs": [
    {
     "data": {
      "text/html": [
       "<div>\n",
       "<table border=\"1\" class=\"dataframe\">\n",
       "  <thead>\n",
       "    <tr style=\"text-align: right;\">\n",
       "      <th></th>\n",
       "      <th>Company</th>\n",
       "      <th>New Filing?</th>\n",
       "      <th>Reported funding</th>\n",
       "      <th>Incremental Cash</th>\n",
       "      <th>Date</th>\n",
       "      <th>New or Amended</th>\n",
       "    </tr>\n",
       "  </thead>\n",
       "  <tbody>\n",
       "    <tr>\n",
       "      <th>count</th>\n",
       "      <td>6030</td>\n",
       "      <td>6030</td>\n",
       "      <td>6030</td>\n",
       "      <td>6030</td>\n",
       "      <td>6030</td>\n",
       "      <td>6030</td>\n",
       "    </tr>\n",
       "    <tr>\n",
       "      <th>unique</th>\n",
       "      <td>3062</td>\n",
       "      <td>2</td>\n",
       "      <td>3266</td>\n",
       "      <td>2792</td>\n",
       "      <td>2070</td>\n",
       "      <td>2</td>\n",
       "    </tr>\n",
       "    <tr>\n",
       "      <th>top</th>\n",
       "      <td>Verte Capital, LLC  (Pooled Investment Fund - ...</td>\n",
       "      <td>Yes</td>\n",
       "      <td>Yet to Sell</td>\n",
       "      <td>$0</td>\n",
       "      <td>2012-03-15</td>\n",
       "      <td>New Filing</td>\n",
       "    </tr>\n",
       "    <tr>\n",
       "      <th>freq</th>\n",
       "      <td>27</td>\n",
       "      <td>4047</td>\n",
       "      <td>686</td>\n",
       "      <td>1322</td>\n",
       "      <td>33</td>\n",
       "      <td>4047</td>\n",
       "    </tr>\n",
       "  </tbody>\n",
       "</table>\n",
       "</div>"
      ],
      "text/plain": [
       "                                                  Company New Filing?  \\\n",
       "count                                                6030        6030   \n",
       "unique                                               3062           2   \n",
       "top     Verte Capital, LLC  (Pooled Investment Fund - ...         Yes   \n",
       "freq                                                   27        4047   \n",
       "\n",
       "       Reported funding Incremental Cash         Date New or Amended  \n",
       "count              6030              6030        6030           6030  \n",
       "unique             3266              2792        2070              2  \n",
       "top         Yet to Sell                $0  2012-03-15     New Filing  \n",
       "freq                686              1322          33           4047  "
      ]
     },
     "execution_count": 34,
     "metadata": {},
     "output_type": "execute_result"
    }
   ],
   "source": [
    "dt.describe()"
   ]
  },
  {
   "cell_type": "code",
   "execution_count": 37,
   "metadata": {
    "collapsed": false
   },
   "outputs": [],
   "source": [
    "dfc = df_column_clean(dtt)\n"
   ]
  },
  {
   "cell_type": "code",
   "execution_count": 38,
   "metadata": {
    "collapsed": false
   },
   "outputs": [
    {
     "data": {
      "text/html": [
       "<div>\n",
       "<table border=\"1\" class=\"dataframe\">\n",
       "  <thead>\n",
       "    <tr style=\"text-align: right;\">\n",
       "      <th></th>\n",
       "      <th>Incremental Cash float</th>\n",
       "      <th>Reported funding float</th>\n",
       "    </tr>\n",
       "  </thead>\n",
       "  <tbody>\n",
       "    <tr>\n",
       "      <th>count</th>\n",
       "      <td>6.030000e+03</td>\n",
       "      <td>6.030000e+03</td>\n",
       "    </tr>\n",
       "    <tr>\n",
       "      <th>mean</th>\n",
       "      <td>4.202814e+07</td>\n",
       "      <td>1.278839e+07</td>\n",
       "    </tr>\n",
       "    <tr>\n",
       "      <th>std</th>\n",
       "      <td>2.980532e+08</td>\n",
       "      <td>1.924291e+07</td>\n",
       "    </tr>\n",
       "    <tr>\n",
       "      <th>min</th>\n",
       "      <td>-1.000000e+01</td>\n",
       "      <td>0.000000e+00</td>\n",
       "    </tr>\n",
       "    <tr>\n",
       "      <th>25%</th>\n",
       "      <td>0.000000e+00</td>\n",
       "      <td>2.100000e+05</td>\n",
       "    </tr>\n",
       "    <tr>\n",
       "      <th>50%</th>\n",
       "      <td>7.491250e+05</td>\n",
       "      <td>2.330000e+06</td>\n",
       "    </tr>\n",
       "    <tr>\n",
       "      <th>75%</th>\n",
       "      <td>6.359242e+06</td>\n",
       "      <td>2.748232e+07</td>\n",
       "    </tr>\n",
       "    <tr>\n",
       "      <th>max</th>\n",
       "      <td>1.313696e+10</td>\n",
       "      <td>9.999600e+07</td>\n",
       "    </tr>\n",
       "  </tbody>\n",
       "</table>\n",
       "</div>"
      ],
      "text/plain": [
       "       Incremental Cash float  Reported funding float\n",
       "count            6.030000e+03            6.030000e+03\n",
       "mean             4.202814e+07            1.278839e+07\n",
       "std              2.980532e+08            1.924291e+07\n",
       "min             -1.000000e+01            0.000000e+00\n",
       "25%              0.000000e+00            2.100000e+05\n",
       "50%              7.491250e+05            2.330000e+06\n",
       "75%              6.359242e+06            2.748232e+07\n",
       "max              1.313696e+10            9.999600e+07"
      ]
     },
     "execution_count": 38,
     "metadata": {},
     "output_type": "execute_result"
    }
   ],
   "source": [
    "dfc.describe()"
   ]
  },
  {
   "cell_type": "code",
   "execution_count": 22,
   "metadata": {
    "collapsed": false
   },
   "outputs": [
    {
     "data": {
      "text/plain": [
       "Index(['Company', 'New Filing?', 'Reported funding', 'Incremental Cash ',\n",
       "       'Date', 'New or Amended', 'Incremental Cash float',\n",
       "       'Reported funding float', 'loc', 'type', 'Year'],\n",
       "      dtype='object')"
      ]
     },
     "execution_count": 22,
     "metadata": {},
     "output_type": "execute_result"
    }
   ],
   "source": [
    "dfc.keys()"
   ]
  },
  {
   "cell_type": "code",
   "execution_count": 101,
   "metadata": {
    "collapsed": false
   },
   "outputs": [],
   "source": [
    "a = dfc['type'].value_counts()\n",
    "\n",
    "x = []\n",
    "y = []\n",
    "\n",
    "for item in a.keys():\n",
    "    #x.append(int(item))\n",
    "    x.append(item)\n",
    "for other_item in x:\n",
    "    y.append(a[str(other_item)])\n",
    "    "
   ]
  },
  {
   "cell_type": "code",
   "execution_count": 74,
   "metadata": {
    "collapsed": true
   },
   "outputs": [],
   "source": [
    "dates = []\n",
    "for i in range(len(dfc)):\n",
    "    dates.append(dfc['Date'][i])\n",
    "dfc['date_str'] = dates"
   ]
  },
  {
   "cell_type": "code",
   "execution_count": null,
   "metadata": {
    "collapsed": false
   },
   "outputs": [],
   "source": [
    "dfc['Date'].hist()"
   ]
  },
  {
   "cell_type": "code",
   "execution_count": null,
   "metadata": {
    "collapsed": false
   },
   "outputs": [],
   "source": [
    "%matplotlib inline\n",
    "dttt.plot(kind=\"bar\",x=\"Date\", y=\"Reported funding float\",figsize=(20,13))"
   ]
  },
  {
   "cell_type": "code",
   "execution_count": 171,
   "metadata": {
    "collapsed": false
   },
   "outputs": [
    {
     "data": {
      "text/plain": [
       "2018    787\n",
       "2015    733\n",
       "2014    725\n",
       "2016    709\n",
       "2017    697\n",
       "2013    580\n",
       "2011    500\n",
       "2012    469\n",
       "2010    454\n",
       "2009    273\n",
       "2019    103\n",
       "Name: Year, dtype: int64"
      ]
     },
     "execution_count": 171,
     "metadata": {},
     "output_type": "execute_result"
    }
   ],
   "source": [
    "dfc['Year'].value_counts()"
   ]
  },
  {
   "cell_type": "code",
   "execution_count": 109,
   "metadata": {
    "collapsed": false
   },
   "outputs": [
    {
     "data": {
      "text/plain": [
       "<BarContainer object of 10 artists>"
      ]
     },
     "execution_count": 109,
     "metadata": {},
     "output_type": "execute_result"
    },
    {
     "data": {
      "image/png": "[encoded data removed]",
      "text/plain": [
       "<Figure size 1440x720 with 1 Axes>"
      ]
     },
     "metadata": {},
     "output_type": "display_data"
    }
   ],
   "source": [
    "xx = []\n",
    "yy = []\n",
    "\n",
    "for i in range(10):\n",
    "    xx.append(x[i])\n",
    "    yy.append(y[i])\n",
    "plt.figure(figsize=(20,10))\n",
    "plt.bar(x=xx,height=yy)\n"
   ]
  },
  {
   "cell_type": "code",
   "execution_count": 155,
   "metadata": {
    "collapsed": false
   },
   "outputs": [
    {
     "data": {
      "text/plain": [
       "type                           Year\n",
       "(Agriculture                   2009     1\n",
       "                               2010     1\n",
       "                               2011     1\n",
       "                               2015     4\n",
       "                               2016     2\n",
       "                               2017     1\n",
       "                               2018     1\n",
       "(Biotechnology                 2009     7\n",
       "                               2010    12\n",
       "                               2011    19\n",
       "                               2012    18\n",
       "                               2013    20\n",
       "                               2014    21\n",
       "                               2015    24\n",
       "                               2016    22\n",
       "                               2017    19\n",
       "                               2018    21\n",
       "                               2019     2\n",
       "(Business Services             2009     9\n",
       "                               2010    16\n",
       "                               2011    11\n",
       "                               2012    10\n",
       "                               2013    12\n",
       "                               2014     7\n",
       "                               2015     9\n",
       "                               2016     2\n",
       "                               2017     4\n",
       "                               2018     6\n",
       "                               2019     1\n",
       "(Co                            2009     1\n",
       "                                       ..\n",
       "(Retailing                     2012     1\n",
       "                               2013     8\n",
       "                               2014    17\n",
       "                               2015     8\n",
       "                               2016     6\n",
       "                               2017     8\n",
       "                               2018    10\n",
       "(Telecommunications            2009     7\n",
       "                               2010     1\n",
       "                               2011     8\n",
       "                               2012     3\n",
       "                               2013    15\n",
       "                               2014     7\n",
       "                               2015     3\n",
       "                               2016     5\n",
       "                               2017     4\n",
       "                               2018     5\n",
       "(Tourism and Travel Services   2017     1\n",
       "                               2018     2\n",
       "Not Found                      2009     2\n",
       "                               2010    11\n",
       "                               2011    14\n",
       "                               2012     4\n",
       "                               2013    15\n",
       "                               2014    14\n",
       "                               2015    13\n",
       "                               2016    14\n",
       "                               2017    15\n",
       "                               2018    11\n",
       "                               2019     1\n",
       "dtype: int64"
      ]
     },
     "execution_count": 155,
     "metadata": {},
     "output_type": "execute_result"
    }
   ],
   "source": [
    "dfc_2 = dfc.copy()\n",
    "dfc_2 = dfc_2.groupby([\"type\", \"Year\"]).size()\n",
    "dfc_2"
   ]
  },
  {
   "cell_type": "code",
   "execution_count": 167,
   "metadata": {
    "collapsed": false
   },
   "outputs": [],
   "source": [
    "x = [2009,2010,2011,2012,2013,2014,2015,2016,2017,2018,2019]\n",
    "\n",
    "y_pooled = dfc_2['(Pooled Investment Fund ']\n",
    "y_pool_der = y_pooled.diff()\n",
    "y_pool_inf = y_pool_der.diff()\n",
    "\n",
    "y_other_tech = dfc_2['(Other Technology '] + dfc_2['(Biotechnology '] +  dfc_2['(Other ']\n",
    "y_other_der = y_other_tech.diff()\n",
    "y_other_inf = y_other_der.diff()\n",
    "    "
   ]
  },
  {
   "cell_type": "code",
   "execution_count": 165,
   "metadata": {
    "collapsed": false
   },
   "outputs": [
    {
     "data": {
      "text/plain": [
       "[<matplotlib.lines.Line2D at 0x25ca1748>]"
      ]
     },
     "execution_count": 165,
     "metadata": {},
     "output_type": "execute_result"
    },
    {
     "data": {
      "image/png": "[encoded data removed]",
      "text/plain": [
       "<Figure size 432x288 with 1 Axes>"
      ]
     },
     "metadata": {},
     "output_type": "display_data"
    }
   ],
   "source": [
    "plt.plot(x,y_pool_der,'r')\n",
    "plt.plot(x,y_other_der)\n",
    "\n",
    "\n"
   ]
  },
  {
   "cell_type": "code",
   "execution_count": 166,
   "metadata": {
    "collapsed": false
   },
   "outputs": [
    {
     "data": {
      "text/plain": [
       "[<matplotlib.lines.Line2D at 0x25ce4da0>]"
      ]
     },
     "execution_count": 166,
     "metadata": {},
     "output_type": "execute_result"
    },
    {
     "data": {
      "image/png": "[encoded data removed]",
      "text/plain": [
       "<Figure size 432x288 with 1 Axes>"
      ]
     },
     "metadata": {},
     "output_type": "display_data"
    }
   ],
   "source": [
    "plt.plot(x,y_pool_der-y_other_der)"
   ]
  },
  {
   "cell_type": "code",
   "execution_count": 170,
   "metadata": {
    "collapsed": false
   },
   "outputs": [
    {
     "data": {
      "text/plain": [
       "[<matplotlib.lines.Line2D at 0x25d268d0>]"
      ]
     },
     "execution_count": 170,
     "metadata": {},
     "output_type": "execute_result"
    },
    {
     "data": {
      "image/png": "[encoded data removed]",
      "text/plain": [
       "<Figure size 1440x720 with 1 Axes>"
      ]
     },
     "metadata": {},
     "output_type": "display_data"
    }
   ],
   "source": [
    "plt.figure(figsize=(20,10))\n",
    "plt.plot(x,y_pool_inf,'r')\n",
    "plt.plot(x,y_other_inf)\n"
   ]
  },
  {
   "cell_type": "code",
   "execution_count": null,
   "metadata": {
    "collapsed": true
   },
   "outputs": [],
   "source": []
  }
 ],
 "metadata": {
  "anaconda-cloud": {},
  "kernelspec": {
   "display_name": "Python [default]",
   "language": "python",
   "name": "python3"
  },
  "language_info": {
   "codemirror_mode": {
    "name": "ipython",
    "version": 3
   },
   "file_extension": ".py",
   "mimetype": "text/x-python",
   "name": "python",
   "nbconvert_exporter": "python",
   "pygments_lexer": "ipython3",
   "version": "3.5.4"
  }
 },
 "nbformat": 4,
 "nbformat_minor": 2
}
